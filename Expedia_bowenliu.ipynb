{
 "cells": [
  {
   "cell_type": "code",
   "execution_count": 2,
   "metadata": {
    "collapsed": false
   },
   "outputs": [],
   "source": [
    "import datetime\n",
    "import pandas as pd\n",
    "import numpy as np\n",
    "import matplotlib.pyplot as plt\n",
    "%matplotlib inline\n",
    "\n",
    "from sklearn.ensemble import RandomForestClassifier\n",
    "from sklearn.cross_validation import train_test_split\n",
    "import ml_metrics as metrics"
   ]
  },
  {
   "cell_type": "markdown",
   "metadata": {},
   "source": [
    "# Data Engineering"
   ]
  },
  {
   "cell_type": "code",
   "execution_count": 3,
   "metadata": {
    "collapsed": true
   },
   "outputs": [],
   "source": [
    "dtype_train ={'is_booking':bool,\n",
    "            'srch_ci' : np.str_,\n",
    "            'srch_co' : np.str_,\n",
    "            'srch_adults_cnt' : np.int32,\n",
    "            'srch_children_cnt' : np.int32,\n",
    "            'srch_rm_cnt' : np.int32,\n",
    "            'srch_destination_id':np.str_,\n",
    "            'user_location_country' : np.str_,\n",
    "            'user_location_region' : np.str_,\n",
    "            'user_location_city' : np.str_,\n",
    "            'hotel_cluster' : np.str_,\n",
    "            'orig_destination_distance':np.float64,\n",
    "            'date_time':np.str_,\n",
    "            'hotel_market':np.str_}"
   ]
  },
  {
   "cell_type": "code",
   "execution_count": 1,
   "metadata": {
    "collapsed": false
   },
   "outputs": [
    {
     "ename": "NameError",
     "evalue": "name 'pd' is not defined",
     "output_type": "error",
     "traceback": [
      "\u001b[0;31m---------------------------------------------------------------------------\u001b[0m",
      "\u001b[0;31mNameError\u001b[0m                                 Traceback (most recent call last)",
      "\u001b[0;32m<ipython-input-1-2ccde6685da5>\u001b[0m in \u001b[0;36m<module>\u001b[0;34m()\u001b[0m\n\u001b[1;32m      1\u001b[0m \u001b[0;31m# load train data\u001b[0m\u001b[0;34m\u001b[0m\u001b[0;34m\u001b[0m\u001b[0m\n\u001b[0;32m----> 2\u001b[0;31m \u001b[0mtrain\u001b[0m \u001b[0;34m=\u001b[0m \u001b[0mpd\u001b[0m\u001b[0;34m.\u001b[0m\u001b[0mread_csv\u001b[0m\u001b[0;34m(\u001b[0m\u001b[0;34m'train.csv'\u001b[0m\u001b[0;34m,\u001b[0m \u001b[0mparse_dates\u001b[0m \u001b[0;34m=\u001b[0m \u001b[0;34m[\u001b[0m\u001b[0;34m'date_time'\u001b[0m\u001b[0;34m]\u001b[0m\u001b[0;34m,\u001b[0m \u001b[0msep\u001b[0m \u001b[0;34m=\u001b[0m \u001b[0;34m','\u001b[0m\u001b[0;34m,\u001b[0m \u001b[0mnrows\u001b[0m \u001b[0;34m=\u001b[0m \u001b[0;36m2000000\u001b[0m\u001b[0;34m)\u001b[0m\u001b[0;34m\u001b[0m\u001b[0m\n\u001b[0m",
      "\u001b[0;31mNameError\u001b[0m: name 'pd' is not defined"
     ]
    }
   ],
   "source": [
    "# load train data\n",
    "train = pd.read_csv('train.csv', parse_dates = ['date_time'], sep = ',', nrows = 2000000)"
   ]
  },
  {
   "cell_type": "code",
   "execution_count": 4,
   "metadata": {
    "collapsed": true
   },
   "outputs": [],
   "source": [
    "# load train data\n",
    "train = pd.read_csv('train.csv', dtype = dtype_train, usecols = dtype_train, parse_dates = ['date_time'], sep = ',', nrows = 2000000)"
   ]
  },
  {
   "cell_type": "code",
   "execution_count": 5,
   "metadata": {
    "collapsed": false
   },
   "outputs": [
    {
     "name": "stdout",
     "output_type": "stream",
     "text": [
      "(2000000, 14)\n"
     ]
    }
   ],
   "source": [
    "print train.shape"
   ]
  },
  {
   "cell_type": "code",
   "execution_count": 6,
   "metadata": {
    "collapsed": false,
    "scrolled": true
   },
   "outputs": [
    {
     "name": "stdout",
     "output_type": "stream",
     "text": [
      "(107553, 13)\n"
     ]
    }
   ],
   "source": [
    "# special handling of train data, take only 2014 data and is_booking == True\n",
    "train['year'] = train['date_time'].dt.year\n",
    "train = train.query('is_booking==True & year==2014')\n",
    "train.drop(['year', 'is_booking'], axis=1, inplace = True)\n",
    "\n",
    "print train.shape"
   ]
  },
  {
   "cell_type": "code",
   "execution_count": 7,
   "metadata": {
    "collapsed": true
   },
   "outputs": [],
   "source": [
    "def prepare_data_before_modeling(df):\n",
    "    # add new predictors of plan_time and hotel_nights\n",
    "    df['srch_ci'] = pd.to_datetime(df['srch_ci'], infer_datetime_format = True, errors='coerce')\n",
    "    df['srch_co'] = pd.to_datetime(df['srch_co'], infer_datetime_format = True, errors='coerce')\n",
    "    df['plan_time'] = ((df['srch_ci'] - df['date_time']) / np.timedelta64(1,'D')).astype(float)\n",
    "    df['hotel_nights']=((df['srch_co'] - df['srch_ci']) / np.timedelta64(1,'D')).astype(float)\n",
    "    \n",
    "    # fill in the NAs\n",
    "    distance_mean = df.orig_destination_distance.mean()\n",
    "    df['orig_destination_distance'] = df.orig_destination_distance.fillna(distance_mean)\n",
    "    df.fillna(-1,inplace=True)\n",
    "    \n",
    "    # drop some unused columns\n",
    "    drop_columns = ['date_time', 'srch_ci', 'srch_co']\n",
    "    df.drop(drop_columns, axis=1, inplace = True)\n",
    "    \n",
    "    return df"
   ]
  },
  {
   "cell_type": "code",
   "execution_count": 8,
   "metadata": {
    "collapsed": false
   },
   "outputs": [
    {
     "data": {
      "text/plain": [
       "(107553, 12)"
      ]
     },
     "execution_count": 8,
     "metadata": {},
     "output_type": "execute_result"
    }
   ],
   "source": [
    "train = prepare_data_before_modeling(train)\n",
    "train.shape"
   ]
  },
  {
   "cell_type": "code",
   "execution_count": 9,
   "metadata": {
    "collapsed": false
   },
   "outputs": [
    {
     "data": {
      "text/plain": [
       "Index([u'user_location_country', u'user_location_region',\n",
       "       u'user_location_city', u'orig_destination_distance', u'srch_adults_cnt',\n",
       "       u'srch_children_cnt', u'srch_rm_cnt', u'srch_destination_id',\n",
       "       u'hotel_market', u'hotel_cluster', u'plan_time', u'hotel_nights'],\n",
       "      dtype='object')"
      ]
     },
     "execution_count": 9,
     "metadata": {},
     "output_type": "execute_result"
    }
   ],
   "source": [
    "train.columns"
   ]
  },
  {
   "cell_type": "markdown",
   "metadata": {},
   "source": [
    "# Modeling"
   ]
  },
  {
   "cell_type": "code",
   "execution_count": 10,
   "metadata": {
    "collapsed": false
   },
   "outputs": [],
   "source": [
    "# split the train into train and validation sets\n",
    "train_predictors, vali_predictors, train_labels, vali_labels = train_test_split(train.drop('hotel_cluster', axis = 1), train['hotel_cluster'], test_size = 0.3)"
   ]
  },
  {
   "cell_type": "code",
   "execution_count": 11,
   "metadata": {
    "collapsed": false
   },
   "outputs": [
    {
     "name": "stdout",
     "output_type": "stream",
     "text": [
      "(75287, 11) (75287,) (32266, 11) (32266,)\n"
     ]
    }
   ],
   "source": [
    "print train_predictors.shape, train_labels.shape, vali_predictors.shape, vali_labels.shape"
   ]
  },
  {
   "cell_type": "code",
   "execution_count": 12,
   "metadata": {
    "collapsed": false
   },
   "outputs": [
    {
     "data": {
      "text/plain": [
       "RandomForestClassifier(bootstrap=True, class_weight=None, criterion='gini',\n",
       "            max_depth=10, max_features='auto', max_leaf_nodes=None,\n",
       "            min_samples_leaf=1, min_samples_split=2,\n",
       "            min_weight_fraction_leaf=0.0, n_estimators=31, n_jobs=1,\n",
       "            oob_score=False, random_state=123, verbose=0, warm_start=False)"
      ]
     },
     "execution_count": 12,
     "metadata": {},
     "output_type": "execute_result"
    }
   ],
   "source": [
    "# apply random forest to train the model\n",
    "rf_tree = RandomForestClassifier(n_estimators = 31, max_depth = 10, random_state = 123)\n",
    "rf_tree.fit(train_predictors, train_labels)"
   ]
  },
  {
   "cell_type": "code",
   "execution_count": 13,
   "metadata": {
    "collapsed": false
   },
   "outputs": [
    {
     "data": {
      "text/plain": [
       "array([ 0.06158297,  0.07721577,  0.06804035,  0.12367223,  0.02739838,\n",
       "        0.01915325,  0.01340586,  0.19040283,  0.2787206 ,  0.08889477,\n",
       "        0.05151299])"
      ]
     },
     "execution_count": 13,
     "metadata": {},
     "output_type": "execute_result"
    }
   ],
   "source": [
    "# show the importance of each feature\n",
    "importance = rf_tree.feature_importances_\n",
    "importance"
   ]
  },
  {
   "cell_type": "code",
   "execution_count": 14,
   "metadata": {
    "collapsed": false
   },
   "outputs": [
    {
     "data": {
      "text/plain": [
       "array([ 6,  5,  4, 10,  0,  2,  1,  9,  3,  7,  8])"
      ]
     },
     "execution_count": 14,
     "metadata": {},
     "output_type": "execute_result"
    }
   ],
   "source": [
    "np.argsort(importance)"
   ]
  },
  {
   "cell_type": "code",
   "execution_count": 15,
   "metadata": {
    "collapsed": false
   },
   "outputs": [],
   "source": [
    "indices=np.argsort(importance)[::-1][:10]"
   ]
  },
  {
   "cell_type": "code",
   "execution_count": 16,
   "metadata": {
    "collapsed": false
   },
   "outputs": [
    {
     "data": {
      "text/plain": [
       "array([ 0.2787206 ,  0.19040283,  0.12367223,  0.08889477,  0.07721577,\n",
       "        0.06804035,  0.06158297,  0.05151299,  0.02739838,  0.01915325])"
      ]
     },
     "execution_count": 16,
     "metadata": {},
     "output_type": "execute_result"
    }
   ],
   "source": [
    "importance[indices]"
   ]
  },
  {
   "cell_type": "code",
   "execution_count": 17,
   "metadata": {
    "collapsed": false,
    "scrolled": false
   },
   "outputs": [
    {
     "data": {
      "image/png": "[encoded data removed]",
      "text/plain": [
       "<matplotlib.figure.Figure at 0x11983e450>"
      ]
     },
     "metadata": {},
     "output_type": "display_data"
    }
   ],
   "source": [
    "plt.barh(range(10), importance[indices],color='r')\n",
    "plt.yticks(range(10), train_predictors.columns[indices])\n",
    "plt.xlabel('Feature Importance')\n",
    "plt.show()"
   ]
  },
  {
   "cell_type": "code",
   "execution_count": 18,
   "metadata": {
    "collapsed": false
   },
   "outputs": [
    {
     "data": {
      "text/plain": [
       "array(['0', '1', '10', '11', '12', '13', '14', '15', '16', '17', '18',\n",
       "       '19', '2', '20', '21', '22', '23', '24', '25', '26', '27', '28',\n",
       "       '29', '3', '30', '31', '32', '33', '34', '35', '36', '37', '38',\n",
       "       '39', '4', '40', '41', '42', '43', '44', '45', '46', '47', '48',\n",
       "       '49', '5', '50', '51', '52', '53', '54', '55', '56', '57', '58',\n",
       "       '59', '6', '60', '61', '62', '63', '64', '65', '66', '67', '68',\n",
       "       '69', '7', '70', '71', '72', '73', '74', '75', '76', '77', '78',\n",
       "       '79', '8', '80', '81', '82', '83', '84', '85', '86', '87', '88',\n",
       "       '89', '9', '90', '91', '92', '93', '94', '95', '96', '97', '98',\n",
       "       '99'], dtype=object)"
      ]
     },
     "execution_count": 18,
     "metadata": {},
     "output_type": "execute_result"
    }
   ],
   "source": [
    "# show the clusters\n",
    "rf_tree.classes_"
   ]
  },
  {
   "cell_type": "code",
   "execution_count": 19,
   "metadata": {
    "collapsed": true
   },
   "outputs": [],
   "source": [
    "# function to return 5 prediction clusters\n",
    "def predict_clusters(model, predictors):\n",
    "    # save the cluster index in the model for later ranking\n",
    "    dict_clusters = {}\n",
    "    for (k,v) in enumerate(model.classes_):\n",
    "        dict_clusters[k] = v\n",
    "    \n",
    "    # validate the modeling\n",
    "    vali_predictions = model.predict_proba(predictors)\n",
    "    # take largest 5 probablities' index\n",
    "    clusters_index = vali_predictions.argsort(axis=1)[:, -5:]\n",
    "    \n",
    "    # get cluster name by 5 index\n",
    "    clusters = []\n",
    "    for index in clusters_index.flatten():\n",
    "        clusters.append(dict_clusters.get(index))\n",
    "    \n",
    "    # get the cluster predictions\n",
    "    cluster_predictions = np.array(clusters).reshape(clusters_index.shape)\n",
    "    \n",
    "    return cluster_predictions"
   ]
  },
  {
   "cell_type": "code",
   "execution_count": 20,
   "metadata": {
    "collapsed": false
   },
   "outputs": [
    {
     "data": {
      "text/plain": [
       "array([['78', '61', '62', '81', '82'],\n",
       "       ['82', '61', '81', '43', '36'],\n",
       "       ['67', '62', '36', '38', '82'],\n",
       "       ..., \n",
       "       ['28', '72', '48', '91', '42'],\n",
       "       ['72', '28', '48', '42', '91'],\n",
       "       ['64', '98', '21', '25', '59']], \n",
       "      dtype='|S2')"
      ]
     },
     "execution_count": 20,
     "metadata": {},
     "output_type": "execute_result"
    }
   ],
   "source": [
    "cluster_predictions = predict_clusters(rf_tree, vali_predictors)\n",
    "cluster_predictions"
   ]
  },
  {
   "cell_type": "code",
   "execution_count": 21,
   "metadata": {
    "collapsed": false
   },
   "outputs": [
    {
     "name": "stdout",
     "output_type": "stream",
     "text": [
      "('score:', 0.088023512882497587)\n"
     ]
    }
   ],
   "source": [
    "# calculate the scores\n",
    "print(\"score:\", metrics.mapk(vali_labels, cluster_predictions, k=5))"
   ]
  },
  {
   "cell_type": "markdown",
   "metadata": {},
   "source": [
    "# Test Modeling"
   ]
  },
  {
   "cell_type": "code",
   "execution_count": 22,
   "metadata": {
    "collapsed": true
   },
   "outputs": [],
   "source": [
    "dtype_test ={'srch_ci' : np.str_,\n",
    "            'srch_co' : np.str_,\n",
    "            'srch_adults_cnt' : np.int32,\n",
    "            'srch_children_cnt' : np.int32,\n",
    "            'srch_rm_cnt' : np.int32,\n",
    "            'srch_destination_id':np.str_,\n",
    "            'user_location_country' : np.str_,\n",
    "            'user_location_region' : np.str_,\n",
    "            'user_location_city' : np.str_,\n",
    "            'orig_destination_distance':np.float64,\n",
    "            'date_time':np.str_,\n",
    "            'hotel_market':np.str_}"
   ]
  },
  {
   "cell_type": "code",
   "execution_count": 31,
   "metadata": {
    "collapsed": false
   },
   "outputs": [],
   "source": [
    "# load test data\n",
    "test = pd.read_csv('test.csv', dtype = dtype_test, usecols = dtype_test, parse_dates = ['date_time'], sep = ',', nrows = 1000000)"
   ]
  },
  {
   "cell_type": "code",
   "execution_count": 32,
   "metadata": {
    "collapsed": false
   },
   "outputs": [
    {
     "data": {
      "text/plain": [
       "(1000000, 11)"
      ]
     },
     "execution_count": 32,
     "metadata": {},
     "output_type": "execute_result"
    }
   ],
   "source": [
    "# feature cleaning\n",
    "test = prepare_data_before_modeling(test)\n",
    "test.shape"
   ]
  },
  {
   "cell_type": "code",
   "execution_count": 33,
   "metadata": {
    "collapsed": false
   },
   "outputs": [
    {
     "data": {
      "text/plain": [
       "array([['11', '25', '5', '37', '64'],\n",
       "       ['62', '58', '36', '67', '82'],\n",
       "       ['28', '15', '61', '21', '91'],\n",
       "       ..., \n",
       "       ['95', '18', '42', '48', '91'],\n",
       "       ['32', '7', '91', '42', '48'],\n",
       "       ['50', '32', '42', '48', '91']], \n",
       "      dtype='|S2')"
      ]
     },
     "execution_count": 33,
     "metadata": {},
     "output_type": "execute_result"
    }
   ],
   "source": [
    "# apply model on test set\n",
    "predictions_test = predict_clusters(rf_tree, test)\n",
    "predictions_test"
   ]
  },
  {
   "cell_type": "code",
   "execution_count": 34,
   "metadata": {
    "collapsed": false
   },
   "outputs": [
    {
     "data": {
      "text/plain": [
       "1000000"
      ]
     },
     "execution_count": 34,
     "metadata": {},
     "output_type": "execute_result"
    }
   ],
   "source": [
    "len(predictions_test)"
   ]
  },
  {
   "cell_type": "markdown",
   "metadata": {},
   "source": [
    "# Output test results"
   ]
  },
  {
   "cell_type": "code",
   "execution_count": 35,
   "metadata": {
    "collapsed": false
   },
   "outputs": [
    {
     "data": {
      "text/plain": [
       "['11 25 5 37 64',\n",
       " '62 58 36 67 82',\n",
       " '28 15 61 21 91',\n",
       " '24 54 45 79 1',\n",
       " '16 28 48 42 91',\n",
       " '32 28 48 42 91',\n",
       " '98 18 48 42 91',\n",
       " '59 18 48 95 91',\n",
       " '91 79 24 45 1',\n",
       " '21 4 48 95 91',\n",
       " '18 21 70 98 91',\n",
       " '18 48 6 91 59',\n",
       " '91 78 38 43 30',\n",
       " '67 39 78 36 43',\n",
       " '36 91 99 16 97',\n",
       " '16 97 20 99 43',\n",
       " '56 34 43 38 30',\n",
       " '58 38 43 62 20',\n",
       " '86 91 43 99 36',\n",
       " '78 38 43 30 20',\n",
       " '16 86 43 36 99',\n",
       " '82 43 78 29 36',\n",
       " '61 65 31 67 43',\n",
       " '44 78 30 36 43',\n",
       " '70 43 41 56 98',\n",
       " '69 41 98 70 56',\n",
       " '59 81 64 62 46',\n",
       " '16 50 39 48 91',\n",
       " '32 7 42 48 91',\n",
       " '26 87 52 66 65',\n",
       " '59 58 29 2 64',\n",
       " '6 62 50 77 40',\n",
       " '16 32 42 48 91',\n",
       " '88 24 45 79 1',\n",
       " '91 4 70 98 19',\n",
       " '32 28 42 48 91',\n",
       " '32 7 48 42 91',\n",
       " '28 32 42 48 91',\n",
       " '99 82 98 64 46',\n",
       " '19 48 42 70 91',\n",
       " '62 36 46 58 63',\n",
       " '9 58 64 36 46',\n",
       " '16 47 42 48 91',\n",
       " '24 54 79 45 1',\n",
       " '21 95 28 55 91',\n",
       " '72 41 48 42 91',\n",
       " '16 50 42 48 91',\n",
       " '72 28 48 42 91',\n",
       " '59 48 11 4 21',\n",
       " '32 39 51 48 91',\n",
       " '42 16 77 48 91',\n",
       " '77 16 42 48 91',\n",
       " '50 32 48 42 91',\n",
       " '62 36 43 67 82',\n",
       " '11 2 5 25 64',\n",
       " '28 32 42 48 91',\n",
       " '32 42 39 91 48',\n",
       " '16 48 28 42 91',\n",
       " '7 43 48 42 91',\n",
       " '32 28 42 48 91',\n",
       " '48 95 18 91 59',\n",
       " '28 16 48 42 91',\n",
       " '82 67 62 46 36',\n",
       " '36 59 99 46 64',\n",
       " '46 11 66 64 65',\n",
       " '83 4 52 10 65',\n",
       " '43 62 36 82 67',\n",
       " '7 83 59 48 42',\n",
       " '44 34 40 81 46',\n",
       " '59 36 81 46 66',\n",
       " '98 2 91 59 49',\n",
       " '97 64 46 30 58',\n",
       " '43 42 62 2 82',\n",
       " '29 2 58 46 64',\n",
       " '59 29 46 64 2',\n",
       " '46 83 59 2 64',\n",
       " '36 82 59 46 30',\n",
       " '36 46 64 9 58',\n",
       " '28 42 48 37 91',\n",
       " '28 50 42 48 91',\n",
       " '95 42 48 18 91',\n",
       " '16 28 42 48 91',\n",
       " '46 36 82 62 67',\n",
       " '42 48 52 91 65',\n",
       " '42 82 48 91 31',\n",
       " '48 18 28 95 91',\n",
       " '28 41 48 42 91',\n",
       " '16 28 48 42 91',\n",
       " '59 85 20 48 91',\n",
       " '18 21 48 95 91',\n",
       " '9 95 18 41 91',\n",
       " '28 48 41 42 91',\n",
       " '42 47 39 48 91',\n",
       " '32 28 42 48 91',\n",
       " '69 70 41 98 56',\n",
       " '70 98 56 41 91',\n",
       " '42 10 33 48 91',\n",
       " '26 87 52 66 65',\n",
       " '18 32 47 28 91',\n",
       " '98 95 18 91 13',\n",
       " '72 95 41 18 91',\n",
       " '95 18 42 13 91',\n",
       " '21 96 64 0 26',\n",
       " '18 1 91 39 54',\n",
       " '18 42 48 16 91',\n",
       " '95 50 55 28 91',\n",
       " '50 42 48 28 91',\n",
       " '50 28 48 42 91',\n",
       " '63 65 49 95 46',\n",
       " '59 98 82 36 44',\n",
       " '78 62 46 82 36',\n",
       " '9 95 98 70 91',\n",
       " '88 45 54 79 1',\n",
       " '5 25 59 37 64',\n",
       " '18 48 42 28 91',\n",
       " '72 18 21 95 91',\n",
       " '46 36 29 12 82',\n",
       " '20 81 61 21 46',\n",
       " '42 18 21 95 91',\n",
       " '7 91 59 5 62',\n",
       " '7 78 29 30 82',\n",
       " '7 94 85 15 97',\n",
       " '39 42 32 91 48',\n",
       " '47 42 94 48 91',\n",
       " '28 13 42 48 91',\n",
       " '16 28 42 48 91',\n",
       " '16 95 42 28 91',\n",
       " '47 94 42 48 91',\n",
       " '50 28 48 42 91',\n",
       " '72 42 28 48 91',\n",
       " '18 42 95 48 91',\n",
       " '58 5 22 25 64',\n",
       " '99 21 36 64 2',\n",
       " '1 18 98 95 91',\n",
       " '47 7 42 48 91',\n",
       " '69 70 41 98 56',\n",
       " '28 71 50 42 48',\n",
       " '82 66 99 91 2',\n",
       " '70 77 41 95 91',\n",
       " '98 95 28 87 65',\n",
       " '28 48 91 18 39',\n",
       " '50 28 42 48 91',\n",
       " '18 42 95 48 91',\n",
       " '32 48 28 42 91',\n",
       " '98 48 70 42 91',\n",
       " '32 7 42 48 91',\n",
       " '7 32 42 48 91',\n",
       " '50 42 48 91 54',\n",
       " '81 13 82 59 99',\n",
       " '28 16 48 42 91',\n",
       " '28 18 48 42 91',\n",
       " '18 28 48 42 91',\n",
       " '28 32 48 42 91',\n",
       " '47 91 48 42 7',\n",
       " '68 70 41 56 98',\n",
       " '72 48 28 42 91',\n",
       " '18 16 42 48 91',\n",
       " '22 24 79 45 1',\n",
       " '91 31 44 20 78',\n",
       " '13 47 39 48 91',\n",
       " '46 21 64 37 97',\n",
       " '26 52 87 66 65',\n",
       " '81 26 73 31 65',\n",
       " '59 91 79 45 1',\n",
       " '59 9 28 91 95',\n",
       " '69 70 41 98 56',\n",
       " '31 91 7 5 48',\n",
       " '50 28 48 42 91',\n",
       " '69 46 58 2 64',\n",
       " '45 88 79 54 1',\n",
       " '99 46 29 2 64',\n",
       " '43 62 36 67 82',\n",
       " '77 42 39 48 91',\n",
       " '58 37 21 46 64',\n",
       " '91 61 66 65 2',\n",
       " '36 21 62 91 82',\n",
       " '95 18 34 48 59',\n",
       " '25 46 22 64 8',\n",
       " '9 99 64 8 22',\n",
       " '25 59 22 2 64',\n",
       " '82 91 60 2 63',\n",
       " '95 21 98 70 91',\n",
       " '51 24 79 45 1',\n",
       " '28 72 16 48 91',\n",
       " '16 28 18 42 91',\n",
       " '50 48 21 68 91',\n",
       " '50 29 91 81 21',\n",
       " '16 18 48 91 95',\n",
       " '32 28 48 42 91',\n",
       " '39 47 42 48 91',\n",
       " '16 32 42 48 91',\n",
       " '7 32 42 48 91',\n",
       " '16 50 42 48 91',\n",
       " '95 28 42 48 91',\n",
       " '62 43 37 91 82',\n",
       " '18 48 28 95 91',\n",
       " '50 18 48 42 91',\n",
       " '0 95 18 34 71',\n",
       " '77 42 48 7 50',\n",
       " '59 8 13 46 58',\n",
       " '72 18 28 95 91',\n",
       " '58 62 67 36 82',\n",
       " '28 6 42 48 91',\n",
       " '21 33 4 26 0',\n",
       " '45 88 54 79 1',\n",
       " '28 48 41 18 91',\n",
       " '13 28 39 48 91',\n",
       " '42 18 91 71 34',\n",
       " '54 24 45 79 1',\n",
       " '50 41 15 70 91',\n",
       " '18 80 28 48 91',\n",
       " '28 77 42 18 91',\n",
       " '41 98 70 33 56',\n",
       " '28 32 42 48 91',\n",
       " '18 42 48 95 91',\n",
       " '28 32 42 48 91',\n",
       " '16 97 59 0 91',\n",
       " '42 48 95 91 18',\n",
       " '7 32 42 48 91',\n",
       " '28 32 42 48 91',\n",
       " '50 18 48 42 91',\n",
       " '1 48 47 91 54',\n",
       " '48 42 91 59 99',\n",
       " '62 78 2 59 82',\n",
       " '32 43 42 48 91',\n",
       " '32 28 42 48 91',\n",
       " '7 42 32 48 91',\n",
       " '32 7 42 48 91',\n",
       " '99 64 36 2 10',\n",
       " '82 21 81 46 29',\n",
       " '82 63 34 66 65',\n",
       " '16 39 48 91 50',\n",
       " '83 36 81 34 65',\n",
       " '32 7 42 48 91',\n",
       " '51 88 79 54 1',\n",
       " '15 34 42 48 91',\n",
       " '32 39 42 48 91',\n",
       " '42 48 95 18 91',\n",
       " '81 64 82 67 36',\n",
       " '28 18 48 42 91',\n",
       " '16 28 48 42 91',\n",
       " '72 28 48 42 91',\n",
       " '28 47 48 42 91',\n",
       " '7 32 42 48 91',\n",
       " '13 28 48 42 91',\n",
       " '32 7 42 48 91',\n",
       " '32 28 48 42 91',\n",
       " '62 43 36 67 82',\n",
       " '95 42 48 28 91',\n",
       " '50 32 48 42 91',\n",
       " '28 32 42 91 48',\n",
       " '32 50 42 48 91',\n",
       " '47 7 42 48 91',\n",
       " '42 99 91 36 43',\n",
       " '36 29 43 41 46',\n",
       " '19 2 67 20 99',\n",
       " '14 43 91 42 8',\n",
       " '64 39 43 29 46',\n",
       " '91 39 36 43 2',\n",
       " '99 28 43 91 16',\n",
       " '91 37 36 8 43',\n",
       " '62 82 36 67 20',\n",
       " '16 43 59 29 46',\n",
       " '64 58 46 76 36',\n",
       " '59 16 95 48 91',\n",
       " '59 96 62 0 26',\n",
       " '72 91 33 48 16',\n",
       " '21 34 49 64 11',\n",
       " '99 82 2 20 58',\n",
       " '20 21 29 46 64',\n",
       " '28 48 42 50 91',\n",
       " '15 8 99 82 2',\n",
       " '25 5 64 82 2',\n",
       " '64 99 29 25 2',\n",
       " '65 82 8 48 29',\n",
       " '36 82 46 29 48',\n",
       " '64 29 49 63 81',\n",
       " '82 4 46 7 42',\n",
       " '48 47 42 91 76',\n",
       " '36 8 99 82 2',\n",
       " '10 82 2 46 64',\n",
       " '2 16 29 25 64',\n",
       " '29 82 8 65 58',\n",
       " '42 91 50 90 48',\n",
       " '43 20 48 91 42',\n",
       " '64 66 42 58 6',\n",
       " '10 90 59 82 21',\n",
       " '52 37 63 65 66',\n",
       " '58 61 6 20 62',\n",
       " '16 42 48 95 91',\n",
       " '24 88 54 79 1',\n",
       " '50 28 42 48 91',\n",
       " '50 18 42 48 91',\n",
       " '34 8 44 36 99',\n",
       " '28 62 16 82 58',\n",
       " '58 43 62 82 8',\n",
       " '46 44 64 70 85',\n",
       " '32 28 48 42 91',\n",
       " '18 28 42 48 91',\n",
       " '91 68 48 50 29',\n",
       " '99 11 64 2 29',\n",
       " '29 95 98 2 25',\n",
       " '85 62 36 21 61',\n",
       " '48 28 18 42 91',\n",
       " '59 70 41 56 98',\n",
       " '28 50 42 48 91',\n",
       " '28 42 47 48 91',\n",
       " '96 65 52 0 26',\n",
       " '28 48 42 21 91',\n",
       " '15 28 9 66 2',\n",
       " '36 85 28 66 58',\n",
       " '15 36 28 66 58',\n",
       " '48 4 6 91 21',\n",
       " '55 4 95 59 91',\n",
       " '48 63 90 7 59',\n",
       " '95 98 91 39 48',\n",
       " '39 32 42 48 91',\n",
       " '41 28 42 18 91',\n",
       " '7 42 32 91 48',\n",
       " '66 34 99 36 65',\n",
       " '59 82 81 62 64',\n",
       " '46 81 82 59 64',\n",
       " '43 48 7 91 42',\n",
       " '42 82 63 91 59',\n",
       " '12 97 16 29 30',\n",
       " '28 48 76 42 91',\n",
       " '52 17 63 66 65',\n",
       " '41 70 98 56 91',\n",
       " '28 42 39 48 91',\n",
       " '69 98 41 70 56',\n",
       " '56 95 70 98 91',\n",
       " '21 9 18 91 95',\n",
       " '16 50 48 42 91',\n",
       " '78 67 62 82 36',\n",
       " '24 45 79 54 1',\n",
       " '50 42 4 48 91',\n",
       " '84 59 85 29 11',\n",
       " '48 25 68 52 91',\n",
       " '28 82 81 65 62',\n",
       " '7 77 91 48 42',\n",
       " '42 48 32 28 91',\n",
       " '70 9 46 64 78',\n",
       " '95 55 46 59 2',\n",
       " '95 91 59 21 2',\n",
       " '31 77 67 43 46',\n",
       " '48 77 41 91 50',\n",
       " '39 42 91 48 56',\n",
       " '62 8 67 82 43',\n",
       " '34 58 63 9 46',\n",
       " '2 98 91 59 7',\n",
       " '59 91 48 82 47',\n",
       " '59 68 49 98 2',\n",
       " '81 21 62 58 82',\n",
       " '1 97 20 91 46',\n",
       " '36 61 48 59 91',\n",
       " '64 63 11 16 99',\n",
       " '59 52 66 85 65',\n",
       " '21 15 2 36 82',\n",
       " '12 81 46 65 63',\n",
       " '21 46 33 64 59',\n",
       " '88 24 79 1 45',\n",
       " '95 41 91 56 98',\n",
       " '45 72 91 98 41',\n",
       " '67 36 26 62 82',\n",
       " '29 64 2 83 82',\n",
       " '44 97 10 40 16',\n",
       " '46 82 78 36 29',\n",
       " '82 40 16 2 46',\n",
       " '18 48 13 39 91',\n",
       " '32 39 48 42 91',\n",
       " '59 95 18 48 91',\n",
       " '25 63 82 62 46',\n",
       " '28 82 91 48 59',\n",
       " '52 66 20 34 65',\n",
       " '59 36 5 37 43',\n",
       " '50 21 29 30 2',\n",
       " '29 82 99 37 2',\n",
       " '59 21 90 29 82',\n",
       " '76 16 96 82 29',\n",
       " '30 64 36 21 0',\n",
       " '61 78 30 62 82',\n",
       " '68 95 18 59 98',\n",
       " '98 70 69 41 56',\n",
       " '42 76 23 91 48',\n",
       " '98 48 95 91 9',\n",
       " '32 28 42 48 91',\n",
       " '32 28 42 48 91',\n",
       " '72 68 95 28 91',\n",
       " '18 28 42 48 91',\n",
       " '36 32 25 61 50',\n",
       " '2 29 22 64 11',\n",
       " '81 20 78 29 82',\n",
       " '46 29 16 82 64',\n",
       " '59 36 14 2 82',\n",
       " '47 85 43 36 16',\n",
       " '42 48 43 46 91',\n",
       " '2 34 44 64 99',\n",
       " '21 6 65 9 50',\n",
       " '58 81 36 46 64',\n",
       " '36 67 2 15 82',\n",
       " '82 4 46 64 16',\n",
       " '81 65 70 9 82',\n",
       " '70 18 41 95 91',\n",
       " '16 28 42 48 91',\n",
       " '69 98 70 41 56',\n",
       " '95 62 64 29 46',\n",
       " '82 37 12 67 62',\n",
       " '0 40 99 56 30',\n",
       " '7 67 46 85 81',\n",
       " '46 29 43 82 67',\n",
       " '5 64 25 37 82',\n",
       " '47 81 62 43 67',\n",
       " '82 29 62 67 43',\n",
       " '29 62 85 67 82',\n",
       " '13 21 28 91 59',\n",
       " '21 13 28 59 91',\n",
       " '18 41 59 98 91',\n",
       " '9 41 91 98 56',\n",
       " '33 59 48 91 36',\n",
       " '21 28 13 59 91',\n",
       " '91 37 41 55 98',\n",
       " '41 91 45 79 1',\n",
       " '72 28 55 98 91',\n",
       " '7 82 62 58 36',\n",
       " '2 58 98 68 59',\n",
       " '99 36 2 63 66',\n",
       " '46 72 25 98 64',\n",
       " '82 30 36 78 46',\n",
       " '55 48 37 91 41',\n",
       " '81 30 6 2 58',\n",
       " '46 29 64 2 82',\n",
       " '2 82 99 65 29',\n",
       " '7 91 59 48 49',\n",
       " '78 5 36 62 82',\n",
       " '67 2 36 82 59',\n",
       " '68 81 36 62 29',\n",
       " '2 99 64 46 29',\n",
       " '25 10 46 64 82',\n",
       " '50 46 5 2 58',\n",
       " '5 62 29 64 2',\n",
       " '59 37 30 82 78',\n",
       " '58 64 99 82 8',\n",
       " '50 32 42 48 91',\n",
       " '50 47 42 48 91',\n",
       " '32 42 91 48 39',\n",
       " '28 46 42 91 48',\n",
       " '50 28 42 48 91',\n",
       " '32 42 39 48 91',\n",
       " '50 42 48 32 91',\n",
       " '7 32 42 48 91',\n",
       " '18 42 95 48 91',\n",
       " '16 47 42 48 91',\n",
       " '7 39 48 42 91',\n",
       " '7 32 42 91 48',\n",
       " '7 39 42 48 91',\n",
       " '50 39 47 48 91',\n",
       " '32 7 42 91 48',\n",
       " '39 32 42 48 91',\n",
       " '46 28 42 91 48',\n",
       " '42 18 95 48 91',\n",
       " '32 7 42 48 91',\n",
       " '42 39 7 48 91',\n",
       " '50 42 48 32 91',\n",
       " '32 50 42 48 91',\n",
       " '50 47 48 42 91',\n",
       " '47 42 32 91 48',\n",
       " '65 46 95 71 16',\n",
       " '40 46 91 6 63',\n",
       " '81 64 36 2 46',\n",
       " '46 50 40 82 81',\n",
       " '97 43 29 59 16',\n",
       " '62 16 29 20 82',\n",
       " '91 41 98 70 56',\n",
       " '62 50 37 29 2',\n",
       " '32 28 42 48 91',\n",
       " '41 29 30 98 56',\n",
       " '21 36 5 0 30',\n",
       " '64 36 2 81 10',\n",
       " '21 99 29 46 2',\n",
       " '29 43 82 62 67',\n",
       " '28 72 42 91 48',\n",
       " '82 16 21 64 46',\n",
       " '82 15 2 36 29',\n",
       " '36 82 2 29 46',\n",
       " '99 46 36 16 64',\n",
       " '97 37 16 82 30',\n",
       " '59 25 16 46 99',\n",
       " '48 18 25 59 91',\n",
       " '32 7 42 48 91',\n",
       " '23 54 42 48 91',\n",
       " '48 21 91 39 4',\n",
       " '52 65 64 42 99',\n",
       " '98 80 65 92 66',\n",
       " '9 7 16 2 46',\n",
       " '82 93 2 90 36',\n",
       " '44 37 99 36 66',\n",
       " '44 20 49 36 62',\n",
       " '2 36 99 37 66',\n",
       " '66 11 42 99 9',\n",
       " '59 82 9 90 68',\n",
       " '2 48 28 59 62',\n",
       " '28 42 59 48 91',\n",
       " '29 81 50 20 9',\n",
       " '59 34 44 65 99',\n",
       " '0 91 52 26 65',\n",
       " '24 54 79 45 1',\n",
       " '32 28 42 48 91',\n",
       " '67 82 62 36 43',\n",
       " '82 85 67 43 36',\n",
       " '98 30 85 97 56',\n",
       " '10 2 29 82 25',\n",
       " '28 39 48 21 91',\n",
       " '58 78 46 30 82',\n",
       " '78 36 8 62 30',\n",
       " '98 64 36 46 2',\n",
       " '61 64 29 30 46',\n",
       " '90 42 48 43 82',\n",
       " '81 61 64 85 82',\n",
       " '5 29 67 78 2',\n",
       " '64 36 43 82 62',\n",
       " '41 56 37 48 91',\n",
       " '62 83 82 61 43',\n",
       " '62 46 67 43 82',\n",
       " '29 99 64 16 22',\n",
       " '7 47 43 46 85',\n",
       " '20 62 43 82 67',\n",
       " '58 36 62 46 82',\n",
       " '70 98 91 41 83',\n",
       " '81 30 62 36 82',\n",
       " '28 82 2 5 59',\n",
       " '48 63 39 91 33',\n",
       " '62 42 91 67 8',\n",
       " '29 81 36 82 58',\n",
       " '82 64 46 81 59',\n",
       " '95 18 42 48 91',\n",
       " '50 28 42 48 91',\n",
       " '32 28 42 48 91',\n",
       " '64 7 59 25 99',\n",
       " '82 62 64 67 78',\n",
       " '91 41 98 70 56',\n",
       " '2 11 29 99 9',\n",
       " '7 42 48 28 91',\n",
       " '37 63 36 81 34',\n",
       " '22 8 49 34 99',\n",
       " '32 28 48 42 91',\n",
       " '26 82 87 52 65',\n",
       " '28 95 48 42 91',\n",
       " '32 7 42 48 91',\n",
       " '7 28 42 48 91',\n",
       " '91 24 79 45 1',\n",
       " '16 28 42 48 91',\n",
       " '58 63 64 46 80',\n",
       " '16 28 42 48 91',\n",
       " '48 42 98 70 91',\n",
       " '46 59 99 98 2',\n",
       " '72 28 48 13 91',\n",
       " '46 66 65 59 18',\n",
       " '18 95 25 41 91',\n",
       " '85 59 81 16 50',\n",
       " '7 94 16 48 91',\n",
       " '82 81 62 36 30',\n",
       " '81 36 16 46 64',\n",
       " '5 22 99 64 2',\n",
       " '43 82 46 67 64',\n",
       " '99 59 10 46 16',\n",
       " '64 99 62 8 30',\n",
       " '91 48 29 49 59',\n",
       " '59 17 34 66 65',\n",
       " '30 62 64 36 43',\n",
       " '42 28 59 49 91',\n",
       " '42 28 48 59 91',\n",
       " '8 25 22 2 64',\n",
       " '5 41 25 59 64',\n",
       " '2 64 59 5 25',\n",
       " '2 25 64 98 97',\n",
       " '49 5 25 64 37',\n",
       " '2 37 25 5 64',\n",
       " '40 47 42 48 91',\n",
       " '32 28 42 48 91',\n",
       " '72 28 48 42 91',\n",
       " '7 32 42 48 91',\n",
       " '32 7 48 42 91',\n",
       " '16 28 42 48 91',\n",
       " '32 28 42 48 91',\n",
       " '32 7 42 48 91',\n",
       " '50 28 42 48 91',\n",
       " '25 2 64 98 21',\n",
       " '48 28 18 4 91',\n",
       " '7 42 32 48 91',\n",
       " '7 32 42 48 91',\n",
       " '62 43 64 29 16',\n",
       " '21 2 48 59 9',\n",
       " '29 43 62 67 82',\n",
       " '43 16 2 29 82',\n",
       " '2 67 82 8 29',\n",
       " '77 48 61 58 78',\n",
       " '70 42 48 36 91',\n",
       " '11 85 81 63 65',\n",
       " '67 2 11 64 59',\n",
       " '43 81 82 67 30',\n",
       " '42 48 65 82 91',\n",
       " '55 70 41 98 56',\n",
       " '58 81 36 82 62',\n",
       " '48 68 2 59 91',\n",
       " '62 81 82 36 67',\n",
       " '82 58 36 46 63',\n",
       " '82 62 41 91 28',\n",
       " '82 67 85 62 36',\n",
       " '36 59 58 46 64',\n",
       " '42 68 48 91 59',\n",
       " '58 81 62 36 82',\n",
       " '67 36 62 46 82',\n",
       " '78 62 82 43 67',\n",
       " '13 31 82 43 30',\n",
       " '7 91 83 59 48',\n",
       " '82 58 50 34 63',\n",
       " '93 29 62 64 2',\n",
       " '25 82 2 37 28',\n",
       " '46 22 21 36 0',\n",
       " '82 5 14 43 30',\n",
       " '7 32 42 91 48',\n",
       " '46 82 2 28 15',\n",
       " '7 64 8 40 81',\n",
       " '99 5 8 46 64',\n",
       " '32 50 42 48 91',\n",
       " '32 7 42 48 91',\n",
       " '26 0 87 52 65',\n",
       " '59 62 57 28 48',\n",
       " '22 21 36 2 0',\n",
       " '65 37 44 25 99',\n",
       " '83 82 6 59 2',\n",
       " '5 92 64 99 9',\n",
       " '91 92 59 29 46',\n",
       " '9 44 22 37 99',\n",
       " '53 46 82 58 90',\n",
       " '41 28 42 48 91',\n",
       " '32 28 42 48 91',\n",
       " '77 18 48 42 91',\n",
       " '44 82 43 85 36',\n",
       " '81 78 46 82 61',\n",
       " '16 80 58 63 66',\n",
       " '58 11 20 99 83',\n",
       " '46 64 58 36 5',\n",
       " '58 82 85 29 43',\n",
       " '30 67 43 2 46',\n",
       " '85 62 58 5 36',\n",
       " '37 98 91 55 95',\n",
       " '48 42 13 91 28',\n",
       " '46 43 30 78 36',\n",
       " '59 16 9 64 46',\n",
       " '30 61 16 29 43',\n",
       " '63 64 83 82 66',\n",
       " '36 58 5 2 64',\n",
       " '78 46 0 36 2',\n",
       " '6 15 43 5 29',\n",
       " '16 46 64 82 36',\n",
       " '96 28 87 52 65',\n",
       " '58 29 36 82 30',\n",
       " '28 48 42 41 91',\n",
       " '28 16 48 42 91',\n",
       " '80 31 87 52 65',\n",
       " '2 82 64 99 8',\n",
       " '64 36 59 46 99',\n",
       " '13 41 95 18 91',\n",
       " '21 49 82 46 59',\n",
       " '50 30 78 67 43',\n",
       " '62 42 28 48 91',\n",
       " '59 29 91 48 49',\n",
       " '42 48 95 59 91',\n",
       " '59 5 10 91 49',\n",
       " '72 98 95 91 9',\n",
       " '16 18 42 48 91',\n",
       " '16 42 47 48 91',\n",
       " '69 70 41 56 98',\n",
       " '69 46 12 98 64',\n",
       " '7 49 48 82 91',\n",
       " '16 64 30 97 0',\n",
       " '67 20 15 63 8',\n",
       " '62 59 91 8 82',\n",
       " '6 29 78 2 58',\n",
       " '95 41 18 59 91',\n",
       " '15 36 2 59 82',\n",
       " '20 97 50 81 85',\n",
       " '16 18 30 85 61',\n",
       " '62 31 73 30 58',\n",
       " '16 43 85 83 91',\n",
       " '44 4 43 21 85',\n",
       " '62 58 43 82 67',\n",
       " '65 28 34 42 91',\n",
       " '28 7 48 42 91',\n",
       " '68 98 95 91 9',\n",
       " '87 52 64 36 21',\n",
       " '87 15 65 52 95',\n",
       " '72 50 42 48 91',\n",
       " '59 91 98 48 44',\n",
       " '82 67 58 36 43',\n",
       " '61 30 82 67 43',\n",
       " '32 48 91 7 42',\n",
       " '50 42 48 32 91',\n",
       " '50 28 42 48 91',\n",
       " '50 28 42 48 91',\n",
       " '50 39 91 42 48',\n",
       " '70 48 98 56 91',\n",
       " '28 50 42 48 91',\n",
       " '50 32 48 42 91',\n",
       " '82 20 52 36 2',\n",
       " '2 36 16 12 61',\n",
       " '9 46 49 59 2',\n",
       " '55 41 59 29 46',\n",
       " '2 4 25 82 59',\n",
       " '5 12 82 36 58',\n",
       " '2 78 67 29 81',\n",
       " '59 85 62 58 5',\n",
       " '61 62 36 46 82',\n",
       " '62 43 85 29 59',\n",
       " '81 29 20 67 82',\n",
       " '46 81 62 36 82',\n",
       " '69 98 41 56 70',\n",
       " '36 81 78 67 82',\n",
       " '64 29 5 82 9',\n",
       " '59 30 82 85 29',\n",
       " '55 29 20 16 56',\n",
       " '21 30 2 25 82',\n",
       " '36 2 61 30 82',\n",
       " '16 64 78 29 15',\n",
       " '61 93 10 2 29',\n",
       " '50 46 29 43 85',\n",
       " '25 46 61 29 82',\n",
       " '62 36 82 7 30',\n",
       " '18 91 0 1 54',\n",
       " '81 64 82 46 59',\n",
       " '28 41 70 48 91',\n",
       " '8 64 46 16 99',\n",
       " '64 29 59 46 2',\n",
       " '36 58 5 78 25',\n",
       " '78 30 46 58 82',\n",
       " '36 46 58 62 82',\n",
       " '16 8 29 67 82',\n",
       " '22 46 8 30 38',\n",
       " '62 82 75 36 46',\n",
       " '91 43 20 16 29',\n",
       " '79 50 24 45 1',\n",
       " '36 43 99 16 82',\n",
       " '21 81 36 46 29',\n",
       " '38 50 29 36 43',\n",
       " '48 47 6 28 91',\n",
       " '23 42 48 76 91',\n",
       " '95 42 48 28 91',\n",
       " '16 50 42 91 28',\n",
       " '62 46 82 5 78',\n",
       " '81 82 20 29 67',\n",
       " '5 62 64 46 21',\n",
       " '36 78 82 29 2',\n",
       " '46 64 10 85 82',\n",
       " '82 65 5 4 21',\n",
       " '11 82 25 64 2',\n",
       " '6 29 83 2 82',\n",
       " '98 70 91 59 83',\n",
       " '82 81 46 34 49',\n",
       " '16 50 42 48 91',\n",
       " '7 28 48 42 91',\n",
       " '0 36 62 2 59',\n",
       " '43 16 29 41 46',\n",
       " '10 41 29 16 46',\n",
       " '59 2 64 25 98',\n",
       " '36 46 64 82 62',\n",
       " '62 64 36 58 46',\n",
       " '68 36 64 46 98',\n",
       " '1 18 98 95 91',\n",
       " '69 70 41 98 56',\n",
       " '64 67 58 78 85',\n",
       " '5 61 58 8 62',\n",
       " '67 62 82 30 78',\n",
       " '68 55 28 95 91',\n",
       " '48 91 42 25 72',\n",
       " '50 29 2 59 82',\n",
       " '75 2 11 30 37',\n",
       " '15 21 2 62 82',\n",
       " '22 36 62 82 67',\n",
       " '29 25 16 2 64',\n",
       " '46 99 37 82 2',\n",
       " '11 68 49 98 95',\n",
       " '20 46 82 62 61',\n",
       " '36 5 30 43 82',\n",
       " '30 20 62 67 82',\n",
       " '65 85 5 46 59',\n",
       " '64 61 78 2 29',\n",
       " '48 99 37 64 2',\n",
       " '78 58 92 2 66',\n",
       " '50 58 20 9 63',\n",
       " '84 65 91 0 26',\n",
       " '99 64 21 16 81',\n",
       " '32 42 48 82 91',\n",
       " '48 98 9 95 91',\n",
       " '50 95 42 48 91',\n",
       " '99 59 9 64 37',\n",
       " '62 99 64 16 9',\n",
       " '81 62 36 30 82',\n",
       " '61 49 99 65 66',\n",
       " '13 46 36 30 67',\n",
       " '81 15 36 37 82',\n",
       " '64 5 21 11 9',\n",
       " '7 32 42 91 48',\n",
       " '16 50 48 42 91',\n",
       " '46 67 20 82 8',\n",
       " '59 95 90 46 81',\n",
       " '98 95 59 48 91',\n",
       " '49 24 79 45 1',\n",
       " '46 28 13 90 91',\n",
       " '48 46 13 91 90',\n",
       " '41 59 56 16 98',\n",
       " '29 11 64 25 2',\n",
       " '64 40 46 16 81',\n",
       " '44 36 64 5 82',\n",
       " '37 82 58 64 25',\n",
       " '21 18 95 39 91',\n",
       " '97 24 79 45 1',\n",
       " '48 13 39 91 4',\n",
       " '52 63 31 66 65',\n",
       " '21 28 95 18 91',\n",
       " '13 18 48 39 91',\n",
       " '91 59 68 95 98',\n",
       " '70 48 33 39 91',\n",
       " '69 98 41 70 56',\n",
       " '28 41 42 48 91',\n",
       " '47 32 42 48 91',\n",
       " '77 13 48 39 91',\n",
       " '7 32 42 91 48',\n",
       " '62 64 59 29 2',\n",
       " '59 18 64 6 91',\n",
       " '4 46 48 91 59',\n",
       " '48 41 42 91 28',\n",
       " '47 18 42 48 91',\n",
       " '42 28 48 1 91',\n",
       " '18 50 42 48 91',\n",
       " '19 42 48 50 91',\n",
       " '88 45 79 54 1',\n",
       " '99 36 44 59 2',\n",
       " '70 41 4 19 91',\n",
       " '91 48 70 4 19',\n",
       " '2 11 29 25 64',\n",
       " '91 59 68 95 2',\n",
       " '91 59 29 95 98',\n",
       " '63 59 28 90 91',\n",
       " '42 16 28 91 90',\n",
       " '28 91 98 95 29',\n",
       " '32 48 42 63 21',\n",
       " '9 99 68 59 2',\n",
       " '21 19 41 98 70',\n",
       " '25 99 2 22 64',\n",
       " '28 32 42 91 48',\n",
       " '54 24 79 45 1',\n",
       " '70 41 48 56 91',\n",
       " '16 95 42 48 91',\n",
       " '44 82 30 64 2',\n",
       " '43 50 59 85 29',\n",
       " '48 19 18 95 91',\n",
       " '49 53 93 82 91',\n",
       " '64 8 99 82 2',\n",
       " '42 28 32 6 91',\n",
       " '72 18 28 32 91',\n",
       " '39 10 48 28 91',\n",
       " '18 42 48 91 59',\n",
       " '28 41 48 42 91',\n",
       " '6 59 18 42 91',\n",
       " '95 36 48 59 90',\n",
       " '47 46 25 44 82',\n",
       " '69 41 98 70 56',\n",
       " '11 64 55 25 46',\n",
       " '2 21 49 15 29',\n",
       " '85 78 30 62 82',\n",
       " '63 14 5 36 30',\n",
       " '42 91 48 21 28',\n",
       " '39 48 59 95 91',\n",
       " '33 82 85 50 30',\n",
       " '68 67 59 82 62',\n",
       " '12 8 47 62 99',\n",
       " '70 56 49 98 41',\n",
       " '18 28 46 95 91',\n",
       " '18 91 98 95 97',\n",
       " '20 85 58 91 82',\n",
       " '29 58 5 85 82',\n",
       " '49 20 66 91 65',\n",
       " '36 41 43 78 66',\n",
       " '68 49 95 10 46',\n",
       " '50 43 16 2 29',\n",
       " '5 28 2 30 25',\n",
       " '8 61 62 81 2',\n",
       " '43 20 29 62 59',\n",
       " '18 13 48 39 91',\n",
       " '50 16 42 48 91',\n",
       " '39 32 42 48 91',\n",
       " '98 9 95 18 91',\n",
       " '50 28 48 42 91',\n",
       " '2 44 99 66 36',\n",
       " '92 79 45 46 1',\n",
       " '9 29 21 59 46',\n",
       " '58 99 46 64 81',\n",
       " '29 64 46 16 2',\n",
       " '25 78 8 82 2',\n",
       " '46 16 61 29 2',\n",
       " '29 36 78 62 82',\n",
       " '82 36 2 67 29',\n",
       " '59 40 81 50 91',\n",
       " '36 29 82 2 6',\n",
       " '21 64 16 85 29',\n",
       " '70 59 98 56 16',\n",
       " '7 64 99 16 46',\n",
       " '15 64 36 2 82',\n",
       " '25 29 21 16 64',\n",
       " '36 8 78 43 46',\n",
       " '76 50 91 43 2',\n",
       " '8 36 37 43 28',\n",
       " '78 67 85 43 82',\n",
       " '46 36 29 16 64',\n",
       " '36 29 95 37 28',\n",
       " '36 82 20 2 29',\n",
       " '85 58 64 2 5',\n",
       " '41 29 78 62 67',\n",
       " '82 44 57 99 16',\n",
       " '28 42 59 48 91',\n",
       " '21 9 59 48 91',\n",
       " '16 9 59 48 91',\n",
       " '62 48 61 91 16',\n",
       " '62 50 10 58 82',\n",
       " '99 50 10 58 82',\n",
       " '56 21 91 98 70',\n",
       " '50 28 42 48 91',\n",
       " '28 41 48 42 91',\n",
       " '18 28 42 48 91',\n",
       " '30 59 16 29 43',\n",
       " '29 16 21 30 59',\n",
       " '58 5 82 59 2',\n",
       " '82 61 30 36 81',\n",
       " '30 2 82 20 29',\n",
       " '62 68 50 82 36',\n",
       " '68 9 70 91 98',\n",
       " '18 79 91 45 1',\n",
       " '0 42 48 65 91',\n",
       " '91 29 59 62 85',\n",
       " '10 78 29 2 64',\n",
       " '20 29 62 82 67',\n",
       " '22 2 29 16 21',\n",
       " '10 29 36 81 25',\n",
       " '16 18 42 48 91',\n",
       " '52 82 34 65 26',\n",
       " '50 28 42 48 91',\n",
       " '46 59 82 64 62',\n",
       " '78 5 62 99 82',\n",
       " '46 91 59 29 16',\n",
       " '21 55 28 91 95',\n",
       " '42 55 95 91 28',\n",
       " '7 28 48 91 42',\n",
       " '16 28 42 48 91',\n",
       " '18 72 28 95 91',\n",
       " '54 24 79 45 1',\n",
       " '48 18 95 59 91',\n",
       " '2 20 62 82 67',\n",
       " '10 8 64 36 46',\n",
       " '50 10 8 44 99',\n",
       " '81 36 10 82 99',\n",
       " '64 82 36 7 99',\n",
       " '90 82 9 2 59',\n",
       " '28 41 42 48 91',\n",
       " '46 29 2 16 21',\n",
       " '18 48 91 20 37',\n",
       " '58 36 61 82 62',\n",
       " '62 8 29 82 67',\n",
       " '46 62 36 82 64',\n",
       " '8 37 20 67 82',\n",
       " '36 65 80 82 59',\n",
       " '32 28 42 48 91',\n",
       " '64 46 29 62 44',\n",
       " '29 78 91 2 46',\n",
       " '0 14 36 58 78',\n",
       " '15 61 36 82 62',\n",
       " '48 30 62 28 91',\n",
       " '50 32 42 48 91',\n",
       " '88 45 24 79 1',\n",
       " '44 98 11 64 21',\n",
       " '59 64 46 82 37',\n",
       " '28 44 59 30 77',\n",
       " '82 98 95 48 90',\n",
       " '43 78 21 29 2',\n",
       " '91 9 46 21 49',\n",
       " '9 36 80 2 46',\n",
       " '29 90 91 46 59',\n",
       " '21 9 59 95 46',\n",
       " '36 10 62 81 64',\n",
       " '64 5 29 11 2',\n",
       " '46 81 30 82 62',\n",
       " '78 82 30 62 81',\n",
       " '62 61 82 30 78',\n",
       " '36 97 99 46 64',\n",
       " '58 46 82 36 64',\n",
       " '62 82 46 58 36',\n",
       " '58 46 62 26 64',\n",
       " '81 30 61 82 62',\n",
       " '29 31 78 46 85',\n",
       " '62 64 36 29 46',\n",
       " ...]"
      ]
     },
     "execution_count": 35,
     "metadata": {},
     "output_type": "execute_result"
    }
   ],
   "source": [
    "predictions_output = map(lambda x: ' '.join(map(str,x)), predictions_test)\n",
    "predictions_output"
   ]
  },
  {
   "cell_type": "code",
   "execution_count": 36,
   "metadata": {
    "collapsed": false
   },
   "outputs": [
    {
     "data": {
      "text/plain": [
       "1000000"
      ]
     },
     "execution_count": 36,
     "metadata": {},
     "output_type": "execute_result"
    }
   ],
   "source": [
    "len(predictions_output)"
   ]
  },
  {
   "cell_type": "code",
   "execution_count": 37,
   "metadata": {
    "collapsed": true
   },
   "outputs": [],
   "source": [
    "# load test data\n",
    "submission = pd.read_csv('sample_submission.csv', sep = ',', nrows = 1000000)"
   ]
  },
  {
   "cell_type": "code",
   "execution_count": 38,
   "metadata": {
    "collapsed": false
   },
   "outputs": [
    {
     "data": {
      "text/plain": [
       "1000000"
      ]
     },
     "execution_count": 38,
     "metadata": {},
     "output_type": "execute_result"
    }
   ],
   "source": [
    "len(submission)"
   ]
  },
  {
   "cell_type": "code",
   "execution_count": 39,
   "metadata": {
    "collapsed": false
   },
   "outputs": [],
   "source": [
    "submission['hotel_cluster'] = predictions_output"
   ]
  },
  {
   "cell_type": "code",
   "execution_count": 51,
   "metadata": {
    "collapsed": false
   },
   "outputs": [],
   "source": [
    "submission[['id', 'hotel_cluster']].to_csv('out.csv', index = False)"
   ]
  }
 ],
 "metadata": {
  "kernelspec": {
   "display_name": "Python 2",
   "language": "python",
   "name": "python2"
  },
  "language_info": {
   "codemirror_mode": {
    "name": "ipython",
    "version": 2
   },
   "file_extension": ".py",
   "mimetype": "text/x-python",
   "name": "python",
   "nbconvert_exporter": "python",
   "pygments_lexer": "ipython2",
   "version": "2.7.11"
  }
 },
 "nbformat": 4,
 "nbformat_minor": 0
}
