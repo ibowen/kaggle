{
 "cells": [
  {
   "cell_type": "code",
   "execution_count": 7,
   "metadata": {
    "collapsed": true
   },
   "outputs": [],
   "source": [
    "import xgboost as xgb\n",
    "import pandas as pd\n",
    "from sklearn.ensemble import RandomForestClassifier\n",
    "from sklearn import preprocessing, pipeline, metrics, grid_search, cross_validation\n",
    "import time\n",
    "import random\n",
    "import numpy as np\n",
    "import datetime\n",
    "from sklearn.preprocessing import OneHotEncoder\n",
    "from sklearn.externals import joblib\n",
    "import pickle\n",
    "import matplotlib.pyplot as plt\n",
    "%matplotlib inline\n",
    "import warnings\n",
    "warnings.filterwarnings('ignore')\n",
    "import requests, json"
   ]
  },
  {
   "cell_type": "markdown",
   "metadata": {},
   "source": [
    "## Define functions"
   ]
  },
  {
   "cell_type": "code",
   "execution_count": 8,
   "metadata": {
    "collapsed": true
   },
   "outputs": [],
   "source": [
    "# load train and test data and output full data and column dictionary\n",
    "def load_data():\n",
    "    # Load data\n",
    "    start = time.time() \n",
    "    train = pd.read_csv('./data/train.csv', parse_dates=['DateTime'])\n",
    "    print (\"Loading train data finished in %0.3fs\" % (time.time() - start))        \n",
    "\n",
    "    test = pd.read_csv('./data/test.csv', parse_dates=['DateTime'])\n",
    "    print (\"Loading test data finished in %0.3fs\" % (time.time() - start))  \n",
    "\n",
    "    # seperate column names by categorical, numerical, label, and id\n",
    "    data_types = train.dtypes  \n",
    "    categorical_cols = list(data_types[data_types=='object'].index) + list(data_types[data_types=='datetime64[ns]'].index)\n",
    "    numerical_cols = list(data_types[data_types=='int64'].index) + list(data_types[data_types=='float64'].index)\n",
    "\n",
    "    dict_cols = dict()\n",
    "    # categorical columns\n",
    "    dict_cols['categorical_cols'] = categorical_cols\n",
    "    dict_cols['categorical_cols'].remove('AnimalID') # remove ids\n",
    "    dict_cols['categorical_cols'].remove('OutcomeType') # remove labels\n",
    "    dict_cols['categorical_cols'].remove('OutcomeSubtype')\n",
    "\n",
    "    # numeric columns\n",
    "    dict_cols['numerical_cols'] = numerical_cols\n",
    "\n",
    "    # id columns\n",
    "    dict_cols['id_col'] = ['AnimalID']\n",
    "\n",
    "    # label columns\n",
    "    dict_cols['label_col'] = ['OutcomeType']\n",
    "    \n",
    "    # Merge train and test\n",
    "    dict_cols['train_size'] = train.shape[0]\n",
    "    dict_cols['test_size'] = test.shape[0]\n",
    "    print 'train data size: %s' % dict_cols['train_size']\n",
    "    print 'test data size: %s' % dict_cols['test_size']\n",
    "\n",
    "    full_data = pd.concat([train[dict_cols['categorical_cols'] + dict_cols['numerical_cols'] + dict_cols['label_col']]\n",
    "                         , test[dict_cols['categorical_cols'] + dict_cols['numerical_cols']]\n",
    "                        ])\n",
    "    \n",
    "    return dict_cols, full_data"
   ]
  },
  {
   "cell_type": "code",
   "execution_count": 9,
   "metadata": {
    "collapsed": true
   },
   "outputs": [],
   "source": [
    "## function to grid search the best model\n",
    "def search_model(train_x, train_y, est, param_grid, n_jobs, cv, refit=False):\n",
    "    model = grid_search.GridSearchCV(estimator  = est, \n",
    "                                     param_grid = param_grid, \n",
    "                                     scoring = 'log_loss', \n",
    "                                     verbose = 10, \n",
    "                                     n_jobs  = n_jobs, \n",
    "                                     iid = True, # is identically distributed \n",
    "                                     refit = refit,\n",
    "                                     cv = cv)\n",
    "    # Fit Grid Search Model\n",
    "    model.fit(train_x, train_y)\n",
    "    print(\"Best score: %0.3f\" % model.best_score_)\n",
    "    print(\"Best parameters set:\", model.best_params_)\n",
    "    print(\"Scores:\", model.grid_scores_)\n",
    "    return model"
   ]
  },
  {
   "cell_type": "code",
   "execution_count": 10,
   "metadata": {
    "collapsed": true
   },
   "outputs": [],
   "source": [
    "# function to plot feature importance\n",
    "def plot_feature_importance(feature_importances, feature_names):\n",
    "    ftr_imp_df = pd.DataFrame(sorted(zip(feature_names, feature_importances)\n",
    "                          , key=lambda x: x[1], reverse = False)\n",
    "                   )\n",
    "    y_pos = np.arange(ftr_imp_df.shape[0])\n",
    "\n",
    "    plt.barh(y_pos, ftr_imp_df[1], align='center', alpha=0.4)\n",
    "    plt.yticks(y_pos, ftr_imp_df[0])\n",
    "    plt.xlabel('Feature Importance')\n",
    "\n",
    "    plt.show()"
   ]
  },
  {
   "cell_type": "code",
   "execution_count": 11,
   "metadata": {
    "collapsed": true
   },
   "outputs": [],
   "source": [
    "# function to label encoding, and output label mapping\n",
    "def label_encoding(cols, full_data):\n",
    "    label_mapping = {}\n",
    "    for col in cols:\n",
    "        print(\"Label encoding column: %s\" % (col))\n",
    "        LBL = preprocessing.LabelEncoder()\n",
    "        LBL.fit(full_data[col])\n",
    "        if col == 'OutcomeType':\n",
    "            label_mapping = dict(zip(full_data['OutcomeType'].unique(), LBL.transform(full_data['OutcomeType'].unique())))\n",
    "#             print(\"Label mapping: %s\" % (label_mapping))\n",
    "        full_data[col] = LBL.transform(full_data[col])\n",
    "        \n",
    "    return label_mapping"
   ]
  },
  {
   "cell_type": "markdown",
   "metadata": {},
   "source": [
    "## Benchmark"
   ]
  },
  {
   "cell_type": "code",
   "execution_count": 659,
   "metadata": {
    "collapsed": false
   },
   "outputs": [
    {
     "name": "stdout",
     "output_type": "stream",
     "text": [
      "Loading train data finished in 0.076s\n",
      "Loading test data finished in 0.099s\n",
      "train data size: 26729\n",
      "test data size: 11456\n"
     ]
    }
   ],
   "source": [
    "dict_cols, full_data = load_data()"
   ]
  },
  {
   "cell_type": "code",
   "execution_count": 660,
   "metadata": {
    "collapsed": false
   },
   "outputs": [
    {
     "name": "stdout",
     "output_type": "stream",
     "text": [
      "Label encoding column: Name\n",
      "Label encoding column: AnimalType\n",
      "Label encoding column: SexuponOutcome\n",
      "Label encoding column: AgeuponOutcome\n",
      "Label encoding column: Breed\n",
      "Label encoding column: Color\n",
      "Label encoding column: DateTime\n",
      "Label encoding column: OutcomeType\n"
     ]
    },
    {
     "data": {
      "text/plain": [
       "{nan: 0,\n",
       " 'Adoption': 1,\n",
       " 'Died': 2,\n",
       " 'Euthanasia': 3,\n",
       " 'Return_to_owner': 4,\n",
       " 'Transfer': 5}"
      ]
     },
     "execution_count": 660,
     "metadata": {},
     "output_type": "execute_result"
    }
   ],
   "source": [
    "label_encoding(dict_cols['categorical_cols'] + dict_cols['label_col'], full_data)"
   ]
  },
  {
   "cell_type": "code",
   "execution_count": 475,
   "metadata": {
    "collapsed": true
   },
   "outputs": [],
   "source": [
    "train_X = full_data[:dict_cols['train_size']][dict_cols['categorical_cols'] + dict_cols['numerical_cols']].values\n",
    "train_y = full_data[:dict_cols['train_size']][dict_cols['label_col']].values.reshape(dict_cols['train_size'])\n",
    "param_grid = {'criterion':['gini', 'entropy'], 'n_estimators':[500], 'random_state' : [1234]}"
   ]
  },
  {
   "cell_type": "code",
   "execution_count": 476,
   "metadata": {
    "collapsed": false
   },
   "outputs": [
    {
     "name": "stdout",
     "output_type": "stream",
     "text": [
      "Fitting 4 folds for each of 2 candidates, totalling 8 fits\n",
      "[CV] n_estimators=500, random_state=1234, criterion=gini .............\n",
      "[CV] n_estimators=500, random_state=1234, criterion=gini .............\n",
      "[CV] n_estimators=500, random_state=1234, criterion=gini .............\n",
      "[CV] n_estimators=500, random_state=1234, criterion=gini .............\n",
      "[CV] n_estimators=500, random_state=1234, criterion=entropy ..........\n",
      "[CV] n_estimators=500, random_state=1234, criterion=entropy ..........\n",
      "[CV] n_estimators=500, random_state=1234, criterion=entropy ..........\n",
      "[CV] n_estimators=500, random_state=1234, criterion=entropy ..........\n",
      "[CV]  n_estimators=500, random_state=1234, criterion=gini, score=-0.950719 -  24.5s\n",
      "[CV]  n_estimators=500, random_state=1234, criterion=gini, score=-1.006661 -  24.6s\n",
      "[CV]  n_estimators=500, random_state=1234, criterion=gini, score=-0.982154 -  24.7s\n"
     ]
    },
    {
     "name": "stderr",
     "output_type": "stream",
     "text": [
      "[Parallel(n_jobs=-1)]: Done   9 out of   8 | elapsed:   24.6s remaining:   -2.7s\n",
      "[Parallel(n_jobs=-1)]: Done   9 out of   8 | elapsed:   24.8s remaining:   -2.8s\n"
     ]
    },
    {
     "name": "stdout",
     "output_type": "stream",
     "text": [
      "[CV]  n_estimators=500, random_state=1234, criterion=gini, score=-0.969933 -  24.8s\n"
     ]
    },
    {
     "name": "stderr",
     "output_type": "stream",
     "text": [
      "[Parallel(n_jobs=-1)]: Done   9 out of   8 | elapsed:   24.8s remaining:   -2.8s\n"
     ]
    },
    {
     "name": "stdout",
     "output_type": "stream",
     "text": [
      "[CV]  n_estimators=500, random_state=1234, criterion=entropy, score=-1.014275 -  35.2s\n",
      "[CV]  n_estimators=500, random_state=1234, criterion=entropy, score=-0.969241 -  35.2s\n"
     ]
    },
    {
     "name": "stderr",
     "output_type": "stream",
     "text": [
      "[Parallel(n_jobs=-1)]: Done   9 out of   8 | elapsed:   35.3s remaining:   -3.9s\n",
      "[Parallel(n_jobs=-1)]: Done   9 out of   8 | elapsed:   35.3s remaining:   -3.9s\n"
     ]
    },
    {
     "name": "stdout",
     "output_type": "stream",
     "text": [
      "[CV]  n_estimators=500, random_state=1234, criterion=entropy, score=-0.983725 -  35.4s\n",
      "[CV]  n_estimators=500, random_state=1234, criterion=entropy, score=-0.972565 -  35.5s\n"
     ]
    },
    {
     "name": "stderr",
     "output_type": "stream",
     "text": [
      "[Parallel(n_jobs=-1)]: Done   9 out of   8 | elapsed:   35.5s remaining:   -3.9s\n",
      "[Parallel(n_jobs=-1)]: Done   9 out of   8 | elapsed:   35.6s remaining:   -4.0s\n",
      "[Parallel(n_jobs=-1)]: Done   8 out of   8 | elapsed:   35.6s finished\n"
     ]
    },
    {
     "name": "stdout",
     "output_type": "stream",
     "text": [
      "Best score: -0.977\n",
      "('Best parameters set:', {'n_estimators': 500, 'random_state': 1234, 'criterion': 'gini'})\n",
      "('Scores:', [mean: -0.97737, std: 0.02029, params: {'n_estimators': 500, 'random_state': 1234, 'criterion': 'gini'}, mean: -0.98496, std: 0.01776, params: {'n_estimators': 500, 'random_state': 1234, 'criterion': 'entropy'}])\n"
     ]
    }
   ],
   "source": [
    "model = search_model(train_X\n",
    "            , train_y\n",
    "            , RandomForestClassifier()\n",
    "            , param_grid\n",
    "            , -1\n",
    "            , 4\n",
    "            , True)"
   ]
  },
  {
   "cell_type": "code",
   "execution_count": null,
   "metadata": {
    "collapsed": true
   },
   "outputs": [],
   "source": [
    "# plot feature importance\n",
    "plot_feature_importance(model.best_estimator_.feature_importances_, dict_cols['categorical_cols'] + dict_cols['numerical_cols'])"
   ]
  },
  {
   "cell_type": "markdown",
   "metadata": {},
   "source": [
    "## Transform age into days"
   ]
  },
  {
   "cell_type": "code",
   "execution_count": 14,
   "metadata": {
    "collapsed": true
   },
   "outputs": [],
   "source": [
    "# function to transform ages into days\n",
    "def age2days(age):\n",
    "    age = str(age)\n",
    "    if 'day' in age:\n",
    "        days = int(age.split(' ')[0])\n",
    "    if 'week' in age:\n",
    "        days= int(age.split(' ')[0])*7\n",
    "    if 'month' in age:\n",
    "        days = int(age.split(' ')[0])*30\n",
    "    if 'year' in age:\n",
    "        days = int(age.split(' ')[0])*365    \n",
    "    else:\n",
    "        days = 0\n",
    "    return days   "
   ]
  },
  {
   "cell_type": "code",
   "execution_count": 15,
   "metadata": {
    "collapsed": false
   },
   "outputs": [
    {
     "name": "stdout",
     "output_type": "stream",
     "text": [
      "Loading train data finished in 0.065s\n",
      "Loading test data finished in 0.087s\n",
      "train data size: 26729\n",
      "test data size: 11456\n"
     ]
    }
   ],
   "source": [
    "dict_cols, full_data = load_data()"
   ]
  },
  {
   "cell_type": "code",
   "execution_count": 16,
   "metadata": {
    "collapsed": false
   },
   "outputs": [],
   "source": [
    "full_data['AgeuponOutcome'] = full_data['AgeuponOutcome'].apply(age2days)"
   ]
  },
  {
   "cell_type": "code",
   "execution_count": 17,
   "metadata": {
    "collapsed": true
   },
   "outputs": [],
   "source": [
    "dict_cols['categorical_cols'].remove('AgeuponOutcome')\n",
    "dict_cols['numerical_cols'].append('AgeuponOutcome')"
   ]
  },
  {
   "cell_type": "code",
   "execution_count": 18,
   "metadata": {
    "collapsed": false
   },
   "outputs": [
    {
     "name": "stdout",
     "output_type": "stream",
     "text": [
      "Label encoding column: Name\n",
      "Label encoding column: AnimalType\n",
      "Label encoding column: SexuponOutcome\n",
      "Label encoding column: Breed\n",
      "Label encoding column: Color\n",
      "Label encoding column: DateTime\n",
      "Label encoding column: OutcomeType\n"
     ]
    },
    {
     "data": {
      "text/plain": [
       "{nan: 0,\n",
       " 'Adoption': 1,\n",
       " 'Died': 2,\n",
       " 'Euthanasia': 3,\n",
       " 'Return_to_owner': 4,\n",
       " 'Transfer': 5}"
      ]
     },
     "execution_count": 18,
     "metadata": {},
     "output_type": "execute_result"
    }
   ],
   "source": [
    "label_encoding(dict_cols['categorical_cols'] + dict_cols['label_col'], full_data)"
   ]
  },
  {
   "cell_type": "code",
   "execution_count": 19,
   "metadata": {
    "collapsed": false
   },
   "outputs": [
    {
     "name": "stdout",
     "output_type": "stream",
     "text": [
      "Fitting 4 folds for each of 2 candidates, totalling 8 fits\n",
      "[CV] n_estimators=500, random_state=1234, criterion=gini .............\n",
      "[CV] n_estimators=500, random_state=1234, criterion=gini .............\n",
      "[CV] n_estimators=500, random_state=1234, criterion=gini .............\n",
      "[CV] n_estimators=500, random_state=1234, criterion=gini .............\n",
      "[CV] n_estimators=500, random_state=1234, criterion=entropy ..........\n",
      "[CV] n_estimators=500, random_state=1234, criterion=entropy ..........\n",
      "[CV] n_estimators=500, random_state=1234, criterion=entropy ..........\n",
      "[CV] n_estimators=500, random_state=1234, criterion=entropy ..........\n",
      "[CV]  n_estimators=500, random_state=1234, criterion=gini, score=-1.018751 -  22.7s\n",
      "[CV]  n_estimators=500, random_state=1234, criterion=gini, score=-1.020380 -  22.8s\n",
      "[CV]  n_estimators=500, random_state=1234, criterion=gini, score=-0.995470 -  22.9s\n",
      "[CV]  n_estimators=500, random_state=1234, criterion=gini, score=-1.009852 -  22.9s\n"
     ]
    },
    {
     "name": "stderr",
     "output_type": "stream",
     "text": [
      "[Parallel(n_jobs=-1)]: Done   9 out of   8 | elapsed:   22.8s remaining:   -2.5s\n",
      "[Parallel(n_jobs=-1)]: Done   9 out of   8 | elapsed:   22.9s remaining:   -2.5s\n",
      "[Parallel(n_jobs=-1)]: Done   9 out of   8 | elapsed:   23.0s remaining:   -2.6s\n"
     ]
    },
    {
     "name": "stdout",
     "output_type": "stream",
     "text": [
      "[CV]  n_estimators=500, random_state=1234, criterion=entropy, score=-1.052441 -  31.8s\n",
      "[CV]  n_estimators=500, random_state=1234, criterion=entropy, score=-0.999346 -  31.9s\n"
     ]
    },
    {
     "name": "stderr",
     "output_type": "stream",
     "text": [
      "[Parallel(n_jobs=-1)]: Done   9 out of   8 | elapsed:   31.9s remaining:   -3.5s\n",
      "[Parallel(n_jobs=-1)]: Done   9 out of   8 | elapsed:   32.0s remaining:   -3.6s\n"
     ]
    },
    {
     "name": "stdout",
     "output_type": "stream",
     "text": [
      "[CV]  n_estimators=500, random_state=1234, criterion=entropy, score=-1.043949 -  32.0s\n",
      "[CV]  n_estimators=500, random_state=1234, criterion=entropy, score=-1.027464 -  32.1s\n"
     ]
    },
    {
     "name": "stderr",
     "output_type": "stream",
     "text": [
      "[Parallel(n_jobs=-1)]: Done   9 out of   8 | elapsed:   32.1s remaining:   -3.6s\n",
      "[Parallel(n_jobs=-1)]: Done   9 out of   8 | elapsed:   32.2s remaining:   -3.6s\n",
      "[Parallel(n_jobs=-1)]: Done   8 out of   8 | elapsed:   32.2s finished\n"
     ]
    },
    {
     "name": "stdout",
     "output_type": "stream",
     "text": [
      "Best score: -1.011\n",
      "('Best parameters set:', {'n_estimators': 500, 'random_state': 1234, 'criterion': 'gini'})\n",
      "('Scores:', [mean: -1.01111, std: 0.00988, params: {'n_estimators': 500, 'random_state': 1234, 'criterion': 'gini'}, mean: -1.03080, std: 0.02026, params: {'n_estimators': 500, 'random_state': 1234, 'criterion': 'entropy'}])\n"
     ]
    }
   ],
   "source": [
    "train_X = full_data[:dict_cols['train_size']][dict_cols['categorical_cols'] + dict_cols['numerical_cols']].values\n",
    "train_y = full_data[:dict_cols['train_size']][dict_cols['label_col']].values.reshape(dict_cols['train_size'])\n",
    "param_grid = {'criterion':['gini', 'entropy'], 'n_estimators':[500], 'random_state' : [1234]}\n",
    "model = search_model(train_X\n",
    "            , train_y\n",
    "            , RandomForestClassifier()\n",
    "            , param_grid\n",
    "            , -1\n",
    "            , 4\n",
    "            , True)"
   ]
  },
  {
   "cell_type": "code",
   "execution_count": 454,
   "metadata": {
    "collapsed": false
   },
   "outputs": [
    {
     "data": {
      "image/png": "[encoded data removed]",
      "text/plain": [
       "<matplotlib.figure.Figure at 0x10cfee990>"
      ]
     },
     "metadata": {},
     "output_type": "display_data"
    }
   ],
   "source": [
    "# plot feature importance\n",
    "plot_feature_importance(model.best_estimator_.feature_importances_, dict_cols['categorical_cols'] + dict_cols['numerical_cols'])"
   ]
  },
  {
   "cell_type": "markdown",
   "metadata": {},
   "source": [
    "## Merge breed"
   ]
  },
  {
   "cell_type": "code",
   "execution_count": 685,
   "metadata": {
    "collapsed": false
   },
   "outputs": [
    {
     "name": "stdout",
     "output_type": "stream",
     "text": [
      "Loading train data finished in 0.067s\n",
      "Loading test data finished in 0.090s\n",
      "train data size: 26729\n",
      "test data size: 11456\n"
     ]
    }
   ],
   "source": [
    "dict_cols, full_data = load_data()"
   ]
  },
  {
   "cell_type": "code",
   "execution_count": 686,
   "metadata": {
    "collapsed": true
   },
   "outputs": [],
   "source": [
    "full_data['AgeuponOutcome'] = full_data['AgeuponOutcome'].apply(age2days)\n",
    "full_data['Breed'] = full_data['Breed'].apply(lambda x: '-'.join(sorted(list(set(x.split(\"/\"))))))\n",
    "dict_cols['categorical_cols'].remove('AgeuponOutcome')\n",
    "dict_cols['numerical_cols'].append('AgeuponOutcome')"
   ]
  },
  {
   "cell_type": "code",
   "execution_count": 687,
   "metadata": {
    "collapsed": false
   },
   "outputs": [
    {
     "name": "stdout",
     "output_type": "stream",
     "text": [
      "Label encoding column: Name\n",
      "Label encoding column: AnimalType\n",
      "Label encoding column: SexuponOutcome\n",
      "Label encoding column: Breed\n",
      "Label encoding column: Color\n",
      "Label encoding column: DateTime\n",
      "Label encoding column: OutcomeType\n"
     ]
    },
    {
     "data": {
      "text/plain": [
       "{nan: 0,\n",
       " 'Adoption': 1,\n",
       " 'Died': 2,\n",
       " 'Euthanasia': 3,\n",
       " 'Return_to_owner': 4,\n",
       " 'Transfer': 5}"
      ]
     },
     "execution_count": 687,
     "metadata": {},
     "output_type": "execute_result"
    }
   ],
   "source": [
    "label_encoding(dict_cols['categorical_cols'] + dict_cols['label_col'], full_data)"
   ]
  },
  {
   "cell_type": "code",
   "execution_count": 688,
   "metadata": {
    "collapsed": false
   },
   "outputs": [
    {
     "name": "stdout",
     "output_type": "stream",
     "text": [
      "Fitting 4 folds for each of 2 candidates, totalling 8 fits\n",
      "[CV] n_estimators=500, random_state=1234, criterion=gini .............\n",
      "[CV] n_estimators=500, random_state=1234, criterion=gini .............\n",
      "[CV] n_estimators=500, random_state=1234, criterion=gini .............\n",
      "[CV] n_estimators=500, random_state=1234, criterion=gini .............\n",
      "[CV] n_estimators=500, random_state=1234, criterion=entropy ..........\n",
      "[CV] n_estimators=500, random_state=1234, criterion=entropy ..........\n",
      "[CV] n_estimators=500, random_state=1234, criterion=entropy ..........\n",
      "[CV] n_estimators=500, random_state=1234, criterion=entropy ..........\n",
      "[CV]  n_estimators=500, random_state=1234, criterion=gini, score=-1.059662 -  22.2s\n",
      "[CV]  n_estimators=500, random_state=1234, criterion=gini, score=-1.033389 -  22.2s\n"
     ]
    },
    {
     "name": "stderr",
     "output_type": "stream",
     "text": [
      "[Parallel(n_jobs=-1)]: Done   9 out of   8 | elapsed:   22.3s remaining:   -2.5s\n"
     ]
    },
    {
     "name": "stdout",
     "output_type": "stream",
     "text": [
      "[CV]  n_estimators=500, random_state=1234, criterion=gini, score=-1.027854 -  22.5s\n",
      "[CV]  n_estimators=500, random_state=1234, criterion=gini, score=-1.027221 -  22.6s\n"
     ]
    },
    {
     "name": "stderr",
     "output_type": "stream",
     "text": [
      "[Parallel(n_jobs=-1)]: Done   9 out of   8 | elapsed:   22.5s remaining:   -2.5s\n",
      "[Parallel(n_jobs=-1)]: Done   9 out of   8 | elapsed:   22.6s remaining:   -2.5s\n"
     ]
    },
    {
     "name": "stdout",
     "output_type": "stream",
     "text": [
      "[CV]  n_estimators=500, random_state=1234, criterion=entropy, score=-1.066090 -  32.7s\n",
      "[CV]  n_estimators=500, random_state=1234, criterion=entropy, score=-1.011566 -  32.9s\n"
     ]
    },
    {
     "name": "stderr",
     "output_type": "stream",
     "text": [
      "[Parallel(n_jobs=-1)]: Done   9 out of   8 | elapsed:   32.8s remaining:   -3.6s\n"
     ]
    },
    {
     "name": "stdout",
     "output_type": "stream",
     "text": [
      "[CV]  n_estimators=500, random_state=1234, criterion=entropy, score=-1.049797 -  33.1s\n"
     ]
    },
    {
     "name": "stderr",
     "output_type": "stream",
     "text": [
      "[Parallel(n_jobs=-1)]: Done   9 out of   8 | elapsed:   33.0s remaining:   -3.7s\n",
      "[Parallel(n_jobs=-1)]: Done   9 out of   8 | elapsed:   33.2s remaining:   -3.7s\n"
     ]
    },
    {
     "name": "stdout",
     "output_type": "stream",
     "text": [
      "[CV]  n_estimators=500, random_state=1234, criterion=entropy, score=-1.036608 -  33.3s\n"
     ]
    },
    {
     "name": "stderr",
     "output_type": "stream",
     "text": [
      "[Parallel(n_jobs=-1)]: Done   9 out of   8 | elapsed:   33.4s remaining:   -3.7s\n",
      "[Parallel(n_jobs=-1)]: Done   8 out of   8 | elapsed:   33.4s finished\n"
     ]
    },
    {
     "name": "stdout",
     "output_type": "stream",
     "text": [
      "Best score: -1.037\n",
      "('Best parameters set:', {'n_estimators': 500, 'random_state': 1234, 'criterion': 'gini'})\n",
      "('Scores:', [mean: -1.03703, std: 0.01328, params: {'n_estimators': 500, 'random_state': 1234, 'criterion': 'gini'}, mean: -1.04102, std: 0.01995, params: {'n_estimators': 500, 'random_state': 1234, 'criterion': 'entropy'}])\n"
     ]
    }
   ],
   "source": [
    "train_X = full_data[:dict_cols['train_size']][dict_cols['categorical_cols'] + dict_cols['numerical_cols']].values\n",
    "train_y = full_data[:dict_cols['train_size']][dict_cols['label_col']].values.reshape(dict_cols['train_size'])\n",
    "param_grid = {'criterion':['gini', 'entropy'], 'n_estimators':[500], 'random_state' : [1234]}\n",
    "model = search_model(train_X\n",
    "            , train_y\n",
    "            , RandomForestClassifier()\n",
    "            , param_grid\n",
    "            , -1\n",
    "            , 4\n",
    "            , True)"
   ]
  },
  {
   "cell_type": "code",
   "execution_count": 689,
   "metadata": {
    "collapsed": false
   },
   "outputs": [
    {
     "data": {
      "image/png": "[encoded data removed]",
      "text/plain": [
       "<matplotlib.figure.Figure at 0x13e4a81d0>"
      ]
     },
     "metadata": {},
     "output_type": "display_data"
    }
   ],
   "source": [
    "plot_feature_importance(model.best_estimator_.feature_importances_, dict_cols['categorical_cols'] + dict_cols['numerical_cols'])"
   ]
  },
  {
   "cell_type": "markdown",
   "metadata": {},
   "source": [
    "## Add name length"
   ]
  },
  {
   "cell_type": "code",
   "execution_count": 7,
   "metadata": {
    "collapsed": false
   },
   "outputs": [
    {
     "name": "stdout",
     "output_type": "stream",
     "text": [
      "Loading train data finished in 0.073s\n",
      "Loading test data finished in 0.096s\n",
      "train data size: 26729\n",
      "test data size: 11456\n"
     ]
    }
   ],
   "source": [
    "dict_cols, full_data = load_data()"
   ]
  },
  {
   "cell_type": "code",
   "execution_count": 8,
   "metadata": {
    "collapsed": false
   },
   "outputs": [],
   "source": [
    "full_data['AgeuponOutcome'] = full_data['AgeuponOutcome'].apply(age2days)\n",
    "full_data['Breed'] = full_data['Breed'].apply(lambda x: '-'.join(sorted(list(set(x.split(\"/\"))))))"
   ]
  },
  {
   "cell_type": "code",
   "execution_count": 10,
   "metadata": {
    "collapsed": false
   },
   "outputs": [],
   "source": [
    "full_data['NameLength'] = full_data['Name'].apply(lambda x: len(str(x)) if x else 0)"
   ]
  },
  {
   "cell_type": "code",
   "execution_count": 11,
   "metadata": {
    "collapsed": false
   },
   "outputs": [],
   "source": [
    "dict_cols['categorical_cols'].remove('AgeuponOutcome')\n",
    "dict_cols['numerical_cols'].append('AgeuponOutcome')\n",
    "dict_cols['numerical_cols'].append('NameLength')"
   ]
  },
  {
   "cell_type": "code",
   "execution_count": 12,
   "metadata": {
    "collapsed": false
   },
   "outputs": [
    {
     "name": "stdout",
     "output_type": "stream",
     "text": [
      "Label encoding column: Name\n",
      "Label encoding column: AnimalType\n",
      "Label encoding column: SexuponOutcome\n",
      "Label encoding column: Breed\n",
      "Label encoding column: Color\n",
      "Label encoding column: DateTime\n",
      "Label encoding column: OutcomeType\n"
     ]
    },
    {
     "data": {
      "text/plain": [
       "{nan: 0,\n",
       " 'Adoption': 1,\n",
       " 'Died': 2,\n",
       " 'Euthanasia': 3,\n",
       " 'Return_to_owner': 4,\n",
       " 'Transfer': 5}"
      ]
     },
     "execution_count": 12,
     "metadata": {},
     "output_type": "execute_result"
    }
   ],
   "source": [
    "label_encoding(dict_cols['categorical_cols'] + dict_cols['label_col'], full_data)"
   ]
  },
  {
   "cell_type": "code",
   "execution_count": 13,
   "metadata": {
    "collapsed": false
   },
   "outputs": [
    {
     "name": "stdout",
     "output_type": "stream",
     "text": [
      "Fitting 4 folds for each of 2 candidates, totalling 8 fits\n",
      "[CV] n_estimators=500, random_state=1234, criterion=gini .............\n",
      "[CV] n_estimators=500, random_state=1234, criterion=gini .............\n",
      "[CV] n_estimators=500, random_state=1234, criterion=gini .............\n",
      "[CV] n_estimators=500, random_state=1234, criterion=gini .............\n",
      "[CV] n_estimators=500, random_state=1234, criterion=entropy ..........\n",
      "[CV] n_estimators=500, random_state=1234, criterion=entropy ..........\n",
      "[CV] n_estimators=500, random_state=1234, criterion=entropy ..........\n",
      "[CV] n_estimators=500, random_state=1234, criterion=entropy ..........\n",
      "[CV]  n_estimators=500, random_state=1234, criterion=gini, score=-1.003362 -  23.0s\n",
      "[CV]  n_estimators=500, random_state=1234, criterion=gini, score=-1.010711 -  23.0s\n",
      "[CV]  n_estimators=500, random_state=1234, criterion=gini, score=-1.022240 -  23.2s\n",
      "[CV]  n_estimators=500, random_state=1234, criterion=gini, score=-0.997411 -  23.2s\n"
     ]
    },
    {
     "name": "stderr",
     "output_type": "stream",
     "text": [
      "[Parallel(n_jobs=-1)]: Done   9 out of   8 | elapsed:   23.1s remaining:   -2.6s\n",
      "[Parallel(n_jobs=-1)]: Done   9 out of   8 | elapsed:   23.2s remaining:   -2.6s\n",
      "[Parallel(n_jobs=-1)]: Done   9 out of   8 | elapsed:   23.3s remaining:   -2.6s\n"
     ]
    },
    {
     "name": "stdout",
     "output_type": "stream",
     "text": [
      "[CV]  n_estimators=500, random_state=1234, criterion=entropy, score=-1.023559 -  31.7s\n",
      "[CV]  n_estimators=500, random_state=1234, criterion=entropy, score=-0.997975 -  31.7s\n",
      "[CV]  n_estimators=500, random_state=1234, criterion=entropy, score=-1.030174 -  31.9s\n"
     ]
    },
    {
     "name": "stderr",
     "output_type": "stream",
     "text": [
      "[Parallel(n_jobs=-1)]: Done   9 out of   8 | elapsed:   31.8s remaining:   -3.5s\n",
      "[Parallel(n_jobs=-1)]: Done   9 out of   8 | elapsed:   31.9s remaining:   -3.5s\n",
      "[Parallel(n_jobs=-1)]: Done   9 out of   8 | elapsed:   32.0s remaining:   -3.6s\n"
     ]
    },
    {
     "name": "stdout",
     "output_type": "stream",
     "text": [
      "[CV]  n_estimators=500, random_state=1234, criterion=entropy, score=-1.003595 -  31.9s\n"
     ]
    },
    {
     "name": "stderr",
     "output_type": "stream",
     "text": [
      "[Parallel(n_jobs=-1)]: Done   9 out of   8 | elapsed:   32.0s remaining:   -3.6s\n",
      "[Parallel(n_jobs=-1)]: Done   8 out of   8 | elapsed:   32.0s finished\n"
     ]
    },
    {
     "name": "stdout",
     "output_type": "stream",
     "text": [
      "Best score: -1.008\n",
      "('Best parameters set:', {'n_estimators': 500, 'random_state': 1234, 'criterion': 'gini'})\n",
      "('Scores:', [mean: -1.00843, std: 0.00926, params: {'n_estimators': 500, 'random_state': 1234, 'criterion': 'gini'}, mean: -1.01383, std: 0.01340, params: {'n_estimators': 500, 'random_state': 1234, 'criterion': 'entropy'}])\n"
     ]
    }
   ],
   "source": [
    "train_X = full_data[:dict_cols['train_size']][dict_cols['categorical_cols'] + dict_cols['numerical_cols']].values\n",
    "train_y = full_data[:dict_cols['train_size']][dict_cols['label_col']].values.reshape(dict_cols['train_size'])\n",
    "param_grid = {'criterion':['gini', 'entropy'], 'n_estimators':[500], 'random_state' : [1234]}\n",
    "model = search_model(train_X\n",
    "            , train_y\n",
    "            , RandomForestClassifier()\n",
    "            , param_grid\n",
    "            , -1\n",
    "            , 4\n",
    "            , True)"
   ]
  },
  {
   "cell_type": "code",
   "execution_count": null,
   "metadata": {
    "collapsed": false
   },
   "outputs": [],
   "source": [
    "plot_feature_importance(model.best_estimator_.feature_importances_, dict_cols['categorical_cols'] + dict_cols['numerical_cols'])"
   ]
  },
  {
   "cell_type": "markdown",
   "metadata": {},
   "source": [
    "## Name gender"
   ]
  },
  {
   "cell_type": "code",
   "execution_count": 491,
   "metadata": {
    "collapsed": false
   },
   "outputs": [
    {
     "name": "stdout",
     "output_type": "stream",
     "text": [
      "Loading train data finished in 0.066s\n",
      "Loading test data finished in 0.091s\n",
      "train data size: 26729\n",
      "test data size: 11456\n"
     ]
    }
   ],
   "source": [
    "dict_cols, full_data = load_data()"
   ]
  },
  {
   "cell_type": "code",
   "execution_count": 492,
   "metadata": {
    "collapsed": false
   },
   "outputs": [],
   "source": [
    "full_data['AgeuponOutcome'] = full_data['AgeuponOutcome'].apply(age2days)\n",
    "full_data['Breed'] = full_data['Breed'].apply(lambda x: '-'.join(sorted(list(set(x.split(\"/\"))))))\n",
    "full_data['NameLength'] = full_data['Name'].apply(lambda x: len(str(x)) if x==x else 0)"
   ]
  },
  {
   "cell_type": "code",
   "execution_count": 493,
   "metadata": {
    "collapsed": true
   },
   "outputs": [],
   "source": [
    "dict_cols['categorical_cols'].remove('AgeuponOutcome')\n",
    "dict_cols['numerical_cols'].append('AgeuponOutcome')\n",
    "dict_cols['numerical_cols'].append('NameLength')"
   ]
  },
  {
   "cell_type": "code",
   "execution_count": 494,
   "metadata": {
    "collapsed": false
   },
   "outputs": [],
   "source": [
    "# transform sexuponoutcome into female, male, none\n",
    "import re\n",
    "full_data['SexuponOutcome'] = full_data['SexuponOutcome'].apply(lambda x : ''.join(re.findall(r'Male|Female', str(x))).lower() if x==x else '')\n",
    "\n",
    "# obtain gender from name\n",
    "namegender = pd.read_csv('./data/namegender.csv').set_index('name')\n",
    "namegender['gender'].replace('none', '', inplace=True)\n",
    "\n",
    "def get_gender(x):\n",
    "    if x in list(namegender.index):\n",
    "        return ''.join(namegender.loc[x]['gender'])\n",
    "    else:\n",
    "        return ''\n",
    "    \n",
    "full_data['namegender'] = full_data['Name'].apply(lambda x : get_gender(x) if x==x else '')\n",
    "dict_cols['categorical_cols'].append('namegender')\n",
    "# add new feature of if name gender is equal to sex\n",
    "full_data['sex_gender'] = full_data.apply(lambda x : x['SexuponOutcome'] == x['namegender'], axis=1)\n",
    "dict_cols['categorical_cols'].append('sex_gender')"
   ]
  },
  {
   "cell_type": "code",
   "execution_count": 517,
   "metadata": {
    "collapsed": false
   },
   "outputs": [
    {
     "name": "stdout",
     "output_type": "stream",
     "text": [
      "Label encoding column: Name\n",
      "Label encoding column: AnimalType\n",
      "Label encoding column: SexuponOutcome\n",
      "Label encoding column: Breed\n",
      "Label encoding column: Color\n",
      "Label encoding column: DateTime\n",
      "Label encoding column: namegender\n",
      "Label encoding column: sex_gender\n",
      "Label encoding column: OutcomeType\n"
     ]
    },
    {
     "data": {
      "text/plain": [
       "{nan: 0,\n",
       " 'Adoption': 1,\n",
       " 'Died': 2,\n",
       " 'Euthanasia': 3,\n",
       " 'Return_to_owner': 4,\n",
       " 'Transfer': 5}"
      ]
     },
     "execution_count": 517,
     "metadata": {},
     "output_type": "execute_result"
    }
   ],
   "source": [
    "label_encoding(dict_cols['categorical_cols'] + dict_cols['label_col'], full_data)"
   ]
  },
  {
   "cell_type": "code",
   "execution_count": 518,
   "metadata": {
    "collapsed": false
   },
   "outputs": [
    {
     "name": "stdout",
     "output_type": "stream",
     "text": [
      "Fitting 4 folds for each of 2 candidates, totalling 8 fits\n",
      "[CV] n_estimators=500, random_state=1234, criterion=gini .............\n",
      "[CV] n_estimators=500, random_state=1234, criterion=gini .............\n",
      "[CV] n_estimators=500, random_state=1234, criterion=gini .............\n",
      "[CV] n_estimators=500, random_state=1234, criterion=gini .............\n",
      "[CV] n_estimators=500, random_state=1234, criterion=entropy ..........\n",
      "[CV] n_estimators=500, random_state=1234, criterion=entropy ..........\n",
      "[CV] n_estimators=500, random_state=1234, criterion=entropy ..........\n",
      "[CV] n_estimators=500, random_state=1234, criterion=entropy ..........\n",
      "[CV]  n_estimators=500, random_state=1234, criterion=gini, score=-1.204250 -  27.6s\n",
      "[CV]  n_estimators=500, random_state=1234, criterion=gini, score=-1.195812 -  27.6s\n",
      "[CV]  n_estimators=500, random_state=1234, criterion=gini, score=-1.186180 -  27.6s\n",
      "[CV]  n_estimators=500, random_state=1234, criterion=gini, score=-1.243609 -  27.6s\n"
     ]
    },
    {
     "name": "stderr",
     "output_type": "stream",
     "text": [
      "[Parallel(n_jobs=-1)]: Done   9 out of   8 | elapsed:   27.6s remaining:   -3.1s\n",
      "[Parallel(n_jobs=-1)]: Done   9 out of   8 | elapsed:   27.7s remaining:   -3.1s\n",
      "[Parallel(n_jobs=-1)]: Done   9 out of   8 | elapsed:   27.7s remaining:   -3.1s\n"
     ]
    },
    {
     "name": "stdout",
     "output_type": "stream",
     "text": [
      "[CV]  n_estimators=500, random_state=1234, criterion=entropy, score=-1.228404 -  39.3s\n",
      "[CV]  n_estimators=500, random_state=1234, criterion=entropy, score=-1.232011 -  39.4s\n"
     ]
    },
    {
     "name": "stderr",
     "output_type": "stream",
     "text": [
      "[Parallel(n_jobs=-1)]: Done   9 out of   8 | elapsed:   39.3s remaining:   -4.4s\n"
     ]
    },
    {
     "name": "stdout",
     "output_type": "stream",
     "text": [
      "[CV]  n_estimators=500, random_state=1234, criterion=entropy, score=-1.208315 -  39.5s\n",
      "[CV]  n_estimators=500, random_state=1234, criterion=entropy, score=-1.213883 -  39.5s\n"
     ]
    },
    {
     "name": "stderr",
     "output_type": "stream",
     "text": [
      "[Parallel(n_jobs=-1)]: Done   9 out of   8 | elapsed:   39.5s remaining:   -4.4s\n",
      "[Parallel(n_jobs=-1)]: Done   9 out of   8 | elapsed:   39.6s remaining:   -4.4s\n",
      "[Parallel(n_jobs=-1)]: Done   9 out of   8 | elapsed:   39.6s remaining:   -4.4s\n",
      "[Parallel(n_jobs=-1)]: Done   8 out of   8 | elapsed:   39.6s finished\n"
     ]
    },
    {
     "name": "stdout",
     "output_type": "stream",
     "text": [
      "Best score: -1.207\n",
      "('Best parameters set:', {'n_estimators': 500, 'random_state': 1234, 'criterion': 'gini'})\n",
      "('Scores:', [mean: -1.20746, std: 0.02183, params: {'n_estimators': 500, 'random_state': 1234, 'criterion': 'gini'}, mean: -1.22065, std: 0.00984, params: {'n_estimators': 500, 'random_state': 1234, 'criterion': 'entropy'}])\n"
     ]
    }
   ],
   "source": [
    "train_X = full_data[:dict_cols['train_size']][dict_cols['categorical_cols'] + dict_cols['numerical_cols']].values\n",
    "train_y = full_data[:dict_cols['train_size']][dict_cols['label_col']].values.reshape(dict_cols['train_size'])\n",
    "param_grid = {'criterion':['gini', 'entropy'], 'n_estimators':[500], 'random_state' : [1234]}\n",
    "model = search_model(train_X\n",
    "            , train_y\n",
    "            , RandomForestClassifier()\n",
    "            , param_grid\n",
    "            , -1\n",
    "            , 4\n",
    "            , True)"
   ]
  },
  {
   "cell_type": "code",
   "execution_count": 259,
   "metadata": {
    "collapsed": false,
    "scrolled": true
   },
   "outputs": [],
   "source": [
    "#genders = Genderize().get(full_data['Name'].tolist()[1:5])"
   ]
  },
  {
   "cell_type": "code",
   "execution_count": 636,
   "metadata": {
    "collapsed": true
   },
   "outputs": [],
   "source": [
    "# function to find name gender\n",
    "# generize only allow maximum 10 request one time\n",
    "def getGenders(names):        \n",
    "    names_len = names.size\n",
    "    req_n = names_len / 10\n",
    "    max_req = 10\n",
    "    genders = []\n",
    "    for i in xrange(req_n + 1):\n",
    "        url = ''\n",
    "        cnt = 0\n",
    "        step = max_req if (i + 1) * max_req >= names_len else names_len % 10\n",
    "        bf = names[i * max_req : i * max_req + step + 1]\n",
    "        for j in xrange(bf.size):\n",
    "            if url == '':\n",
    "                url = \"name[0]=\" + bf[j]\n",
    "            else:\n",
    "                cnt += 1\n",
    "                url = \"{0}&name[{1}]={2}\".format(url, cnt, bf[j])\n",
    "        print url\n",
    "        break\n",
    "    \n",
    "        req = requests.get(\"http://api.genderize.io?\" + url)\n",
    "        results = json.loads(req.text)\n",
    "        genders.append(results)\n",
    "        break\n",
    "#         if names.size == 1:\n",
    "#             results = [results, ]\n",
    "\n",
    "#         for result in results:\n",
    "#             if result['gender']:\n",
    "#                 genders.append((result['name'], result['gender'], result['probability'], result['count']))\n",
    "#             else:\n",
    "#                 genders.append((result['name'], u'None',u'0.0',0.0))\n",
    "    return genders"
   ]
  },
  {
   "cell_type": "code",
   "execution_count": 637,
   "metadata": {
    "collapsed": false
   },
   "outputs": [
    {
     "name": "stdout",
     "output_type": "stream",
     "text": [
      "name[0]=Hambone&name[1]=Emily&name[2]=Pearce&name[3]=nan&name[4]=Elsa&name[5]=Jimmy&name[6]=Lucy&name[7]=Rocket&name[8]=Scooter&name[9]=Preston\n"
     ]
    }
   ],
   "source": [
    "genders = getGenders(full_data['Name'].unique())"
   ]
  },
  {
   "cell_type": "code",
   "execution_count": 635,
   "metadata": {
    "collapsed": false
   },
   "outputs": [
    {
     "data": {
      "text/plain": [
       "[{u'error': u'Request limit reached'}]"
      ]
     },
     "execution_count": 635,
     "metadata": {},
     "output_type": "execute_result"
    }
   ],
   "source": [
    "genders[0:10]"
   ]
  },
  {
   "cell_type": "markdown",
   "metadata": {},
   "source": [
    "## Datetime"
   ]
  },
  {
   "cell_type": "code",
   "execution_count": 519,
   "metadata": {
    "collapsed": false,
    "scrolled": true
   },
   "outputs": [
    {
     "name": "stdout",
     "output_type": "stream",
     "text": [
      "Loading train data finished in 0.073s\n",
      "Loading test data finished in 0.098s\n",
      "train data size: 26729\n",
      "test data size: 11456\n"
     ]
    }
   ],
   "source": [
    "dict_cols, full_data = load_data()"
   ]
  },
  {
   "cell_type": "code",
   "execution_count": 520,
   "metadata": {
    "collapsed": false
   },
   "outputs": [],
   "source": [
    "full_data['AgeuponOutcome'] = full_data['AgeuponOutcome'].apply(age2days)\n",
    "full_data['Breed'] = full_data['Breed'].apply(lambda x: '-'.join(sorted(list(set(x.split(\"/\"))))))\n",
    "full_data['NameLength'] = full_data['Name'].apply(lambda x: len(str(x)) if x else 0)"
   ]
  },
  {
   "cell_type": "code",
   "execution_count": 521,
   "metadata": {
    "collapsed": true
   },
   "outputs": [],
   "source": [
    "dict_cols['categorical_cols'].remove('AgeuponOutcome')\n",
    "dict_cols['numerical_cols'].append('AgeuponOutcome')\n",
    "dict_cols['numerical_cols'].append('NameLength')"
   ]
  },
  {
   "cell_type": "code",
   "execution_count": 522,
   "metadata": {
    "collapsed": false
   },
   "outputs": [],
   "source": [
    "full_data['year'] = full_data['DateTime'].dt.year\n",
    "full_data['month'] = full_data['DateTime'].dt.month\n",
    "full_data['day'] = full_data['DateTime'].dt.day\n",
    "full_data['weekday'] = full_data['DateTime'].dt.dayofweek\n",
    "full_data['weekyear'] = full_data['DateTime'].dt.weekofyear\n",
    "full_data['hour'] = full_data['DateTime'].dt.hour"
   ]
  },
  {
   "cell_type": "code",
   "execution_count": 523,
   "metadata": {
    "collapsed": true
   },
   "outputs": [],
   "source": [
    "dict_cols['numerical_cols'].append('year')\n",
    "dict_cols['numerical_cols'].append('month')\n",
    "dict_cols['numerical_cols'].append('day')\n",
    "dict_cols['numerical_cols'].append('weekday')\n",
    "dict_cols['numerical_cols'].append('weekyear')\n",
    "dict_cols['numerical_cols'].append('hour') "
   ]
  },
  {
   "cell_type": "code",
   "execution_count": 524,
   "metadata": {
    "collapsed": false
   },
   "outputs": [],
   "source": [
    "full_data[\"DateTime\"] = full_data[\"DateTime\"].apply(lambda x:str(x))"
   ]
  },
  {
   "cell_type": "code",
   "execution_count": 525,
   "metadata": {
    "collapsed": true
   },
   "outputs": [],
   "source": [
    "# # transform sexuponoutcome into female, male, none\n",
    "# import re\n",
    "# full_data['SexuponOutcome'] = full_data['SexuponOutcome'].apply(lambda x : ''.join(re.findall(r'Male|Female', str(x))).lower() if x==x else '')\n",
    "# # obtain gender from name\n",
    "# namegender = pd.read_csv('./data/namegender.csv').set_index('name')\n",
    "# namegender['gender'].replace('none', '', inplace=True)\n",
    "# def get_gender(x):\n",
    "#     if x in list(namegender.index):\n",
    "#         return ''.join(namegender.loc[x]['gender'])\n",
    "#     else:\n",
    "#         return ''\n",
    "# full_data['namegender'] = full_data['Name'].apply(lambda x : get_gender(x) if x==x else '')\n",
    "# dict_cols['categorical_cols'].append('namegender')\n",
    "# # add new feature of if name gender is equal to sex\n",
    "# full_data['sex_gender'] = full_data.apply(lambda x : x['SexuponOutcome'] == x['namegender'], axis=1)\n",
    "# dict_cols['categorical_cols'].append('sex_gender')"
   ]
  },
  {
   "cell_type": "code",
   "execution_count": 526,
   "metadata": {
    "collapsed": false
   },
   "outputs": [
    {
     "name": "stdout",
     "output_type": "stream",
     "text": [
      "Label encoding column: Name\n",
      "Label encoding column: AnimalType\n",
      "Label encoding column: SexuponOutcome\n",
      "Label encoding column: Breed\n",
      "Label encoding column: Color\n",
      "Label encoding column: DateTime\n",
      "Label encoding column: namegender\n",
      "Label encoding column: sex_gender\n",
      "Label encoding column: OutcomeType\n"
     ]
    },
    {
     "data": {
      "text/plain": [
       "{nan: 0,\n",
       " 'Adoption': 1,\n",
       " 'Died': 2,\n",
       " 'Euthanasia': 3,\n",
       " 'Return_to_owner': 4,\n",
       " 'Transfer': 5}"
      ]
     },
     "execution_count": 526,
     "metadata": {},
     "output_type": "execute_result"
    }
   ],
   "source": [
    "label_encoding(dict_cols['categorical_cols'] + dict_cols['label_col'], full_data)"
   ]
  },
  {
   "cell_type": "code",
   "execution_count": 527,
   "metadata": {
    "collapsed": false
   },
   "outputs": [
    {
     "name": "stdout",
     "output_type": "stream",
     "text": [
      "Fitting 4 folds for each of 2 candidates, totalling 8 fits\n",
      "[CV] n_estimators=500, random_state=1234, criterion=gini .............\n",
      "[CV] n_estimators=500, random_state=1234, criterion=gini .............\n",
      "[CV] n_estimators=500, random_state=1234, criterion=gini .............\n",
      "[CV] n_estimators=500, random_state=1234, criterion=gini .............\n",
      "[CV] n_estimators=500, random_state=1234, criterion=entropy ..........\n",
      "[CV] n_estimators=500, random_state=1234, criterion=entropy ..........\n",
      "[CV] n_estimators=500, random_state=1234, criterion=entropy ..........\n",
      "[CV] n_estimators=500, random_state=1234, criterion=entropy ..........\n",
      "[CV]  n_estimators=500, random_state=1234, criterion=gini, score=-0.911523 -  30.0s\n",
      "[CV]  n_estimators=500, random_state=1234, criterion=gini, score=-0.887272 -  30.0s\n",
      "[CV]  n_estimators=500, random_state=1234, criterion=gini, score=-0.909321 -  30.0s\n",
      "[CV]  n_estimators=500, random_state=1234, criterion=gini, score=-0.885906 -  30.0s\n"
     ]
    },
    {
     "name": "stderr",
     "output_type": "stream",
     "text": [
      "[Parallel(n_jobs=-1)]: Done   9 out of   8 | elapsed:   30.0s remaining:   -3.3s\n",
      "[Parallel(n_jobs=-1)]: Done   9 out of   8 | elapsed:   30.1s remaining:   -3.3s\n",
      "[Parallel(n_jobs=-1)]: Done   9 out of   8 | elapsed:   30.1s remaining:   -3.3s\n"
     ]
    },
    {
     "name": "stdout",
     "output_type": "stream",
     "text": [
      "[CV]  n_estimators=500, random_state=1234, criterion=entropy, score=-0.893414 -  40.9s\n",
      "[CV]  n_estimators=500, random_state=1234, criterion=entropy, score=-0.904375 -  41.0s\n",
      "[CV]  n_estimators=500, random_state=1234, criterion=entropy, score=-0.922422 -  41.1s\n",
      "[CV]  n_estimators=500, random_state=1234, criterion=entropy, score=-0.906418 -  41.0s\n"
     ]
    },
    {
     "name": "stderr",
     "output_type": "stream",
     "text": [
      "[Parallel(n_jobs=-1)]: Done   9 out of   8 | elapsed:   41.0s remaining:   -4.6s\n",
      "[Parallel(n_jobs=-1)]: Done   9 out of   8 | elapsed:   41.1s remaining:   -4.6s\n",
      "[Parallel(n_jobs=-1)]: Done   9 out of   8 | elapsed:   41.2s remaining:   -4.6s\n",
      "[Parallel(n_jobs=-1)]: Done   9 out of   8 | elapsed:   41.2s remaining:   -4.6s\n",
      "[Parallel(n_jobs=-1)]: Done   8 out of   8 | elapsed:   41.2s finished\n"
     ]
    },
    {
     "name": "stdout",
     "output_type": "stream",
     "text": [
      "Best score: -0.899\n",
      "('Best parameters set:', {'n_estimators': 500, 'random_state': 1234, 'criterion': 'gini'})\n",
      "('Scores:', [mean: -0.89850, std: 0.01195, params: {'n_estimators': 500, 'random_state': 1234, 'criterion': 'gini'}, mean: -0.90666, std: 0.01036, params: {'n_estimators': 500, 'random_state': 1234, 'criterion': 'entropy'}])\n"
     ]
    }
   ],
   "source": [
    "train_X = full_data[:dict_cols['train_size']][dict_cols['categorical_cols'] + dict_cols['numerical_cols']].values\n",
    "train_y = full_data[:dict_cols['train_size']][dict_cols['label_col']].values.reshape(dict_cols['train_size'])\n",
    "param_grid = {'criterion':['gini', 'entropy'], 'n_estimators':[500], 'random_state' : [1234]}\n",
    "model = search_model(train_X\n",
    "            , train_y\n",
    "            , RandomForestClassifier()\n",
    "            , param_grid\n",
    "            , -1\n",
    "            , 4\n",
    "            , True)"
   ]
  },
  {
   "cell_type": "code",
   "execution_count": 528,
   "metadata": {
    "collapsed": true
   },
   "outputs": [],
   "source": [
    "preds = model.best_estimator_.predict(full_data[dict_cols['train_size']:][dict_cols['categorical_cols'] + dict_cols['numerical_cols']])"
   ]
  },
  {
   "cell_type": "markdown",
   "metadata": {},
   "source": [
    "## Add age noise"
   ]
  },
  {
   "cell_type": "code",
   "execution_count": 586,
   "metadata": {
    "collapsed": false
   },
   "outputs": [
    {
     "name": "stdout",
     "output_type": "stream",
     "text": [
      "Loading train data finished in 0.065s\n",
      "Loading test data finished in 0.087s\n",
      "train data size: 26729\n",
      "test data size: 11456\n"
     ]
    }
   ],
   "source": [
    "dict_cols, full_data = load_data()\n",
    "full_data['AgeuponOutcome'] = full_data['AgeuponOutcome'].apply(age2days)\n",
    "full_data['Breed'] = full_data['Breed'].apply(lambda x: '-'.join(sorted(list(set(x.split(\"/\"))))))\n",
    "full_data['NameLength'] = full_data['Name'].apply(lambda x: len(str(x)) if x else 0)"
   ]
  },
  {
   "cell_type": "code",
   "execution_count": 587,
   "metadata": {
    "collapsed": true
   },
   "outputs": [],
   "source": [
    "dict_cols['categorical_cols'].remove('AgeuponOutcome')\n",
    "dict_cols['numerical_cols'].append('AgeuponOutcome')\n",
    "dict_cols['numerical_cols'].append('NameLength')"
   ]
  },
  {
   "cell_type": "code",
   "execution_count": 588,
   "metadata": {
    "collapsed": true
   },
   "outputs": [],
   "source": [
    "full_data['year'] = full_data['DateTime'].dt.year\n",
    "full_data['month'] = full_data['DateTime'].dt.month\n",
    "full_data['day'] = full_data['DateTime'].dt.day\n",
    "full_data['weekday'] = full_data['DateTime'].dt.dayofweek\n",
    "full_data['weekyear'] = full_data['DateTime'].dt.weekofyear\n",
    "full_data['hour'] = full_data['DateTime'].dt.hour"
   ]
  },
  {
   "cell_type": "code",
   "execution_count": 589,
   "metadata": {
    "collapsed": true
   },
   "outputs": [],
   "source": [
    "dict_cols['numerical_cols'].append('year')\n",
    "dict_cols['numerical_cols'].append('month')\n",
    "dict_cols['numerical_cols'].append('day')\n",
    "dict_cols['numerical_cols'].append('weekday')\n",
    "dict_cols['numerical_cols'].append('weekyear')\n",
    "dict_cols['numerical_cols'].append('hour') "
   ]
  },
  {
   "cell_type": "code",
   "execution_count": 590,
   "metadata": {
    "collapsed": false
   },
   "outputs": [],
   "source": [
    "# add one random day between 0 to 100\n",
    "full_data['AgeuponOutcome'] = full_data['AgeuponOutcome'].apply(lambda x : x + random.randrange(0, 101, 1))"
   ]
  },
  {
   "cell_type": "code",
   "execution_count": 591,
   "metadata": {
    "collapsed": false
   },
   "outputs": [
    {
     "name": "stdout",
     "output_type": "stream",
     "text": [
      "Label encoding column: Name\n",
      "Label encoding column: AnimalType\n",
      "Label encoding column: SexuponOutcome\n",
      "Label encoding column: Breed\n",
      "Label encoding column: Color\n",
      "Label encoding column: DateTime\n",
      "Label encoding column: OutcomeType\n"
     ]
    },
    {
     "data": {
      "text/plain": [
       "{nan: 0,\n",
       " 'Adoption': 1,\n",
       " 'Died': 2,\n",
       " 'Euthanasia': 3,\n",
       " 'Return_to_owner': 4,\n",
       " 'Transfer': 5}"
      ]
     },
     "execution_count": 591,
     "metadata": {},
     "output_type": "execute_result"
    }
   ],
   "source": [
    "label_encoding(dict_cols['categorical_cols'] + dict_cols['label_col'], full_data)"
   ]
  },
  {
   "cell_type": "code",
   "execution_count": 592,
   "metadata": {
    "collapsed": false
   },
   "outputs": [
    {
     "name": "stdout",
     "output_type": "stream",
     "text": [
      "Fitting 4 folds for each of 2 candidates, totalling 8 fits\n",
      "[CV] n_estimators=500, random_state=1234, criterion=gini .............\n",
      "[CV] n_estimators=500, random_state=1234, criterion=gini .............\n",
      "[CV] n_estimators=500, random_state=1234, criterion=gini .............\n",
      "[CV] n_estimators=500, random_state=1234, criterion=gini .............\n",
      "[CV] n_estimators=500, random_state=1234, criterion=entropy ..........\n",
      "[CV] n_estimators=500, random_state=1234, criterion=entropy ..........\n",
      "[CV] n_estimators=500, random_state=1234, criterion=entropy ..........\n",
      "[CV] n_estimators=500, random_state=1234, criterion=entropy ..........\n",
      "[CV]  n_estimators=500, random_state=1234, criterion=gini, score=-0.808125 -  25.4s\n",
      "[CV]  n_estimators=500, random_state=1234, criterion=gini, score=-0.790781 -  25.4s\n",
      "[CV]  n_estimators=500, random_state=1234, criterion=gini, score=-0.785853 -  25.4s\n",
      "[CV]  n_estimators=500, random_state=1234, criterion=gini, score=-0.796423 -  25.5s\n"
     ]
    },
    {
     "name": "stderr",
     "output_type": "stream",
     "text": [
      "[Parallel(n_jobs=-1)]: Done   9 out of   8 | elapsed:   25.5s remaining:   -2.8s\n",
      "[Parallel(n_jobs=-1)]: Done   9 out of   8 | elapsed:   25.5s remaining:   -2.8s\n",
      "[Parallel(n_jobs=-1)]: Done   9 out of   8 | elapsed:   25.6s remaining:   -2.8s\n"
     ]
    },
    {
     "name": "stdout",
     "output_type": "stream",
     "text": [
      "[CV]  n_estimators=500, random_state=1234, criterion=entropy, score=-0.807148 -  34.6s\n",
      "[CV]  n_estimators=500, random_state=1234, criterion=entropy, score=-0.802316 -  34.7s\n",
      "[CV]  n_estimators=500, random_state=1234, criterion=entropy, score=-0.794996 -  34.7s\n"
     ]
    },
    {
     "name": "stderr",
     "output_type": "stream",
     "text": [
      "[Parallel(n_jobs=-1)]: Done   9 out of   8 | elapsed:   34.6s remaining:   -3.8s\n",
      "[Parallel(n_jobs=-1)]: Done   9 out of   8 | elapsed:   34.8s remaining:   -3.9s\n",
      "[Parallel(n_jobs=-1)]: Done   9 out of   8 | elapsed:   34.8s remaining:   -3.9s\n"
     ]
    },
    {
     "name": "stdout",
     "output_type": "stream",
     "text": [
      "[CV]  n_estimators=500, random_state=1234, criterion=entropy, score=-0.803245 -  34.8s\n"
     ]
    },
    {
     "name": "stderr",
     "output_type": "stream",
     "text": [
      "[Parallel(n_jobs=-1)]: Done   9 out of   8 | elapsed:   34.9s remaining:   -3.9s\n",
      "[Parallel(n_jobs=-1)]: Done   8 out of   8 | elapsed:   34.9s finished\n"
     ]
    },
    {
     "name": "stdout",
     "output_type": "stream",
     "text": [
      "Best score: -0.795\n",
      "('Best parameters set:', {'n_estimators': 500, 'random_state': 1234, 'criterion': 'gini'})\n",
      "('Scores:', [mean: -0.79530, std: 0.00830, params: {'n_estimators': 500, 'random_state': 1234, 'criterion': 'gini'}, mean: -0.80193, std: 0.00439, params: {'n_estimators': 500, 'random_state': 1234, 'criterion': 'entropy'}])\n"
     ]
    }
   ],
   "source": [
    "train_X = full_data[:dict_cols['train_size']][dict_cols['categorical_cols'] + dict_cols['numerical_cols']].values\n",
    "train_y = full_data[:dict_cols['train_size']][dict_cols['label_col']].values.reshape(dict_cols['train_size'])\n",
    "param_grid = {'criterion':['gini', 'entropy'], 'n_estimators':[500], 'random_state' : [1234]}\n",
    "model = search_model(train_X\n",
    "            , train_y\n",
    "            , RandomForestClassifier()\n",
    "            , param_grid\n",
    "            , -1\n",
    "            , 4\n",
    "            , True)"
   ]
  },
  {
   "cell_type": "code",
   "execution_count": 593,
   "metadata": {
    "collapsed": true
   },
   "outputs": [],
   "source": [
    "preds = model.best_estimator_.predict(full_data[dict_cols['train_size']:][dict_cols['categorical_cols'] + dict_cols['numerical_cols']])"
   ]
  },
  {
   "cell_type": "markdown",
   "metadata": {},
   "source": [
    "## add hodidays"
   ]
  },
  {
   "cell_type": "code",
   "execution_count": 605,
   "metadata": {
    "collapsed": false
   },
   "outputs": [
    {
     "name": "stdout",
     "output_type": "stream",
     "text": [
      "Loading train data finished in 0.064s\n",
      "Loading test data finished in 0.085s\n",
      "train data size: 26729\n",
      "test data size: 11456\n"
     ]
    }
   ],
   "source": [
    "dict_cols, full_data = load_data()\n",
    "full_data['AgeuponOutcome'] = full_data['AgeuponOutcome'].apply(age2days)\n",
    "full_data['Breed'] = full_data['Breed'].apply(lambda x: '-'.join(sorted(list(set(x.split(\"/\"))))))\n",
    "full_data['NameLength'] = full_data['Name'].apply(lambda x: len(str(x)) if x else 0)"
   ]
  },
  {
   "cell_type": "code",
   "execution_count": 606,
   "metadata": {
    "collapsed": true
   },
   "outputs": [],
   "source": [
    "dict_cols['categorical_cols'].remove('AgeuponOutcome')\n",
    "dict_cols['numerical_cols'].append('AgeuponOutcome')\n",
    "dict_cols['numerical_cols'].append('NameLength')"
   ]
  },
  {
   "cell_type": "code",
   "execution_count": 607,
   "metadata": {
    "collapsed": true
   },
   "outputs": [],
   "source": [
    "full_data['year'] = full_data['DateTime'].dt.year\n",
    "full_data['month'] = full_data['DateTime'].dt.month\n",
    "full_data['day'] = full_data['DateTime'].dt.day\n",
    "full_data['weekday'] = full_data['DateTime'].dt.dayofweek\n",
    "full_data['weekyear'] = full_data['DateTime'].dt.weekofyear\n",
    "full_data['hour'] = full_data['DateTime'].dt.hour"
   ]
  },
  {
   "cell_type": "code",
   "execution_count": 608,
   "metadata": {
    "collapsed": true
   },
   "outputs": [],
   "source": [
    "dict_cols['numerical_cols'].append('year')\n",
    "dict_cols['numerical_cols'].append('month')\n",
    "dict_cols['numerical_cols'].append('day')\n",
    "dict_cols['numerical_cols'].append('weekday')\n",
    "dict_cols['numerical_cols'].append('weekyear')\n",
    "dict_cols['numerical_cols'].append('hour') "
   ]
  },
  {
   "cell_type": "code",
   "execution_count": 617,
   "metadata": {
    "collapsed": true
   },
   "outputs": [],
   "source": [
    "# add holidays\n",
    "import pandas as pd\n",
    "from pandas.tseries.holiday import USFederalHolidayCalendar as calendar\n",
    "# add holidays\n",
    "cal = calendar()\n",
    "holidays = cal.holidays(start=full_data['DateTime'].min(), end=full_data['DateTime'].max())\n",
    "full_data['isholiday'] = dr.isin(holidays)\n",
    "dict_cols['categorical_cols'].append('isholiday')"
   ]
  },
  {
   "cell_type": "code",
   "execution_count": null,
   "metadata": {
    "collapsed": true
   },
   "outputs": [],
   "source": []
  },
  {
   "cell_type": "code",
   "execution_count": 620,
   "metadata": {
    "collapsed": false
   },
   "outputs": [
    {
     "name": "stdout",
     "output_type": "stream",
     "text": [
      "Label encoding column: Name\n",
      "Label encoding column: AnimalType\n",
      "Label encoding column: SexuponOutcome\n",
      "Label encoding column: Breed\n",
      "Label encoding column: Color\n",
      "Label encoding column: DateTime\n",
      "Label encoding column: isholiday\n",
      "Label encoding column: OutcomeType\n"
     ]
    },
    {
     "data": {
      "text/plain": [
       "{nan: 0,\n",
       " 'Adoption': 1,\n",
       " 'Died': 2,\n",
       " 'Euthanasia': 3,\n",
       " 'Return_to_owner': 4,\n",
       " 'Transfer': 5}"
      ]
     },
     "execution_count": 620,
     "metadata": {},
     "output_type": "execute_result"
    }
   ],
   "source": [
    "label_encoding(dict_cols['categorical_cols'] + dict_cols['label_col'], full_data)"
   ]
  },
  {
   "cell_type": "code",
   "execution_count": 622,
   "metadata": {
    "collapsed": false
   },
   "outputs": [
    {
     "name": "stdout",
     "output_type": "stream",
     "text": [
      "Fitting 4 folds for each of 2 candidates, totalling 8 fits\n",
      "[CV] n_estimators=500, random_state=1234, criterion=gini .............\n",
      "[CV] n_estimators=500, random_state=1234, criterion=gini .............\n",
      "[CV] n_estimators=500, random_state=1234, criterion=gini .............\n",
      "[CV] n_estimators=500, random_state=1234, criterion=gini .............\n",
      "[CV] n_estimators=500, random_state=1234, criterion=entropy ..........\n",
      "[CV] n_estimators=500, random_state=1234, criterion=entropy ..........\n",
      "[CV] n_estimators=500, random_state=1234, criterion=entropy ..........\n",
      "[CV] n_estimators=500, random_state=1234, criterion=entropy ..........\n",
      "[CV]  n_estimators=500, random_state=1234, criterion=gini, score=-0.794601 -  24.9s\n",
      "[CV]  n_estimators=500, random_state=1234, criterion=gini, score=-0.802767 -  25.1s\n",
      "[CV]  n_estimators=500, random_state=1234, criterion=gini, score=-0.816322 -  25.1s\n",
      "[CV]  n_estimators=500, random_state=1234, criterion=gini, score=-0.794220 -  25.2s\n"
     ]
    },
    {
     "name": "stderr",
     "output_type": "stream",
     "text": [
      "[Parallel(n_jobs=-1)]: Done   9 out of   8 | elapsed:   25.1s remaining:   -2.8s\n",
      "[Parallel(n_jobs=-1)]: Done   9 out of   8 | elapsed:   25.2s remaining:   -2.8s\n",
      "[Parallel(n_jobs=-1)]: Done   9 out of   8 | elapsed:   25.3s remaining:   -2.8s\n"
     ]
    },
    {
     "name": "stdout",
     "output_type": "stream",
     "text": [
      "[CV]  n_estimators=500, random_state=1234, criterion=entropy, score=-0.798967 -  33.0s\n",
      "[CV]  n_estimators=500, random_state=1234, criterion=entropy, score=-0.788518 -  33.0s\n",
      "[CV]  n_estimators=500, random_state=1234, criterion=entropy, score=-0.816734 -  33.1s\n",
      "[CV]  n_estimators=500, random_state=1234, criterion=entropy, score=-0.824836 -  33.1s\n"
     ]
    },
    {
     "name": "stderr",
     "output_type": "stream",
     "text": [
      "[Parallel(n_jobs=-1)]: Done   9 out of   8 | elapsed:   33.1s remaining:   -3.7s\n",
      "[Parallel(n_jobs=-1)]: Done   9 out of   8 | elapsed:   33.2s remaining:   -3.7s\n",
      "[Parallel(n_jobs=-1)]: Done   9 out of   8 | elapsed:   33.2s remaining:   -3.7s\n",
      "[Parallel(n_jobs=-1)]: Done   9 out of   8 | elapsed:   33.3s remaining:   -3.7s\n",
      "[Parallel(n_jobs=-1)]: Done   8 out of   8 | elapsed:   33.3s finished\n"
     ]
    },
    {
     "name": "stdout",
     "output_type": "stream",
     "text": [
      "Best score: -0.802\n",
      "('Best parameters set:', {'n_estimators': 500, 'random_state': 1234, 'criterion': 'gini'})\n",
      "('Scores:', [mean: -0.80198, std: 0.00896, params: {'n_estimators': 500, 'random_state': 1234, 'criterion': 'gini'}, mean: -0.80726, std: 0.01431, params: {'n_estimators': 500, 'random_state': 1234, 'criterion': 'entropy'}])\n"
     ]
    }
   ],
   "source": [
    "train_X = full_data[:dict_cols['train_size']][dict_cols['categorical_cols'] + dict_cols['numerical_cols']].values\n",
    "train_y = full_data[:dict_cols['train_size']][dict_cols['label_col']].values.reshape(dict_cols['train_size'])\n",
    "param_grid = {'criterion':['gini', 'entropy'], 'n_estimators':[500], 'random_state' : [1234]}\n",
    "model = search_model(train_X\n",
    "            , train_y\n",
    "            , RandomForestClassifier()\n",
    "            , param_grid\n",
    "            , -1\n",
    "            , 4\n",
    "            , True)"
   ]
  },
  {
   "cell_type": "code",
   "execution_count": 623,
   "metadata": {
    "collapsed": true
   },
   "outputs": [],
   "source": [
    "preds = model.best_estimator_.predict(full_data[dict_cols['train_size']:][dict_cols['categorical_cols'] + dict_cols['numerical_cols']])"
   ]
  },
  {
   "cell_type": "code",
   "execution_count": null,
   "metadata": {
    "collapsed": true
   },
   "outputs": [],
   "source": [
    "With age into days, the name length, breed merged, datetime split, the lb score is 10.404\n",
    "# Get genders by names using https://genderize.io and see if it helps\n",
    "genders not help with lb 12.00235\n",
    "\n",
    "# Add noises to age (days) - hint: using random function.\n",
    "10.45268\n",
    "\n",
    "# Add holidays and validate the impacts"
   ]
  },
  {
   "cell_type": "markdown",
   "metadata": {},
   "source": [
    "## add all up"
   ]
  },
  {
   "cell_type": "code",
   "execution_count": 626,
   "metadata": {
    "collapsed": false
   },
   "outputs": [
    {
     "name": "stdout",
     "output_type": "stream",
     "text": [
      "Loading train data finished in 0.068s\n",
      "Loading test data finished in 0.090s\n",
      "train data size: 26729\n",
      "test data size: 11456\n"
     ]
    }
   ],
   "source": [
    "dict_cols, full_data = load_data()\n",
    "full_data['AgeuponOutcome'] = full_data['AgeuponOutcome'].apply(age2days)\n",
    "full_data['Breed'] = full_data['Breed'].apply(lambda x: '-'.join(sorted(list(set(x.split(\"/\"))))))\n",
    "full_data['NameLength'] = full_data['Name'].apply(lambda x: len(str(x)) if x else 0)"
   ]
  },
  {
   "cell_type": "code",
   "execution_count": 627,
   "metadata": {
    "collapsed": true
   },
   "outputs": [],
   "source": [
    "dict_cols['categorical_cols'].remove('AgeuponOutcome')\n",
    "dict_cols['numerical_cols'].append('AgeuponOutcome')\n",
    "dict_cols['numerical_cols'].append('NameLength')"
   ]
  },
  {
   "cell_type": "code",
   "execution_count": 628,
   "metadata": {
    "collapsed": true
   },
   "outputs": [],
   "source": [
    "full_data['year'] = full_data['DateTime'].dt.year\n",
    "full_data['month'] = full_data['DateTime'].dt.month\n",
    "full_data['day'] = full_data['DateTime'].dt.day\n",
    "full_data['weekday'] = full_data['DateTime'].dt.dayofweek\n",
    "full_data['weekyear'] = full_data['DateTime'].dt.weekofyear\n",
    "full_data['hour'] = full_data['DateTime'].dt.hour"
   ]
  },
  {
   "cell_type": "code",
   "execution_count": 629,
   "metadata": {
    "collapsed": true
   },
   "outputs": [],
   "source": [
    "dict_cols['numerical_cols'].append('year')\n",
    "dict_cols['numerical_cols'].append('month')\n",
    "dict_cols['numerical_cols'].append('day')\n",
    "dict_cols['numerical_cols'].append('weekday')\n",
    "dict_cols['numerical_cols'].append('weekyear')\n",
    "dict_cols['numerical_cols'].append('hour') "
   ]
  },
  {
   "cell_type": "code",
   "execution_count": 630,
   "metadata": {
    "collapsed": true
   },
   "outputs": [],
   "source": [
    "# add holidays\n",
    "import pandas as pd\n",
    "from pandas.tseries.holiday import USFederalHolidayCalendar as calendar\n",
    "# add holidays\n",
    "cal = calendar()\n",
    "holidays = cal.holidays(start=full_data['DateTime'].min(), end=full_data['DateTime'].max())\n",
    "full_data['isholiday'] = dr.isin(holidays)\n",
    "dict_cols['categorical_cols'].append('isholiday')"
   ]
  },
  {
   "cell_type": "code",
   "execution_count": 631,
   "metadata": {
    "collapsed": true
   },
   "outputs": [],
   "source": [
    "# transform sexuponoutcome into female, male, none\n",
    "import re\n",
    "full_data['SexuponOutcome'] = full_data['SexuponOutcome'].apply(lambda x : ''.join(re.findall(r'Male|Female', str(x))).lower() if x==x else '')\n",
    "\n",
    "# obtain gender from name\n",
    "namegender = pd.read_csv('./data/namegender.csv').set_index('name')\n",
    "namegender['gender'].replace('none', '', inplace=True)\n",
    "\n",
    "def get_gender(x):\n",
    "    if x in list(namegender.index):\n",
    "        return ''.join(namegender.loc[x]['gender'])\n",
    "    else:\n",
    "        return ''\n",
    "    \n",
    "full_data['namegender'] = full_data['Name'].apply(lambda x : get_gender(x) if x==x else '')\n",
    "dict_cols['categorical_cols'].append('namegender')\n",
    "# add new feature of if name gender is equal to sex\n",
    "full_data['sex_gender'] = full_data.apply(lambda x : x['SexuponOutcome'] == x['namegender'], axis=1)\n",
    "dict_cols['categorical_cols'].append('sex_gender')"
   ]
  },
  {
   "cell_type": "code",
   "execution_count": 632,
   "metadata": {
    "collapsed": true
   },
   "outputs": [],
   "source": [
    "# add one random day between 0 to 100\n",
    "full_data['AgeuponOutcome'] = full_data['AgeuponOutcome'].apply(lambda x : x + random.randrange(0, 101, 1))"
   ]
  },
  {
   "cell_type": "code",
   "execution_count": 633,
   "metadata": {
    "collapsed": false
   },
   "outputs": [
    {
     "name": "stdout",
     "output_type": "stream",
     "text": [
      "Label encoding column: Name\n",
      "Label encoding column: AnimalType\n",
      "Label encoding column: SexuponOutcome\n",
      "Label encoding column: Breed\n",
      "Label encoding column: Color\n",
      "Label encoding column: DateTime\n",
      "Label encoding column: isholiday\n",
      "Label encoding column: namegender\n",
      "Label encoding column: sex_gender\n",
      "Label encoding column: OutcomeType\n"
     ]
    },
    {
     "data": {
      "text/plain": [
       "{nan: 0,\n",
       " 'Adoption': 1,\n",
       " 'Died': 2,\n",
       " 'Euthanasia': 3,\n",
       " 'Return_to_owner': 4,\n",
       " 'Transfer': 5}"
      ]
     },
     "execution_count": 633,
     "metadata": {},
     "output_type": "execute_result"
    }
   ],
   "source": [
    "label_encoding(dict_cols['categorical_cols'] + dict_cols['label_col'], full_data)"
   ]
  },
  {
   "cell_type": "code",
   "execution_count": 634,
   "metadata": {
    "collapsed": false
   },
   "outputs": [
    {
     "name": "stdout",
     "output_type": "stream",
     "text": [
      "Fitting 4 folds for each of 2 candidates, totalling 8 fits\n",
      "[CV] n_estimators=500, random_state=1234, criterion=gini .............\n",
      "[CV] n_estimators=500, random_state=1234, criterion=gini .............\n",
      "[CV] n_estimators=500, random_state=1234, criterion=gini .............\n",
      "[CV] n_estimators=500, random_state=1234, criterion=gini .............\n",
      "[CV] n_estimators=500, random_state=1234, criterion=entropy ..........\n",
      "[CV] n_estimators=500, random_state=1234, criterion=entropy ..........\n",
      "[CV] n_estimators=500, random_state=1234, criterion=entropy ..........\n",
      "[CV] n_estimators=500, random_state=1234, criterion=entropy ..........\n",
      "[CV]  n_estimators=500, random_state=1234, criterion=gini, score=-0.899731 -  33.1s\n",
      "[CV]  n_estimators=500, random_state=1234, criterion=gini, score=-0.910924 -  33.2s\n",
      "[CV]  n_estimators=500, random_state=1234, criterion=gini, score=-0.903366 -  33.2s\n",
      "[CV]  n_estimators=500, random_state=1234, criterion=gini, score=-0.897818 -  33.3s\n"
     ]
    },
    {
     "name": "stderr",
     "output_type": "stream",
     "text": [
      "[Parallel(n_jobs=-1)]: Done   9 out of   8 | elapsed:   33.3s remaining:   -3.7s\n",
      "[Parallel(n_jobs=-1)]: Done   9 out of   8 | elapsed:   33.3s remaining:   -3.7s\n",
      "[Parallel(n_jobs=-1)]: Done   9 out of   8 | elapsed:   33.4s remaining:   -3.7s\n"
     ]
    },
    {
     "name": "stdout",
     "output_type": "stream",
     "text": [
      "[CV]  n_estimators=500, random_state=1234, criterion=entropy, score=-0.900559 -  44.7s\n",
      "[CV]  n_estimators=500, random_state=1234, criterion=entropy, score=-0.911982 -  44.8s\n",
      "[CV]  n_estimators=500, random_state=1234, criterion=entropy, score=-0.874973 -  44.8s\n"
     ]
    },
    {
     "name": "stderr",
     "output_type": "stream",
     "text": [
      "[Parallel(n_jobs=-1)]: Done   9 out of   8 | elapsed:   44.8s remaining:   -5.0s\n",
      "[Parallel(n_jobs=-1)]: Done   9 out of   8 | elapsed:   44.9s remaining:   -5.0s\n",
      "[Parallel(n_jobs=-1)]: Done   9 out of   8 | elapsed:   44.9s remaining:   -5.0s\n"
     ]
    },
    {
     "name": "stdout",
     "output_type": "stream",
     "text": [
      "[CV]  n_estimators=500, random_state=1234, criterion=entropy, score=-0.892041 -  44.9s\n"
     ]
    },
    {
     "name": "stderr",
     "output_type": "stream",
     "text": [
      "[Parallel(n_jobs=-1)]: Done   9 out of   8 | elapsed:   45.0s remaining:   -5.0s\n",
      "[Parallel(n_jobs=-1)]: Done   8 out of   8 | elapsed:   45.0s finished\n"
     ]
    },
    {
     "name": "stdout",
     "output_type": "stream",
     "text": [
      "Best score: -0.895\n",
      "('Best parameters set:', {'n_estimators': 500, 'random_state': 1234, 'criterion': 'entropy'})\n",
      "('Scores:', [mean: -0.90296, std: 0.00501, params: {'n_estimators': 500, 'random_state': 1234, 'criterion': 'gini'}, mean: -0.89489, std: 0.01350, params: {'n_estimators': 500, 'random_state': 1234, 'criterion': 'entropy'}])\n"
     ]
    }
   ],
   "source": [
    "train_X = full_data[:dict_cols['train_size']][dict_cols['categorical_cols'] + dict_cols['numerical_cols']].values\n",
    "train_y = full_data[:dict_cols['train_size']][dict_cols['label_col']].values.reshape(dict_cols['train_size'])\n",
    "param_grid = {'criterion':['gini', 'entropy'], 'n_estimators':[500], 'random_state' : [1234]}\n",
    "model = search_model(train_X\n",
    "            , train_y\n",
    "            , RandomForestClassifier()\n",
    "            , param_grid\n",
    "            , -1\n",
    "            , 4\n",
    "            , True)"
   ]
  },
  {
   "cell_type": "code",
   "execution_count": null,
   "metadata": {
    "collapsed": true
   },
   "outputs": [],
   "source": [
    "preds = model.best_estimator_.predict(full_data[dict_cols['train_size']:][dict_cols['categorical_cols'] + dict_cols['numerical_cols']])"
   ]
  },
  {
   "cell_type": "markdown",
   "metadata": {
    "collapsed": true
   },
   "source": [
    "## write out submission"
   ]
  },
  {
   "cell_type": "code",
   "execution_count": 624,
   "metadata": {
    "collapsed": true
   },
   "outputs": [],
   "source": [
    "submission = pd.read_csv('./data/sample_submission.csv')\n",
    "submission['Adoption'] = 0\n",
    "#label_mapping\n",
    "for idx, val in enumerate(preds):\n",
    "    #print index, value\n",
    "    if val == 0:\n",
    "        submission.iloc[idx]['Died'] = 1\n",
    "    else:\n",
    "        submission.iloc[idx][val] = 1"
   ]
  },
  {
   "cell_type": "code",
   "execution_count": 625,
   "metadata": {
    "collapsed": true
   },
   "outputs": [],
   "source": [
    "path = './data/submission_' + str(datetime.datetime.now().strftime(\"%Y-%m-%d-%H-%M\")) + '.csv'\n",
    "submission.to_csv(path, index=False)"
   ]
  },
  {
   "cell_type": "code",
   "execution_count": null,
   "metadata": {
    "collapsed": true
   },
   "outputs": [],
   "source": []
  }
 ],
 "metadata": {
  "kernelspec": {
   "display_name": "Python 2",
   "language": "python",
   "name": "python2"
  },
  "language_info": {
   "codemirror_mode": {
    "name": "ipython",
    "version": 2
   },
   "file_extension": ".py",
   "mimetype": "text/x-python",
   "name": "python",
   "nbconvert_exporter": "python",
   "pygments_lexer": "ipython2",
   "version": "2.7.10"
  }
 },
 "nbformat": 4,
 "nbformat_minor": 0
}
