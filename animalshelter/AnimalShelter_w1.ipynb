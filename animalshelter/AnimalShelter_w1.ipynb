{
 "cells": [
  {
   "cell_type": "code",
   "execution_count": 492,
   "metadata": {
    "collapsed": false
   },
   "outputs": [],
   "source": [
    "import xgboost as xgb\n",
    "import pandas as pd\n",
    "from sklearn.ensemble import RandomForestClassifier\n",
    "from sklearn import preprocessing, pipeline, metrics, grid_search, cross_validation\n",
    "import time\n",
    "import random\n",
    "import numpy as np\n",
    "import datetime\n",
    "from sklearn.preprocessing import OneHotEncoder\n",
    "from sklearn.externals import joblib"
   ]
  },
  {
   "cell_type": "markdown",
   "metadata": {},
   "source": [
    "## 1. Load data"
   ]
  },
  {
   "cell_type": "code",
   "execution_count": 239,
   "metadata": {
    "collapsed": false
   },
   "outputs": [
    {
     "name": "stdout",
     "output_type": "stream",
     "text": [
      "Loading train data finished in 0.069s\n",
      "Loading test data finished in 0.093s\n"
     ]
    }
   ],
   "source": [
    "# Load data\n",
    "start = time.time() \n",
    "train = pd.read_csv('./data/train.csv', parse_dates=['DateTime'])\n",
    "print (\"Loading train data finished in %0.3fs\" % (time.time() - start))        \n",
    "\n",
    "test = pd.read_csv('./data/test.csv', parse_dates=['DateTime'])\n",
    "print (\"Loading test data finished in %0.3fs\" % (time.time() - start))        "
   ]
  },
  {
   "cell_type": "code",
   "execution_count": 240,
   "metadata": {
    "collapsed": false
   },
   "outputs": [
    {
     "data": {
      "text/plain": [
       "Index([u'AnimalID', u'Name', u'DateTime', u'OutcomeType', u'OutcomeSubtype',\n",
       "       u'AnimalType', u'SexuponOutcome', u'AgeuponOutcome', u'Breed',\n",
       "       u'Color'],\n",
       "      dtype='object')"
      ]
     },
     "execution_count": 240,
     "metadata": {},
     "output_type": "execute_result"
    }
   ],
   "source": [
    "train.columns"
   ]
  },
  {
   "cell_type": "code",
   "execution_count": 241,
   "metadata": {
    "collapsed": false
   },
   "outputs": [
    {
     "data": {
      "text/plain": [
       "Index([u'ID', u'Name', u'DateTime', u'AnimalType', u'SexuponOutcome',\n",
       "       u'AgeuponOutcome', u'Breed', u'Color'],\n",
       "      dtype='object')"
      ]
     },
     "execution_count": 241,
     "metadata": {},
     "output_type": "execute_result"
    }
   ],
   "source": [
    "test.columns"
   ]
  },
  {
   "cell_type": "code",
   "execution_count": 242,
   "metadata": {
    "collapsed": true
   },
   "outputs": [],
   "source": [
    "# OutcomeType, OutcomeSubtype not shown in test data"
   ]
  },
  {
   "cell_type": "code",
   "execution_count": 243,
   "metadata": {
    "collapsed": false
   },
   "outputs": [
    {
     "data": {
      "text/plain": [
       "AnimalID                  object\n",
       "Name                      object\n",
       "DateTime          datetime64[ns]\n",
       "OutcomeType               object\n",
       "OutcomeSubtype            object\n",
       "AnimalType                object\n",
       "SexuponOutcome            object\n",
       "AgeuponOutcome            object\n",
       "Breed                     object\n",
       "Color                     object\n",
       "dtype: object"
      ]
     },
     "execution_count": 243,
     "metadata": {},
     "output_type": "execute_result"
    }
   ],
   "source": [
    "train.dtypes"
   ]
  },
  {
   "cell_type": "markdown",
   "metadata": {},
   "source": [
    "## 2. Classifiy columns into categorical, numerical, label and id"
   ]
  },
  {
   "cell_type": "code",
   "execution_count": 442,
   "metadata": {
    "collapsed": false,
    "scrolled": true
   },
   "outputs": [
    {
     "name": "stdout",
     "output_type": "stream",
     "text": [
      "{'label_col': ['OutcomeType'], 'id_col': ['AnimalID'], 'numerical_cols': [], 'categorical_cols': ['Name', 'AnimalType', 'SexuponOutcome', 'AgeuponOutcome', 'Breed', 'Color', 'DateTime']}\n"
     ]
    }
   ],
   "source": [
    "# seperate column names by categorical, numerical, label, and id\n",
    "data_types = train.dtypes  \n",
    "categorical_cols = list(data_types[data_types=='object'].index) + list(data_types[data_types=='datetime64[ns]'].index)\n",
    "numerical_cols = list(data_types[data_types=='int64'].index) + list(data_types[data_types=='float64'].index)\n",
    "\n",
    "dict_cols = dict()\n",
    "\n",
    "# categorical columns\n",
    "dict_cols['categorical_cols'] = categorical_cols\n",
    "dict_cols['categorical_cols'].remove('AnimalID') # remove ids\n",
    "dict_cols['categorical_cols'].remove('OutcomeType') # remove labels\n",
    "dict_cols['categorical_cols'].remove('OutcomeSubtype')\n",
    "\n",
    "# numeric columns\n",
    "dict_cols['numerical_cols'] = numerical_cols\n",
    "\n",
    "# id columns\n",
    "dict_cols['id_col'] = ['AnimalID']\n",
    "\n",
    "# label columns\n",
    "dict_cols['label_col'] = ['OutcomeType']\n",
    "\n",
    "print dict_cols"
   ]
  },
  {
   "cell_type": "markdown",
   "metadata": {},
   "source": [
    "## 3. Transform features"
   ]
  },
  {
   "cell_type": "code",
   "execution_count": 443,
   "metadata": {
    "collapsed": true
   },
   "outputs": [],
   "source": [
    "# merge train and test data"
   ]
  },
  {
   "cell_type": "code",
   "execution_count": 444,
   "metadata": {
    "collapsed": false
   },
   "outputs": [
    {
     "name": "stdout",
     "output_type": "stream",
     "text": [
      "train data size: 26729\n",
      "test data size: 11456\n"
     ]
    }
   ],
   "source": [
    "# Merge train and test\n",
    "dict_cols['train_size'] = train.shape[0]\n",
    "dict_cols['test_size'] = test.shape[0]\n",
    "print 'train data size: %s' % dict_cols['train_size']\n",
    "print 'test data size: %s' % dict_cols['test_size']"
   ]
  },
  {
   "cell_type": "code",
   "execution_count": 410,
   "metadata": {
    "collapsed": false
   },
   "outputs": [
    {
     "data": {
      "text/plain": [
       "(38185, 8)"
      ]
     },
     "execution_count": 410,
     "metadata": {},
     "output_type": "execute_result"
    }
   ],
   "source": [
    "full_data = pd.concat([train[dict_cols['categorical_cols'] + dict_cols['numerical_cols'] + dict_cols['label_col']]\n",
    "                     , test[dict_cols['categorical_cols'] + dict_cols['numerical_cols']]\n",
    "                    ])\n",
    "\n",
    "full_data.shape"
   ]
  },
  {
   "cell_type": "code",
   "execution_count": 411,
   "metadata": {
    "collapsed": false
   },
   "outputs": [
    {
     "data": {
      "text/html": [
       "<div>\n",
       "<table border=\"1\" class=\"dataframe\">\n",
       "  <thead>\n",
       "    <tr style=\"text-align: right;\">\n",
       "      <th></th>\n",
       "      <th>AgeuponOutcome</th>\n",
       "      <th>AnimalType</th>\n",
       "      <th>Breed</th>\n",
       "      <th>Color</th>\n",
       "      <th>DateTime</th>\n",
       "      <th>Name</th>\n",
       "      <th>OutcomeType</th>\n",
       "      <th>SexuponOutcome</th>\n",
       "    </tr>\n",
       "  </thead>\n",
       "  <tbody>\n",
       "    <tr>\n",
       "      <th>0</th>\n",
       "      <td>1 year</td>\n",
       "      <td>Dog</td>\n",
       "      <td>Shetland Sheepdog Mix</td>\n",
       "      <td>Brown/White</td>\n",
       "      <td>2014-02-12 18:22:00</td>\n",
       "      <td>Hambone</td>\n",
       "      <td>Return_to_owner</td>\n",
       "      <td>Neutered Male</td>\n",
       "    </tr>\n",
       "    <tr>\n",
       "      <th>1</th>\n",
       "      <td>1 year</td>\n",
       "      <td>Cat</td>\n",
       "      <td>Domestic Shorthair Mix</td>\n",
       "      <td>Cream Tabby</td>\n",
       "      <td>2013-10-13 12:44:00</td>\n",
       "      <td>Emily</td>\n",
       "      <td>Euthanasia</td>\n",
       "      <td>Spayed Female</td>\n",
       "    </tr>\n",
       "    <tr>\n",
       "      <th>2</th>\n",
       "      <td>2 years</td>\n",
       "      <td>Dog</td>\n",
       "      <td>Pit Bull Mix</td>\n",
       "      <td>Blue/White</td>\n",
       "      <td>2015-01-31 12:28:00</td>\n",
       "      <td>Pearce</td>\n",
       "      <td>Adoption</td>\n",
       "      <td>Neutered Male</td>\n",
       "    </tr>\n",
       "    <tr>\n",
       "      <th>3</th>\n",
       "      <td>3 weeks</td>\n",
       "      <td>Cat</td>\n",
       "      <td>Domestic Shorthair Mix</td>\n",
       "      <td>Blue Cream</td>\n",
       "      <td>2014-07-11 19:09:00</td>\n",
       "      <td>NaN</td>\n",
       "      <td>Transfer</td>\n",
       "      <td>Intact Male</td>\n",
       "    </tr>\n",
       "    <tr>\n",
       "      <th>4</th>\n",
       "      <td>2 years</td>\n",
       "      <td>Dog</td>\n",
       "      <td>Lhasa Apso/Miniature Poodle</td>\n",
       "      <td>Tan</td>\n",
       "      <td>2013-11-15 12:52:00</td>\n",
       "      <td>NaN</td>\n",
       "      <td>Transfer</td>\n",
       "      <td>Neutered Male</td>\n",
       "    </tr>\n",
       "  </tbody>\n",
       "</table>\n",
       "</div>"
      ],
      "text/plain": [
       "  AgeuponOutcome AnimalType                        Breed        Color  \\\n",
       "0         1 year        Dog        Shetland Sheepdog Mix  Brown/White   \n",
       "1         1 year        Cat       Domestic Shorthair Mix  Cream Tabby   \n",
       "2        2 years        Dog                 Pit Bull Mix   Blue/White   \n",
       "3        3 weeks        Cat       Domestic Shorthair Mix   Blue Cream   \n",
       "4        2 years        Dog  Lhasa Apso/Miniature Poodle          Tan   \n",
       "\n",
       "             DateTime     Name      OutcomeType SexuponOutcome  \n",
       "0 2014-02-12 18:22:00  Hambone  Return_to_owner  Neutered Male  \n",
       "1 2013-10-13 12:44:00    Emily       Euthanasia  Spayed Female  \n",
       "2 2015-01-31 12:28:00   Pearce         Adoption  Neutered Male  \n",
       "3 2014-07-11 19:09:00      NaN         Transfer    Intact Male  \n",
       "4 2013-11-15 12:52:00      NaN         Transfer  Neutered Male  "
      ]
     },
     "execution_count": 411,
     "metadata": {},
     "output_type": "execute_result"
    }
   ],
   "source": [
    "full_data.head()"
   ]
  },
  {
   "cell_type": "code",
   "execution_count": 412,
   "metadata": {
    "collapsed": false
   },
   "outputs": [
    {
     "data": {
      "text/html": [
       "<div>\n",
       "<table border=\"1\" class=\"dataframe\">\n",
       "  <thead>\n",
       "    <tr style=\"text-align: right;\">\n",
       "      <th></th>\n",
       "      <th>AgeuponOutcome</th>\n",
       "      <th>AnimalType</th>\n",
       "      <th>Breed</th>\n",
       "      <th>Color</th>\n",
       "      <th>DateTime</th>\n",
       "      <th>Name</th>\n",
       "      <th>OutcomeType</th>\n",
       "      <th>SexuponOutcome</th>\n",
       "    </tr>\n",
       "  </thead>\n",
       "  <tbody>\n",
       "    <tr>\n",
       "      <th>count</th>\n",
       "      <td>38161</td>\n",
       "      <td>38185</td>\n",
       "      <td>38185</td>\n",
       "      <td>38185</td>\n",
       "      <td>38185</td>\n",
       "      <td>27269</td>\n",
       "      <td>26729</td>\n",
       "      <td>38184</td>\n",
       "    </tr>\n",
       "    <tr>\n",
       "      <th>unique</th>\n",
       "      <td>45</td>\n",
       "      <td>2</td>\n",
       "      <td>1678</td>\n",
       "      <td>411</td>\n",
       "      <td>31413</td>\n",
       "      <td>7968</td>\n",
       "      <td>5</td>\n",
       "      <td>5</td>\n",
       "    </tr>\n",
       "    <tr>\n",
       "      <th>top</th>\n",
       "      <td>1 year</td>\n",
       "      <td>Dog</td>\n",
       "      <td>Domestic Shorthair Mix</td>\n",
       "      <td>Black/White</td>\n",
       "      <td>2015-08-11 00:00:00</td>\n",
       "      <td>Bella</td>\n",
       "      <td>Adoption</td>\n",
       "      <td>Neutered Male</td>\n",
       "    </tr>\n",
       "    <tr>\n",
       "      <th>freq</th>\n",
       "      <td>5737</td>\n",
       "      <td>22251</td>\n",
       "      <td>12587</td>\n",
       "      <td>4043</td>\n",
       "      <td>25</td>\n",
       "      <td>195</td>\n",
       "      <td>10769</td>\n",
       "      <td>14014</td>\n",
       "    </tr>\n",
       "    <tr>\n",
       "      <th>first</th>\n",
       "      <td>NaN</td>\n",
       "      <td>NaN</td>\n",
       "      <td>NaN</td>\n",
       "      <td>NaN</td>\n",
       "      <td>2013-10-01 09:31:00</td>\n",
       "      <td>NaN</td>\n",
       "      <td>NaN</td>\n",
       "      <td>NaN</td>\n",
       "    </tr>\n",
       "    <tr>\n",
       "      <th>last</th>\n",
       "      <td>NaN</td>\n",
       "      <td>NaN</td>\n",
       "      <td>NaN</td>\n",
       "      <td>NaN</td>\n",
       "      <td>2016-02-21 19:17:00</td>\n",
       "      <td>NaN</td>\n",
       "      <td>NaN</td>\n",
       "      <td>NaN</td>\n",
       "    </tr>\n",
       "  </tbody>\n",
       "</table>\n",
       "</div>"
      ],
      "text/plain": [
       "       AgeuponOutcome AnimalType                   Breed        Color  \\\n",
       "count           38161      38185                   38185        38185   \n",
       "unique             45          2                    1678          411   \n",
       "top            1 year        Dog  Domestic Shorthair Mix  Black/White   \n",
       "freq             5737      22251                   12587         4043   \n",
       "first             NaN        NaN                     NaN          NaN   \n",
       "last              NaN        NaN                     NaN          NaN   \n",
       "\n",
       "                   DateTime   Name OutcomeType SexuponOutcome  \n",
       "count                 38185  27269       26729          38184  \n",
       "unique                31413   7968           5              5  \n",
       "top     2015-08-11 00:00:00  Bella    Adoption  Neutered Male  \n",
       "freq                     25    195       10769          14014  \n",
       "first   2013-10-01 09:31:00    NaN         NaN            NaN  \n",
       "last    2016-02-21 19:17:00    NaN         NaN            NaN  "
      ]
     },
     "execution_count": 412,
     "metadata": {},
     "output_type": "execute_result"
    }
   ],
   "source": [
    "full_data.describe()"
   ]
  },
  {
   "cell_type": "code",
   "execution_count": 413,
   "metadata": {
    "collapsed": true
   },
   "outputs": [],
   "source": [
    "# transofrm datatime into year, month, weekday"
   ]
  },
  {
   "cell_type": "code",
   "execution_count": 414,
   "metadata": {
    "collapsed": false
   },
   "outputs": [],
   "source": [
    "full_data['year'] = full_data['DateTime'].dt.year"
   ]
  },
  {
   "cell_type": "code",
   "execution_count": 415,
   "metadata": {
    "collapsed": true
   },
   "outputs": [],
   "source": [
    "full_data['month'] = full_data['DateTime'].dt.month"
   ]
  },
  {
   "cell_type": "code",
   "execution_count": 416,
   "metadata": {
    "collapsed": true
   },
   "outputs": [],
   "source": [
    "full_data['weekday'] = full_data['DateTime'].dt.weekday"
   ]
  },
  {
   "cell_type": "code",
   "execution_count": 417,
   "metadata": {
    "collapsed": true
   },
   "outputs": [],
   "source": [
    "# transform age into years"
   ]
  },
  {
   "cell_type": "code",
   "execution_count": 418,
   "metadata": {
    "collapsed": true
   },
   "outputs": [],
   "source": [
    "def calc_age_in_years(x):\n",
    "    x = str(x)\n",
    "    if x == 'nan': return 0\n",
    "    age = int(x.split()[0])\n",
    "    if x.find('year') > -1: return age \n",
    "    if x.find('month')> -1: return age / 12.\n",
    "    if x.find('week')> -1: return age / 52.\n",
    "    if x.find('day')> -1: return age / 365.\n",
    "    else: return 0"
   ]
  },
  {
   "cell_type": "code",
   "execution_count": 419,
   "metadata": {
    "collapsed": false
   },
   "outputs": [],
   "source": [
    "full_data['AgeInYears'] = full_data.AgeuponOutcome.apply(calc_age_in_years)"
   ]
  },
  {
   "cell_type": "code",
   "execution_count": 420,
   "metadata": {
    "collapsed": true
   },
   "outputs": [],
   "source": [
    "# transform name into have name or not"
   ]
  },
  {
   "cell_type": "code",
   "execution_count": 421,
   "metadata": {
    "collapsed": false
   },
   "outputs": [],
   "source": [
    "full_data['Name'] = pd.isnull(full_data['Name'])"
   ]
  },
  {
   "cell_type": "code",
   "execution_count": 406,
   "metadata": {
    "collapsed": true
   },
   "outputs": [],
   "source": [
    "# drop DateTime and AgeuponOutcome"
   ]
  },
  {
   "cell_type": "code",
   "execution_count": 423,
   "metadata": {
    "collapsed": false
   },
   "outputs": [],
   "source": [
    "full_data.drop(['DateTime', 'AgeuponOutcome'], axis=1, inplace=True)"
   ]
  },
  {
   "cell_type": "code",
   "execution_count": 424,
   "metadata": {
    "collapsed": false,
    "scrolled": true
   },
   "outputs": [
    {
     "data": {
      "text/html": [
       "<div>\n",
       "<table border=\"1\" class=\"dataframe\">\n",
       "  <thead>\n",
       "    <tr style=\"text-align: right;\">\n",
       "      <th></th>\n",
       "      <th>AnimalType</th>\n",
       "      <th>Breed</th>\n",
       "      <th>Color</th>\n",
       "      <th>Name</th>\n",
       "      <th>OutcomeType</th>\n",
       "      <th>SexuponOutcome</th>\n",
       "      <th>year</th>\n",
       "      <th>month</th>\n",
       "      <th>weekday</th>\n",
       "      <th>AgeInYears</th>\n",
       "    </tr>\n",
       "  </thead>\n",
       "  <tbody>\n",
       "    <tr>\n",
       "      <th>0</th>\n",
       "      <td>Dog</td>\n",
       "      <td>Shetland Sheepdog Mix</td>\n",
       "      <td>Brown/White</td>\n",
       "      <td>False</td>\n",
       "      <td>Return_to_owner</td>\n",
       "      <td>Neutered Male</td>\n",
       "      <td>2014</td>\n",
       "      <td>2</td>\n",
       "      <td>2</td>\n",
       "      <td>1.000000</td>\n",
       "    </tr>\n",
       "    <tr>\n",
       "      <th>1</th>\n",
       "      <td>Cat</td>\n",
       "      <td>Domestic Shorthair Mix</td>\n",
       "      <td>Cream Tabby</td>\n",
       "      <td>False</td>\n",
       "      <td>Euthanasia</td>\n",
       "      <td>Spayed Female</td>\n",
       "      <td>2013</td>\n",
       "      <td>10</td>\n",
       "      <td>6</td>\n",
       "      <td>1.000000</td>\n",
       "    </tr>\n",
       "    <tr>\n",
       "      <th>2</th>\n",
       "      <td>Dog</td>\n",
       "      <td>Pit Bull Mix</td>\n",
       "      <td>Blue/White</td>\n",
       "      <td>False</td>\n",
       "      <td>Adoption</td>\n",
       "      <td>Neutered Male</td>\n",
       "      <td>2015</td>\n",
       "      <td>1</td>\n",
       "      <td>5</td>\n",
       "      <td>2.000000</td>\n",
       "    </tr>\n",
       "    <tr>\n",
       "      <th>3</th>\n",
       "      <td>Cat</td>\n",
       "      <td>Domestic Shorthair Mix</td>\n",
       "      <td>Blue Cream</td>\n",
       "      <td>True</td>\n",
       "      <td>Transfer</td>\n",
       "      <td>Intact Male</td>\n",
       "      <td>2014</td>\n",
       "      <td>7</td>\n",
       "      <td>4</td>\n",
       "      <td>0.057692</td>\n",
       "    </tr>\n",
       "    <tr>\n",
       "      <th>4</th>\n",
       "      <td>Dog</td>\n",
       "      <td>Lhasa Apso/Miniature Poodle</td>\n",
       "      <td>Tan</td>\n",
       "      <td>True</td>\n",
       "      <td>Transfer</td>\n",
       "      <td>Neutered Male</td>\n",
       "      <td>2013</td>\n",
       "      <td>11</td>\n",
       "      <td>4</td>\n",
       "      <td>2.000000</td>\n",
       "    </tr>\n",
       "  </tbody>\n",
       "</table>\n",
       "</div>"
      ],
      "text/plain": [
       "  AnimalType                        Breed        Color   Name  \\\n",
       "0        Dog        Shetland Sheepdog Mix  Brown/White  False   \n",
       "1        Cat       Domestic Shorthair Mix  Cream Tabby  False   \n",
       "2        Dog                 Pit Bull Mix   Blue/White  False   \n",
       "3        Cat       Domestic Shorthair Mix   Blue Cream   True   \n",
       "4        Dog  Lhasa Apso/Miniature Poodle          Tan   True   \n",
       "\n",
       "       OutcomeType SexuponOutcome  year  month  weekday  AgeInYears  \n",
       "0  Return_to_owner  Neutered Male  2014      2        2    1.000000  \n",
       "1       Euthanasia  Spayed Female  2013     10        6    1.000000  \n",
       "2         Adoption  Neutered Male  2015      1        5    2.000000  \n",
       "3         Transfer    Intact Male  2014      7        4    0.057692  \n",
       "4         Transfer  Neutered Male  2013     11        4    2.000000  "
      ]
     },
     "execution_count": 424,
     "metadata": {},
     "output_type": "execute_result"
    }
   ],
   "source": [
    "full_data.head()"
   ]
  },
  {
   "cell_type": "code",
   "execution_count": 426,
   "metadata": {
    "collapsed": true
   },
   "outputs": [],
   "source": [
    "full_data.to_pickle('./data/full_data.pkl')"
   ]
  },
  {
   "cell_type": "code",
   "execution_count": null,
   "metadata": {
    "collapsed": true
   },
   "outputs": [],
   "source": [
    "# update dict_cols"
   ]
  },
  {
   "cell_type": "code",
   "execution_count": 447,
   "metadata": {
    "collapsed": false
   },
   "outputs": [],
   "source": [
    "dict_cols['categorical_cols'].remove('DateTime')\n",
    "dict_cols['categorical_cols'].remove('AgeuponOutcome')"
   ]
  },
  {
   "cell_type": "code",
   "execution_count": 449,
   "metadata": {
    "collapsed": true
   },
   "outputs": [],
   "source": [
    "dict_cols['categorical_cols'].append('year')\n",
    "dict_cols['categorical_cols'].append('month')\n",
    "dict_cols['categorical_cols'].append('weekday')\n",
    "dict_cols['categorical_cols'].append('AgeInYears')"
   ]
  },
  {
   "cell_type": "code",
   "execution_count": 450,
   "metadata": {
    "collapsed": false
   },
   "outputs": [
    {
     "data": {
      "text/plain": [
       "{'categorical_cols': ['Name',\n",
       "  'AnimalType',\n",
       "  'SexuponOutcome',\n",
       "  'Breed',\n",
       "  'Color',\n",
       "  'year',\n",
       "  'month',\n",
       "  'weekday',\n",
       "  'AgeInYears'],\n",
       " 'id_col': ['AnimalID'],\n",
       " 'label_col': ['OutcomeType'],\n",
       " 'numerical_cols': [],\n",
       " 'test_size': 11456,\n",
       " 'train_size': 26729}"
      ]
     },
     "execution_count": 450,
     "metadata": {},
     "output_type": "execute_result"
    }
   ],
   "source": [
    "dict_cols"
   ]
  },
  {
   "cell_type": "markdown",
   "metadata": {},
   "source": [
    "## 4. Label encoding categorical columns for train and test data"
   ]
  },
  {
   "cell_type": "code",
   "execution_count": 451,
   "metadata": {
    "collapsed": false
   },
   "outputs": [
    {
     "name": "stdout",
     "output_type": "stream",
     "text": [
      "Label encoding column: Name\n",
      "Label encoding column: AnimalType\n",
      "Label encoding column: SexuponOutcome\n",
      "Label encoding column: Breed\n",
      "Label encoding column: Color\n",
      "Label encoding column: year\n",
      "Label encoding column: month\n",
      "Label encoding column: weekday\n",
      "Label encoding column: AgeInYears\n"
     ]
    }
   ],
   "source": [
    "# label encoding categorical columns\n",
    "for col in dict_cols['categorical_cols']:\n",
    "    print(\"Label encoding column: %s\" % (col))\n",
    "    LBL = preprocessing.LabelEncoder()\n",
    "    LBL.fit(full_data[col])\n",
    "    full_data[col] = LBL.transform(full_data[col])"
   ]
  },
  {
   "cell_type": "code",
   "execution_count": 452,
   "metadata": {
    "collapsed": false
   },
   "outputs": [
    {
     "name": "stdout",
     "output_type": "stream",
     "text": [
      "Label mapping: {nan: 0, 'Return_to_owner': 4, 'Transfer': 5, 'Adoption': 1, 'Euthanasia': 3, 'Died': 2}\n"
     ]
    }
   ],
   "source": [
    "# record the label mapping\n",
    "LBL = preprocessing.LabelEncoder()\n",
    "LBL.fit(full_data['OutcomeType'])\n",
    "label_mapping = dict(zip(full_data['OutcomeType'].unique(), LBL.transform(full_data['OutcomeType'].unique())))\n",
    "print(\"Label mapping: %s\" % (label_mapping))"
   ]
  },
  {
   "cell_type": "code",
   "execution_count": 453,
   "metadata": {
    "collapsed": false
   },
   "outputs": [
    {
     "name": "stdout",
     "output_type": "stream",
     "text": [
      "Label encoding column: OutcomeType\n"
     ]
    }
   ],
   "source": [
    "# label encode categorical label\n",
    "full_data['OutcomeType'] = LBL.transform(full_data['OutcomeType'])\n",
    "print \"Label encoding column: OutcomeType\""
   ]
  },
  {
   "cell_type": "code",
   "execution_count": 454,
   "metadata": {
    "collapsed": false
   },
   "outputs": [
    {
     "data": {
      "text/plain": [
       "(38185, 10)"
      ]
     },
     "execution_count": 454,
     "metadata": {},
     "output_type": "execute_result"
    }
   ],
   "source": [
    "full_data.shape"
   ]
  },
  {
   "cell_type": "code",
   "execution_count": 455,
   "metadata": {
    "collapsed": false
   },
   "outputs": [
    {
     "data": {
      "text/html": [
       "<div>\n",
       "<table border=\"1\" class=\"dataframe\">\n",
       "  <thead>\n",
       "    <tr style=\"text-align: right;\">\n",
       "      <th></th>\n",
       "      <th>AnimalType</th>\n",
       "      <th>Breed</th>\n",
       "      <th>Color</th>\n",
       "      <th>Name</th>\n",
       "      <th>OutcomeType</th>\n",
       "      <th>SexuponOutcome</th>\n",
       "      <th>year</th>\n",
       "      <th>month</th>\n",
       "      <th>weekday</th>\n",
       "      <th>AgeInYears</th>\n",
       "    </tr>\n",
       "  </thead>\n",
       "  <tbody>\n",
       "    <tr>\n",
       "      <th>0</th>\n",
       "      <td>1</td>\n",
       "      <td>1482</td>\n",
       "      <td>146</td>\n",
       "      <td>0</td>\n",
       "      <td>4</td>\n",
       "      <td>3</td>\n",
       "      <td>1</td>\n",
       "      <td>1</td>\n",
       "      <td>2</td>\n",
       "      <td>23</td>\n",
       "    </tr>\n",
       "    <tr>\n",
       "      <th>1</th>\n",
       "      <td>0</td>\n",
       "      <td>775</td>\n",
       "      <td>184</td>\n",
       "      <td>0</td>\n",
       "      <td>3</td>\n",
       "      <td>4</td>\n",
       "      <td>0</td>\n",
       "      <td>9</td>\n",
       "      <td>6</td>\n",
       "      <td>23</td>\n",
       "    </tr>\n",
       "    <tr>\n",
       "      <th>2</th>\n",
       "      <td>1</td>\n",
       "      <td>1293</td>\n",
       "      <td>97</td>\n",
       "      <td>0</td>\n",
       "      <td>1</td>\n",
       "      <td>3</td>\n",
       "      <td>2</td>\n",
       "      <td>0</td>\n",
       "      <td>5</td>\n",
       "      <td>24</td>\n",
       "    </tr>\n",
       "    <tr>\n",
       "      <th>3</th>\n",
       "      <td>0</td>\n",
       "      <td>775</td>\n",
       "      <td>47</td>\n",
       "      <td>1</td>\n",
       "      <td>5</td>\n",
       "      <td>2</td>\n",
       "      <td>1</td>\n",
       "      <td>6</td>\n",
       "      <td>4</td>\n",
       "      <td>9</td>\n",
       "    </tr>\n",
       "    <tr>\n",
       "      <th>4</th>\n",
       "      <td>1</td>\n",
       "      <td>1101</td>\n",
       "      <td>311</td>\n",
       "      <td>1</td>\n",
       "      <td>5</td>\n",
       "      <td>3</td>\n",
       "      <td>0</td>\n",
       "      <td>10</td>\n",
       "      <td>4</td>\n",
       "      <td>24</td>\n",
       "    </tr>\n",
       "  </tbody>\n",
       "</table>\n",
       "</div>"
      ],
      "text/plain": [
       "   AnimalType  Breed  Color  Name  OutcomeType  SexuponOutcome  year  month  \\\n",
       "0           1   1482    146     0            4               3     1      1   \n",
       "1           0    775    184     0            3               4     0      9   \n",
       "2           1   1293     97     0            1               3     2      0   \n",
       "3           0    775     47     1            5               2     1      6   \n",
       "4           1   1101    311     1            5               3     0     10   \n",
       "\n",
       "   weekday  AgeInYears  \n",
       "0        2          23  \n",
       "1        6          23  \n",
       "2        5          24  \n",
       "3        4           9  \n",
       "4        4          24  "
      ]
     },
     "execution_count": 455,
     "metadata": {},
     "output_type": "execute_result"
    }
   ],
   "source": [
    "full_data.head()"
   ]
  },
  {
   "cell_type": "markdown",
   "metadata": {},
   "source": [
    "## 5. Search models"
   ]
  },
  {
   "cell_type": "code",
   "execution_count": 456,
   "metadata": {
    "collapsed": true
   },
   "outputs": [],
   "source": [
    "## Defind function to grid search the best model\n",
    "def search_model(train_x, train_y, est, param_grid, n_jobs, cv, refit=False):\n",
    "    model = grid_search.GridSearchCV(estimator  = est, \n",
    "                                     param_grid = param_grid, \n",
    "                                     scoring = 'log_loss', \n",
    "                                     verbose = 10, \n",
    "                                     n_jobs  = n_jobs, \n",
    "                                     iid = True, # is identically distributed \n",
    "                                     refit = refit,\n",
    "                                     cv = cv)\n",
    "    # Fit Grid Search Model\n",
    "    model.fit(train_x, train_y)\n",
    "    print(\"Best score: %0.3f\" % model.best_score_)\n",
    "    print(\"Best parameters set:\", model.best_params_)\n",
    "    print(\"Scores:\", model.grid_scores_)\n",
    "    return model"
   ]
  },
  {
   "cell_type": "code",
   "execution_count": 502,
   "metadata": {
    "collapsed": true
   },
   "outputs": [],
   "source": [
    "train_X_label = full_data[:dict_cols['train_size']][dict_cols['categorical_cols']]"
   ]
  },
  {
   "cell_type": "code",
   "execution_count": 503,
   "metadata": {
    "collapsed": false
   },
   "outputs": [],
   "source": [
    "train_y_label = full_data[:dict_cols['train_size']][dict_cols['label_col']].values.reshape(dict_cols['train_size'])"
   ]
  },
  {
   "cell_type": "code",
   "execution_count": 459,
   "metadata": {
    "collapsed": true
   },
   "outputs": [],
   "source": [
    "param_grid = {'criterion':['gini', 'entropy'], 'n_estimators':[500], 'random_state' : [1234]}"
   ]
  },
  {
   "cell_type": "code",
   "execution_count": 460,
   "metadata": {
    "collapsed": false,
    "scrolled": true
   },
   "outputs": [
    {
     "name": "stdout",
     "output_type": "stream",
     "text": [
      "Fitting 4 folds for each of 2 candidates, totalling 8 fits\n",
      "[CV] n_estimators=500, random_state=1234, criterion=gini .............\n",
      "[CV]  n_estimators=500, random_state=1234, criterion=gini, score=-0.945090 -  11.5s\n",
      "[CV] n_estimators=500, random_state=1234, criterion=gini .............\n"
     ]
    },
    {
     "name": "stderr",
     "output_type": "stream",
     "text": [
      "[Parallel(n_jobs=1)]: Done   1 tasks       | elapsed:   11.5s\n"
     ]
    },
    {
     "name": "stdout",
     "output_type": "stream",
     "text": [
      "[CV]  n_estimators=500, random_state=1234, criterion=gini, score=-0.953191 -  11.5s\n",
      "[CV] n_estimators=500, random_state=1234, criterion=gini .............\n",
      "[CV]  n_estimators=500, random_state=1234, criterion=gini, score=-0.933401 -  11.7s\n",
      "[CV] n_estimators=500, random_state=1234, criterion=gini .............\n",
      "[CV]  n_estimators=500, random_state=1234, criterion=gini, score=-0.974801 -  11.5s\n",
      "[CV] n_estimators=500, random_state=1234, criterion=entropy ..........\n"
     ]
    },
    {
     "name": "stderr",
     "output_type": "stream",
     "text": [
      "[Parallel(n_jobs=1)]: Done   4 tasks       | elapsed:   46.3s\n"
     ]
    },
    {
     "name": "stdout",
     "output_type": "stream",
     "text": [
      "[CV]  n_estimators=500, random_state=1234, criterion=entropy, score=-0.967128 -  15.0s\n",
      "[CV] n_estimators=500, random_state=1234, criterion=entropy ..........\n",
      "[CV]  n_estimators=500, random_state=1234, criterion=entropy, score=-0.957786 -  14.4s\n",
      "[CV] n_estimators=500, random_state=1234, criterion=entropy ..........\n",
      "[CV]  n_estimators=500, random_state=1234, criterion=entropy, score=-0.923045 -  14.5s\n",
      "[CV] n_estimators=500, random_state=1234, criterion=entropy ..........\n"
     ]
    },
    {
     "name": "stderr",
     "output_type": "stream",
     "text": [
      "[Parallel(n_jobs=1)]: Done   7 tasks       | elapsed:  1.5min\n"
     ]
    },
    {
     "name": "stdout",
     "output_type": "stream",
     "text": [
      "[CV]  n_estimators=500, random_state=1234, criterion=entropy, score=-0.952309 -  14.4s\n",
      "Best score: -0.950\n",
      "('Best parameters set:', {'n_estimators': 500, 'random_state': 1234, 'criterion': 'entropy'})\n",
      "('Scores:', [mean: -0.95162, std: 0.01512, params: {'n_estimators': 500, 'random_state': 1234, 'criterion': 'gini'}, mean: -0.95007, std: 0.01648, params: {'n_estimators': 500, 'random_state': 1234, 'criterion': 'entropy'}])\n"
     ]
    },
    {
     "name": "stderr",
     "output_type": "stream",
     "text": [
      "[Parallel(n_jobs=1)]: Done   8 out of   8 | elapsed:  1.7min finished\n"
     ]
    }
   ],
   "source": [
    "model = search_model(train_X\n",
    "            , train_y\n",
    "            , RandomForestClassifier()\n",
    "            , param_grid\n",
    "            , 1\n",
    "            , 4)"
   ]
  },
  {
   "cell_type": "code",
   "execution_count": 515,
   "metadata": {
    "collapsed": false
   },
   "outputs": [],
   "source": [
    "rfc_label = RandomForestClassifier(n_estimators=500, random_state=1234, criterion='gini')"
   ]
  },
  {
   "cell_type": "code",
   "execution_count": 516,
   "metadata": {
    "collapsed": false
   },
   "outputs": [],
   "source": [
    "rfc_label_model = rfc_label.fit(train_X_label, train_y_label)"
   ]
  },
  {
   "cell_type": "code",
   "execution_count": 517,
   "metadata": {
    "collapsed": true
   },
   "outputs": [],
   "source": [
    "preds_label = rfc_label_model.predict(full_data[dict_cols['train_size']:][dict_cols['categorical_cols']])"
   ]
  },
  {
   "cell_type": "code",
   "execution_count": 518,
   "metadata": {
    "collapsed": false
   },
   "outputs": [
    {
     "data": {
      "text/plain": [
       "array([1, 5, 5, 1, 4, 5, 1, 1, 1])"
      ]
     },
     "execution_count": 518,
     "metadata": {},
     "output_type": "execute_result"
    }
   ],
   "source": [
    "preds_label[1:10]"
   ]
  },
  {
   "cell_type": "code",
   "execution_count": 519,
   "metadata": {
    "collapsed": false
   },
   "outputs": [
    {
     "data": {
      "text/plain": [
       "{nan: 0,\n",
       " 'Adoption': 1,\n",
       " 'Died': 2,\n",
       " 'Euthanasia': 3,\n",
       " 'Return_to_owner': 4,\n",
       " 'Transfer': 5}"
      ]
     },
     "execution_count": 519,
     "metadata": {},
     "output_type": "execute_result"
    }
   ],
   "source": [
    "label_mapping"
   ]
  },
  {
   "cell_type": "markdown",
   "metadata": {},
   "source": [
    "## Write out submission"
   ]
  },
  {
   "cell_type": "code",
   "execution_count": 468,
   "metadata": {
    "collapsed": false
   },
   "outputs": [],
   "source": [
    "submission = pd.read_csv('./data/sample_submission.csv')"
   ]
  },
  {
   "cell_type": "code",
   "execution_count": 469,
   "metadata": {
    "collapsed": true
   },
   "outputs": [],
   "source": [
    "submission['Adoption'] = 0"
   ]
  },
  {
   "cell_type": "code",
   "execution_count": 470,
   "metadata": {
    "collapsed": false
   },
   "outputs": [
    {
     "data": {
      "text/plain": [
       "{nan: 0,\n",
       " 'Adoption': 1,\n",
       " 'Died': 2,\n",
       " 'Euthanasia': 3,\n",
       " 'Return_to_owner': 4,\n",
       " 'Transfer': 5}"
      ]
     },
     "execution_count": 470,
     "metadata": {},
     "output_type": "execute_result"
    }
   ],
   "source": [
    "label_mapping"
   ]
  },
  {
   "cell_type": "code",
   "execution_count": 471,
   "metadata": {
    "collapsed": false
   },
   "outputs": [],
   "source": [
    "for idx, val in enumerate(preds):\n",
    "    #print index, value\n",
    "    if val == 0:\n",
    "        submission.iloc[idx]['Died'] = 1\n",
    "    else:\n",
    "        submission.iloc[idx][val] = 1"
   ]
  },
  {
   "cell_type": "code",
   "execution_count": 472,
   "metadata": {
    "collapsed": false
   },
   "outputs": [],
   "source": [
    "path = './data/submission_' + str(datetime.datetime.now().strftime(\"%Y-%m-%d-%H-%M\")) + '.csv'"
   ]
  },
  {
   "cell_type": "code",
   "execution_count": 473,
   "metadata": {
    "collapsed": false
   },
   "outputs": [],
   "source": [
    "submission.to_csv(path, index=False)"
   ]
  },
  {
   "cell_type": "markdown",
   "metadata": {},
   "source": [
    "#### Homeworks:\n",
    "1. Apply One-Hot-Encoder for all the categorical columns then remove the original categoricals.\n",
    "2. Check the difference between Label Encoding and One-Hot-Encoding.\n",
    "    Tips: scikit-learn one-hot-encoder or pandas get_dummies()\n",
    "    Question: what if there are levels existing in traning data but not in test data?\n",
    "3. Create submissions using both encoders, as well as a submission that is the average of them. Submit all of the three to see if ensemble helps "
   ]
  },
  {
   "cell_type": "markdown",
   "metadata": {
    "collapsed": true
   },
   "source": [
    "## One Hot encoding"
   ]
  },
  {
   "cell_type": "code",
   "execution_count": 474,
   "metadata": {
    "collapsed": false
   },
   "outputs": [],
   "source": [
    "enc = OneHotEncoder()"
   ]
  },
  {
   "cell_type": "code",
   "execution_count": 475,
   "metadata": {
    "collapsed": false
   },
   "outputs": [
    {
     "data": {
      "text/plain": [
       "OneHotEncoder(categorical_features='all', dtype=<type 'float'>,\n",
       "       handle_unknown='error', n_values='auto', sparse=True)"
      ]
     },
     "execution_count": 475,
     "metadata": {},
     "output_type": "execute_result"
    }
   ],
   "source": [
    "enc.fit(full_data[dict_cols['categorical_cols']])"
   ]
  },
  {
   "cell_type": "code",
   "execution_count": 476,
   "metadata": {
    "collapsed": false
   },
   "outputs": [
    {
     "data": {
      "text/plain": [
       "array([   0,    2,    4,   10, 1688, 2099, 2103, 2115, 2122, 2166])"
      ]
     },
     "execution_count": 476,
     "metadata": {},
     "output_type": "execute_result"
    }
   ],
   "source": [
    "enc.feature_indices_"
   ]
  },
  {
   "cell_type": "code",
   "execution_count": 477,
   "metadata": {
    "collapsed": true
   },
   "outputs": [],
   "source": [
    "one_hot_predictors = enc.transform(full_data[dict_cols['categorical_cols']])"
   ]
  },
  {
   "cell_type": "code",
   "execution_count": 478,
   "metadata": {
    "collapsed": false
   },
   "outputs": [
    {
     "data": {
      "text/plain": [
       "(38185, 2166)"
      ]
     },
     "execution_count": 478,
     "metadata": {},
     "output_type": "execute_result"
    }
   ],
   "source": [
    "one_hot_predictors.shape"
   ]
  },
  {
   "cell_type": "code",
   "execution_count": 495,
   "metadata": {
    "collapsed": true
   },
   "outputs": [],
   "source": [
    "train_X_onehot = one_hot_predictors[:dict_cols['train_size']]\n",
    "train_y_onehot = full_data[:dict_cols['train_size']][dict_cols['label_col']].values.reshape(dict_cols['train_size'])"
   ]
  },
  {
   "cell_type": "code",
   "execution_count": 496,
   "metadata": {
    "collapsed": false
   },
   "outputs": [
    {
     "data": {
      "text/plain": [
       "(26729, 2166)"
      ]
     },
     "execution_count": 496,
     "metadata": {},
     "output_type": "execute_result"
    }
   ],
   "source": [
    "train_X_onehot.shape"
   ]
  },
  {
   "cell_type": "code",
   "execution_count": 497,
   "metadata": {
    "collapsed": false
   },
   "outputs": [
    {
     "data": {
      "text/plain": [
       "(26729,)"
      ]
     },
     "execution_count": 497,
     "metadata": {},
     "output_type": "execute_result"
    }
   ],
   "source": [
    "train_y_onehot.shape"
   ]
  },
  {
   "cell_type": "code",
   "execution_count": 483,
   "metadata": {
    "collapsed": false
   },
   "outputs": [
    {
     "name": "stdout",
     "output_type": "stream",
     "text": [
      "Fitting 4 folds for each of 2 candidates, totalling 8 fits\n",
      "[CV] n_estimators=500, random_state=1234, criterion=gini .............\n",
      "[CV]  n_estimators=500, random_state=1234, criterion=gini, score=-0.894292 - 2.3min\n",
      "[CV] n_estimators=500, random_state=1234, criterion=gini .............\n"
     ]
    },
    {
     "name": "stderr",
     "output_type": "stream",
     "text": [
      "[Parallel(n_jobs=1)]: Done   1 tasks       | elapsed:  2.3min\n"
     ]
    },
    {
     "name": "stdout",
     "output_type": "stream",
     "text": [
      "[CV]  n_estimators=500, random_state=1234, criterion=gini, score=-0.921493 - 2.3min\n",
      "[CV] n_estimators=500, random_state=1234, criterion=gini .............\n",
      "[CV]  n_estimators=500, random_state=1234, criterion=gini, score=-0.927556 - 2.4min\n",
      "[CV] n_estimators=500, random_state=1234, criterion=gini .............\n",
      "[CV]  n_estimators=500, random_state=1234, criterion=gini, score=-0.915387 - 2.4min\n",
      "[CV] n_estimators=500, random_state=1234, criterion=entropy ..........\n"
     ]
    },
    {
     "name": "stderr",
     "output_type": "stream",
     "text": [
      "[Parallel(n_jobs=1)]: Done   4 tasks       | elapsed:  9.4min\n"
     ]
    },
    {
     "name": "stdout",
     "output_type": "stream",
     "text": [
      "[CV]  n_estimators=500, random_state=1234, criterion=entropy, score=-0.930241 - 2.4min\n",
      "[CV] n_estimators=500, random_state=1234, criterion=entropy ..........\n",
      "[CV]  n_estimators=500, random_state=1234, criterion=entropy, score=-0.938151 - 2.4min\n",
      "[CV] n_estimators=500, random_state=1234, criterion=entropy ..........\n",
      "[CV]  n_estimators=500, random_state=1234, criterion=entropy, score=-0.899984 - 2.3min\n",
      "[CV] n_estimators=500, random_state=1234, criterion=entropy ..........\n"
     ]
    },
    {
     "name": "stderr",
     "output_type": "stream",
     "text": [
      "[Parallel(n_jobs=1)]: Done   7 tasks       | elapsed: 16.5min\n"
     ]
    },
    {
     "name": "stdout",
     "output_type": "stream",
     "text": [
      "[CV]  n_estimators=500, random_state=1234, criterion=entropy, score=-0.909402 - 2.4min\n",
      "Best score: -0.915\n",
      "('Best parameters set:', {'n_estimators': 500, 'random_state': 1234, 'criterion': 'gini'})\n",
      "('Scores:', [mean: -0.91468, std: 0.01253, params: {'n_estimators': 500, 'random_state': 1234, 'criterion': 'gini'}, mean: -0.91945, std: 0.01538, params: {'n_estimators': 500, 'random_state': 1234, 'criterion': 'entropy'}])\n"
     ]
    },
    {
     "name": "stderr",
     "output_type": "stream",
     "text": [
      "[Parallel(n_jobs=1)]: Done   8 out of   8 | elapsed: 18.9min finished\n"
     ]
    }
   ],
   "source": [
    "model = search_model(train_X_onehot\n",
    "            , train_y_onehot\n",
    "            , RandomForestClassifier()\n",
    "            , param_grid\n",
    "            , 1\n",
    "            , 4)"
   ]
  },
  {
   "cell_type": "code",
   "execution_count": 494,
   "metadata": {
    "collapsed": true
   },
   "outputs": [],
   "source": [
    "rfc_onehot = RandomForestClassifier(n_estimators=500, random_state=1234, criterion='gini')"
   ]
  },
  {
   "cell_type": "code",
   "execution_count": 498,
   "metadata": {
    "collapsed": true
   },
   "outputs": [],
   "source": [
    "rfc_onehot_model = rfc_onehot.fit(train_X_onehot, train_y_onehot)"
   ]
  },
  {
   "cell_type": "code",
   "execution_count": 539,
   "metadata": {
    "collapsed": true
   },
   "outputs": [],
   "source": [
    "preds_onehot = rfc_onehot_model.predict(one_hot_predictors[dict_cols['train_size']:])"
   ]
  },
  {
   "cell_type": "code",
   "execution_count": 487,
   "metadata": {
    "collapsed": true
   },
   "outputs": [],
   "source": [
    "submission = pd.read_csv('./data/sample_submission.csv')"
   ]
  },
  {
   "cell_type": "code",
   "execution_count": 488,
   "metadata": {
    "collapsed": true
   },
   "outputs": [],
   "source": [
    "submission['Adoption'] = 0"
   ]
  },
  {
   "cell_type": "code",
   "execution_count": 489,
   "metadata": {
    "collapsed": true
   },
   "outputs": [],
   "source": [
    "for idx, val in enumerate(preds):\n",
    "    #print index, value\n",
    "    if val == 0:\n",
    "        submission.iloc[idx]['Died'] = 1\n",
    "    else:\n",
    "        submission.iloc[idx][val] = 1"
   ]
  },
  {
   "cell_type": "code",
   "execution_count": 490,
   "metadata": {
    "collapsed": true
   },
   "outputs": [],
   "source": [
    "path = './data/submission_' + str(datetime.datetime.now().strftime(\"%Y-%m-%d-%H-%M\")) + '.csv'"
   ]
  },
  {
   "cell_type": "code",
   "execution_count": 491,
   "metadata": {
    "collapsed": true
   },
   "outputs": [],
   "source": [
    "submission.to_csv(path, index=False)"
   ]
  },
  {
   "cell_type": "markdown",
   "metadata": {},
   "source": [
    "## Averge both models"
   ]
  },
  {
   "cell_type": "code",
   "execution_count": 530,
   "metadata": {
    "collapsed": false
   },
   "outputs": [
    {
     "data": {
      "text/plain": [
       "array([5, 1, 5, ..., 5, 1, 4])"
      ]
     },
     "execution_count": 530,
     "metadata": {},
     "output_type": "execute_result"
    }
   ],
   "source": [
    "preds_label"
   ]
  },
  {
   "cell_type": "code",
   "execution_count": 531,
   "metadata": {
    "collapsed": false
   },
   "outputs": [
    {
     "data": {
      "text/plain": [
       "array([5, 1, 1, ..., 5, 1, 4])"
      ]
     },
     "execution_count": 531,
     "metadata": {},
     "output_type": "execute_result"
    }
   ],
   "source": [
    "preds_onehot"
   ]
  },
  {
   "cell_type": "code",
   "execution_count": 524,
   "metadata": {
    "collapsed": false
   },
   "outputs": [],
   "source": [
    "label_proba = rfc_label_model.predict_proba(full_data[dict_cols['train_size']:][dict_cols['categorical_cols']])"
   ]
  },
  {
   "cell_type": "code",
   "execution_count": 525,
   "metadata": {
    "collapsed": false
   },
   "outputs": [],
   "source": [
    "onehot_proba = rfc_onehot_model.predict_proba(one_hot_predictors[dict_cols['train_size']:])"
   ]
  },
  {
   "cell_type": "code",
   "execution_count": 526,
   "metadata": {
    "collapsed": true
   },
   "outputs": [],
   "source": [
    "both_proba = label_proba + onehot_proba"
   ]
  },
  {
   "cell_type": "code",
   "execution_count": 527,
   "metadata": {
    "collapsed": false
   },
   "outputs": [
    {
     "data": {
      "text/plain": [
       "array([[ 0.026     ,  0.        ,  0.058     ,  0.374     ,  0.542     ],\n",
       "       [ 0.69      ,  0.        ,  0.        ,  0.17      ,  0.14      ],\n",
       "       [ 0.38526667,  0.        ,  0.        ,  0.134     ,  0.48073333],\n",
       "       ..., \n",
       "       [ 0.        ,  0.        ,  0.026     ,  0.002     ,  0.972     ],\n",
       "       [ 0.474     ,  0.        ,  0.01      ,  0.466     ,  0.05      ],\n",
       "       [ 0.088     ,  0.        ,  0.286     ,  0.418     ,  0.208     ]])"
      ]
     },
     "execution_count": 527,
     "metadata": {},
     "output_type": "execute_result"
    }
   ],
   "source": [
    "label_proba"
   ]
  },
  {
   "cell_type": "code",
   "execution_count": 528,
   "metadata": {
    "collapsed": false
   },
   "outputs": [
    {
     "data": {
      "text/plain": [
       "array([[ 0.124,  0.   ,  0.061,  0.274,  0.541],\n",
       "       [ 0.788,  0.   ,  0.004,  0.106,  0.102],\n",
       "       [ 0.509,  0.002,  0.002,  0.222,  0.265],\n",
       "       ..., \n",
       "       [ 0.   ,  0.002,  0.13 ,  0.   ,  0.868],\n",
       "       [ 0.462,  0.   ,  0.022,  0.398,  0.118],\n",
       "       [ 0.112,  0.   ,  0.164,  0.384,  0.34 ]])"
      ]
     },
     "execution_count": 528,
     "metadata": {},
     "output_type": "execute_result"
    }
   ],
   "source": [
    "onehot_proba"
   ]
  },
  {
   "cell_type": "code",
   "execution_count": 529,
   "metadata": {
    "collapsed": false
   },
   "outputs": [
    {
     "data": {
      "text/plain": [
       "array([[ 0.15      ,  0.        ,  0.119     ,  0.648     ,  1.083     ],\n",
       "       [ 1.478     ,  0.        ,  0.004     ,  0.276     ,  0.242     ],\n",
       "       [ 0.89426667,  0.002     ,  0.002     ,  0.356     ,  0.74573333],\n",
       "       ..., \n",
       "       [ 0.        ,  0.002     ,  0.156     ,  0.002     ,  1.84      ],\n",
       "       [ 0.936     ,  0.        ,  0.032     ,  0.864     ,  0.168     ],\n",
       "       [ 0.2       ,  0.        ,  0.45      ,  0.802     ,  0.548     ]])"
      ]
     },
     "execution_count": 529,
     "metadata": {},
     "output_type": "execute_result"
    }
   ],
   "source": [
    "both_proba"
   ]
  },
  {
   "cell_type": "code",
   "execution_count": 538,
   "metadata": {
    "collapsed": false
   },
   "outputs": [],
   "source": [
    "preds_both = pd.DataFrame(both_proba).idxmax(axis=1) + 1"
   ]
  },
  {
   "cell_type": "code",
   "execution_count": 542,
   "metadata": {
    "collapsed": true
   },
   "outputs": [],
   "source": [
    "submission = pd.read_csv('./data/sample_submission.csv')\n",
    "submission['Adoption'] = 0\n",
    "for idx, val in enumerate(preds_both):\n",
    "    #print index, value\n",
    "    if val == 0:\n",
    "        submission.iloc[idx]['Adoption'] = 1\n",
    "    else:\n",
    "        submission.iloc[idx][val] = 1\n",
    "        \n",
    "path = './data/submission_' + str(datetime.datetime.now().strftime(\"%Y-%m-%d-%H-%M\")) + '.csv'\n",
    "submission.to_csv(path, index=False)"
   ]
  },
  {
   "cell_type": "code",
   "execution_count": null,
   "metadata": {
    "collapsed": true
   },
   "outputs": [],
   "source": []
  }
 ],
 "metadata": {
  "kernelspec": {
   "display_name": "Python 2",
   "language": "python",
   "name": "python2"
  },
  "language_info": {
   "codemirror_mode": {
    "name": "ipython",
    "version": 2
   },
   "file_extension": ".py",
   "mimetype": "text/x-python",
   "name": "python",
   "nbconvert_exporter": "python",
   "pygments_lexer": "ipython2",
   "version": "2.7.10"
  }
 },
 "nbformat": 4,
 "nbformat_minor": 0
}
